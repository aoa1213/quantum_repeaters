{
 "cells": [
  {
   "cell_type": "code",
   "execution_count": 1,
   "id": "80939b38-00a9-40db-9a16-2ac462295f5e",
   "metadata": {},
   "outputs": [],
   "source": [
    "import numpy as np\n",
    "import tqdm as tqdm\n",
    "\n",
    "from protocols import MPC_protocol, MPG_protocol, SP_protocol\n",
    "from graph import network, set_p_edge\n",
    "\n",
    "import matplotlib.pyplot as plt\n",
    "from networkx.drawing.layout import *"
   ]
  },
  {
   "cell_type": "code",
   "execution_count": 2,
   "id": "7218c88f-2273-4dc1-a27a-e12c43c87820",
   "metadata": {},
   "outputs": [],
   "source": [
    "mkr = ['x','+','d','o','1','2']+['x']*100\n",
    "dashs = ['-.','--',':','-']+['-']*100\n",
    "cols = ['gray','g','b','orange','r','k','purple']+['k']*100\n",
    "linewidth = 2.2\n",
    "mks = 5.5\n",
    "fontsize = 14"
   ]
  },
  {
   "attachments": {},
   "cell_type": "markdown",
   "id": "0cd02129-51d1-4981-b3a3-3bd9837b9fc0",
   "metadata": {},
   "source": [
    "Find the ER for the MPC, MPG, and SP protocols"
   ]
  },
  {
   "cell_type": "code",
   "execution_count": null,
   "id": "425376b3-3507-49a0-8815-a6f67223213a",
   "metadata": {},
   "outputs": [],
   "source": [
    "size = 5\n",
    "G =  network(size,size) # i.e. 6 x 6 networkx graph\n",
    "nodes = list(G.nodes)"
   ]
  },
  {
   "cell_type": "code",
   "execution_count": null,
   "id": "581ea08b-8032-47f8-be61-a03ee8f072ef",
   "metadata": {},
   "outputs": [],
   "source": [
    "funcs= [MPC_protocol,MPG_protocol,SP_protocol]\n",
    "p_range = np.linspace(1, 0.2, 100)\n",
    "ER = np.zeros((len(funcs),len(p_range)))\n",
    "timesteps = 1000 \n",
    "reps = 200\n",
    "\n",
    "users = [(2, 2), (0, 0), (0, 4), (4, 0), (4, 4)]\n",
    "    \n",
    "for i,p in enumerate(tqdm.tqdm(p_range)):# tqdm_notebook \n",
    "    set_p_edge(G,p_op = p)\n",
    "    for j,function in enumerate(funcs):         \n",
    "        er,multipartite_gen_time, links_used = function(G,users,timesteps=timesteps,reps=reps)\n",
    "        ER[j,i]+=er"
   ]
  },
  {
   "attachments": {},
   "cell_type": "markdown",
   "id": "4c7bdf5c-d2c0-4fc9-b687-06200cae9d5d",
   "metadata": {},
   "source": [
    "## plot Figure"
   ]
  },
  {
   "cell_type": "code",
   "execution_count": null,
   "id": "0a4249fa-934a-49a8-ab07-f3321bb317ef",
   "metadata": {},
   "outputs": [],
   "source": [
    "p_range = np.linspace(1, 0.2, 100) # xpoints\n",
    "nom_list = [str(f).split(' ')[1] for f in funcs]\n",
    "plt.figure(figsize =(10,6),dpi=600 )\n",
    "plt.grid(linewidth=0.5)\n",
    "for i in range(len(funcs)):\n",
    "    y = plt.plot(p_range, ER[i],\n",
    "                 color = cols[i],\n",
    "                 marker = \"x\",\n",
    "                 linestyle='None',\n",
    "                 markersize = 3,\n",
    "                #  alpha = 0.5,\n",
    "                #  linewidth=linewidth,\n",
    "                 label = nom_list[i])\n",
    "plt.yscale('log')\n",
    "plt.legend(fontsize=10)\n",
    "plt.tick_params(labelsize=fontsize)\n",
    "\n",
    "plt.xlabel('Link generation probability p',fontsize=fontsize)\n",
    "plt.ylabel('ER ($\\mathregular{GHZ}_5/\\ \\\\mathregular{T_{slot}}$)',fontsize=fontsize)\n",
    "\n",
    "ax = plt.gca()\n",
    "ax.set_xlim([0.2, 1])\n",
    "ax.set_ylim([0.0001, 1])\n",
    "\n",
    "plt.savefig(\"figures/ER_v_p.png\", dpi=600)"
   ]
  }
 ],
 "metadata": {
  "kernelspec": {
   "display_name": ".venv",
   "language": "python",
   "name": "python3"
  },
  "language_info": {
   "codemirror_mode": {
    "name": "ipython",
    "version": 3
   },
   "file_extension": ".py",
   "mimetype": "text/x-python",
   "name": "python",
   "nbconvert_exporter": "python",
   "pygments_lexer": "ipython3",
   "version": "3.13.0"
  }
 },
 "nbformat": 4,
 "nbformat_minor": 5
}
