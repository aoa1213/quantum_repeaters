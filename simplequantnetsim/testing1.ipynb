{
 "cells": [
  {
   "cell_type": "code",
   "execution_count": 1,
   "id": "80939b38-00a9-40db-9a16-2ac462295f5e",
   "metadata": {},
   "outputs": [],
   "source": [
    "import warnings\n",
    "warnings.filterwarnings(\"ignore\", message=\"networkx backend defined more than once\")\n",
    "import sys\n",
    "import gc\n",
    "import os\n",
    "import csv\n",
    "import copy\n",
    "import json\n",
    "import math\n",
    "import shutil\n",
    "import random\n",
    "import pickle\n",
    "import itertools\n",
    "import numpy as np\n",
    "import networkx as nx\n",
    "from tqdm import tqdm\n",
    "import matplotlib.pyplot as plt\n",
    "from pathlib import Path\n",
    "from protocols import MPC_protocol, MPG_protocol, SP_protocol\n",
    "from graph import network, set_p_edge\n",
    "\n",
    "from joblib import Parallel, delayed\n",
    "from itertools import product\n",
    "from networkx.algorithms.community import greedy_modularity_communities\n",
    "from networkx.drawing.layout import *\n",
    "\n",
    "# 获取当前 Notebook 的绝对路径\n",
    "notebook_path = os.path.abspath(\"\")\n",
    "from config import DATA_PATHS\n",
    "\n"
   ]
  },
  {
   "cell_type": "code",
   "execution_count": null,
   "id": "7218c88f-2273-4dc1-a27a-e12c43c87820",
   "metadata": {},
   "outputs": [],
   "source": [
    "mkr = ['x','+','d','o','1','2']+['x']*100\n",
    "dashs = ['-.','--',':','-']+['-']*100\n",
    "cols = ['gray','g','b','orange','r','k','purple']+['k']*100\n",
    "linewidth = 2.2\n",
    "mks = 5.5\n",
    "fontsize = 14\n",
    "sys.path.append(\"..\")  # 确保根目录在 Python 路径中\n",
    "root_path = DATA_PATHS[\"input_graphs\"]\n",
    "# LOOP_STATE_PATH = \"loop_state.pkl\"\n",
    "# TEMP_DATA_PATH = \"temp_data.pkl\""
   ]
  },
  {
   "attachments": {},
   "cell_type": "markdown",
   "id": "0cd02129-51d1-4981-b3a3-3bd9837b9fc0",
   "metadata": {},
   "source": [
    "Find the ER for the MPC, MPG, and SP protocols"
   ]
  },
  {
   "cell_type": "code",
   "execution_count": 3,
   "id": "bcf39d7f",
   "metadata": {},
   "outputs": [],
   "source": [
    "def load_data(filepath):\n",
    "    pos = {}\n",
    "    user = []\n",
    "\n",
    "    # Step 1: 读取 JSON 文件\n",
    "    with open(filepath, \"r\") as f:\n",
    "        data = json.load(f)\n",
    "\n",
    "    # Step 2: 初始化图\n",
    "    G = nx.Graph()\n",
    "\n",
    "    # Step 3: 添加节点\n",
    "\n",
    "    for node in data[\"nodes\"]:\n",
    "        node_id = node[\"id\"]\n",
    "        x, y = node[\"latitude\"], node[\"longitude\"]\n",
    "        G.add_node(node_id, location=node[\"location\"], country=node[\"country\"])  # 添加节点到图\n",
    "        pos[node_id] = (y, x)  # 保存节点位置，注意 (longitude, latitude)\n",
    "\n",
    "    # Step 4: 添加边\n",
    "    for edge in data[\"links\"]:\n",
    "        source = int(edge[\"source\"])\n",
    "        target = int(edge[\"target\"])\n",
    "        G.add_edge(source, target, length=edge[\"length\"])  # 添加边到图\n",
    "\n",
    "    degree_dict = dict(G.degree())\n",
    "    degree_items = list(degree_dict.items())\n",
    "    first_node,first_degree = degree_items[0]\n",
    "    print(f\"First node ID: {first_node}, Degree: {first_degree}\")\n",
    "\n",
    "    user.append(data[\"nodes\"][0][\"id\"])\n",
    "\n",
    "    return G,user,pos"
   ]
  },
  {
   "cell_type": "code",
   "execution_count": 4,
   "id": "29238b7f",
   "metadata": {},
   "outputs": [],
   "source": [
    "def multi_iterative_score_partition_with_drawing(\n",
    "    G, \n",
    "    fixed_node, \n",
    "    alpha=1.0, \n",
    "    beta=1.0,\n",
    "    max_rounds=10,\n",
    "    shuffle_nodes=True,\n",
    "    pos=None,\n",
    "    output_path=None,\n",
    "    sample_size=100  # 新增参数，默认只取 100 组组合\n",
    "):\n",
    "    \"\"\"\n",
    "    多轮迭代版“打分 + 搬家”分社区并筛选出 100 个组合：\n",
    "      - 社区数 = degree(fixed_node) + 1\n",
    "      - 初始: 0 号社区放 fixed_node，其余邻居各占一社区\n",
    "      - 分配时: score = alpha * distance + beta * community_size\n",
    "      - 多轮: 若搬家能让节点的 score 更低，则搬家，直至收敛或达到 max_rounds\n",
    "      - 只随机返回 100 个组合，以防止组合数过多导致 MemoryError\n",
    "\n",
    "    返回：\n",
    "      - 最终的社区划分 communities\n",
    "      - 100 个 key_nodes 组合列表\n",
    "    \"\"\"\n",
    "    \n",
    "    # ============ 1) 初始化社区容器 ============\n",
    "    neighbors = list(G.neighbors(fixed_node))\n",
    "    num_communities = len(neighbors)  # 除 0 号社区外的社区数\n",
    "    communities = [set() for _ in range(num_communities + 1)]\n",
    "    visited = set()\n",
    "\n",
    "    # 第 0 号社区放 fixed_node\n",
    "    communities[0].add(fixed_node)\n",
    "    visited.add(fixed_node)\n",
    "\n",
    "    # 其余邻居各占一社区\n",
    "    for i, nb in enumerate(neighbors, start=1):\n",
    "        communities[i].add(nb)\n",
    "        visited.add(nb)\n",
    "\n",
    "    # ============ 2) 初次分配剩余节点 ============\n",
    "    for node in G.nodes():\n",
    "        if node not in visited:\n",
    "            best_score = float('inf')\n",
    "            best_index = None\n",
    "            # 尝试放入各社区，选择 score 最低者\n",
    "            for i, nb in enumerate(neighbors, start=1):\n",
    "                dist = nx.shortest_path_length(G, source=node, target=nb)\n",
    "                size = len(communities[i])\n",
    "                score = alpha * dist + beta * size\n",
    "                if score < best_score:\n",
    "                    best_score = score\n",
    "                    best_index = i\n",
    "            communities[best_index].add(node)\n",
    "            visited.add(node)\n",
    "\n",
    "    # ============ 3) 多轮迭代搬家 ============\n",
    "    round_num = 0\n",
    "    while round_num < max_rounds:\n",
    "        round_num += 1\n",
    "        moved_count = 0\n",
    "\n",
    "        # 获取除 fixed_node 外的所有节点\n",
    "        all_nodes = [n for n in G.nodes() if n != fixed_node]\n",
    "\n",
    "        if shuffle_nodes:\n",
    "            random.shuffle(all_nodes)\n",
    "\n",
    "        for node in all_nodes:\n",
    "            # 找到当前所在社区\n",
    "            current_idx = None\n",
    "            for i, comm in enumerate(communities):\n",
    "                if node in comm:\n",
    "                    current_idx = i\n",
    "                    break\n",
    "            \n",
    "            # 固定节点不搬家\n",
    "            if current_idx == 0:\n",
    "                continue\n",
    "\n",
    "            # 当前社区 score\n",
    "            nb_current = neighbors[current_idx - 1]  # 对应邻居\n",
    "            dist_current = nx.shortest_path_length(G, source=node, target=nb_current)\n",
    "            size_current = len(communities[current_idx])\n",
    "            current_score = alpha * dist_current + beta * size_current\n",
    "\n",
    "            # 尝试搬家到其他社区\n",
    "            best_score = current_score\n",
    "            best_index = current_idx\n",
    "\n",
    "            for i, nb in enumerate(neighbors, start=1):\n",
    "                if i == current_idx:\n",
    "                    continue\n",
    "                dist = nx.shortest_path_length(G, source=node, target=nb)\n",
    "                size = len(communities[i])\n",
    "                score = alpha * dist + beta * size\n",
    "\n",
    "                if score < best_score:\n",
    "                    best_score = score\n",
    "                    best_index = i\n",
    "\n",
    "            # 若找到更优的社区，则搬家\n",
    "            if best_index != current_idx:\n",
    "                communities[current_idx].remove(node)\n",
    "                communities[best_index].add(node)\n",
    "                moved_count += 1\n",
    "\n",
    "        # 若无人搬家，则收敛，退出迭代\n",
    "        if moved_count == 0:\n",
    "            break\n",
    "\n",
    "    # ============ 4) 生成 key_nodes 组合 ============\n",
    "    # 注意：0 号社区仅包含 fixed_node，不参与组合枚举\n",
    "    all_key_nodes_combos = []\n",
    "    if all(len(communities[i]) > 0 for i in range(1, num_communities + 1)):\n",
    "        # 计算所有组合总数\n",
    "        total_combos = 1\n",
    "        for i in range(1, num_communities + 1):\n",
    "            total_combos *= len(communities[i])\n",
    "\n",
    "        # 随机采样 100 个组合（如果组合数少于 100，则返回所有组合）\n",
    "        if total_combos <= sample_size:\n",
    "            all_products = product(*(communities[i] for i in range(1, num_communities + 1)))\n",
    "            for combo in all_products:\n",
    "                combo_list = [fixed_node] + list(combo)\n",
    "                all_key_nodes_combos.append(combo_list)\n",
    "        else:\n",
    "            # 随机选择 100 个组合\n",
    "            sampled_set = set()\n",
    "            while len(all_key_nodes_combos) < sample_size:\n",
    "                combo = tuple(random.choice(tuple(communities[i])) for i in range(1, num_communities + 1))\n",
    "                if combo not in sampled_set:\n",
    "                    sampled_set.add(combo)\n",
    "                    all_key_nodes_combos.append([fixed_node] + list(combo))\n",
    "    else:\n",
    "        all_key_nodes_combos = []\n",
    "\n",
    "    return communities, all_key_nodes_combos\n"
   ]
  },
  {
   "cell_type": "code",
   "execution_count": 5,
   "id": "0a4249fa-934a-49a8-ab07-f3321bb317ef",
   "metadata": {},
   "outputs": [
    {
     "name": "stderr",
     "output_type": "stream",
     "text": [
      "<>:32: SyntaxWarning: invalid escape sequence '\\m'\n",
      "<>:32: SyntaxWarning: invalid escape sequence '\\m'\n",
      "C:\\Users\\Aaron\\AppData\\Local\\Temp\\ipykernel_17116\\110213519.py:32: SyntaxWarning: invalid escape sequence '\\m'\n",
      "  plt.ylabel('ER ($\\mathregular{GHZ}_5/\\ \\\\mathregular{T_{slot}}$)',fontsize=fontsize)\n"
     ]
    }
   ],
   "source": [
    "\n",
    "def plot_er_vs_p(p_range, ER, funcs, cols, output_path, fontsize=12, figsize=(10, 6), dpi=600):\n",
    "    \"\"\"\n",
    "    绘制 ER 与链接生成概率 p 的关系图，并保存为文件。\n",
    "\n",
    "    参数:\n",
    "        p_range (array-like): p 的取值范围。\n",
    "        ER (list of lists): 每个函数对应的 ER 数据。\n",
    "        funcs (list): 包含函数的列表，用于生成图例名称。\n",
    "        cols (list): 每个函数对应的颜色列表。\n",
    "        output_path (str): 保存图片的路径。\n",
    "        fontsize (int, 可选): 坐标轴和标签字体大小，默认 12。\n",
    "        figsize (tuple, 可选): 图形大小，默认 (10, 6)。\n",
    "        dpi (int, 可选): 图像分辨率，默认 600。\n",
    "    \"\"\"\n",
    "    nom_list = [str(f).split(' ')[1] for f in funcs]\n",
    "    plt.figure(figsize =(10,6),dpi=600 )\n",
    "    plt.grid(linewidth=0.5)\n",
    "    for i in range(len(funcs)):\n",
    "        y = plt.plot(p_range, ER[i],\n",
    "                    color = cols[i],\n",
    "                    marker = \"x\",\n",
    "                    linestyle='None',\n",
    "                    markersize = 3,\n",
    "                    #  alpha = 0.5,\n",
    "                    #  linewidth=linewidth,\n",
    "                    label = nom_list[i])\n",
    "    plt.yscale('log')\n",
    "    plt.legend(fontsize=10)\n",
    "    plt.tick_params(labelsize=fontsize)\n",
    "\n",
    "    plt.xlabel('Link generation probability p',fontsize=fontsize)\n",
    "    plt.ylabel('ER ($\\mathregular{GHZ}_5/\\ \\\\mathregular{T_{slot}}$)',fontsize=fontsize)\n",
    "\n",
    "    ax = plt.gca()\n",
    "    ax.set_xlim([0.2, 1])\n",
    "    ax.set_ylim([0.0001, 1])\n",
    "    # 保存图片\n",
    "    plt.savefig(output_path, dpi=dpi)\n",
    "    plt.close('all')\n",
    "    print(f\"Plot saved to {output_path}\")"
   ]
  },
  {
   "cell_type": "code",
   "execution_count": 6,
   "id": "0f38924d",
   "metadata": {},
   "outputs": [],
   "source": [
    "def process_single_p(G, combo, p, funcs, timesteps, reps):\n",
    "    \"\"\"处理单个p值的并行任务函数\"\"\"\n",
    "    local_G = G.copy()\n",
    "    # 设置当前p值的边概率\n",
    "    set_p_edge(local_G, p_op=p)\n",
    "    \n",
    "    # 为所有协议计算当前p的ER值\n",
    "    p_ers = []\n",
    "    for func in funcs:\n",
    "        er, _, _ = func(local_G, combo, timesteps=timesteps, reps=reps)\n",
    "        p_ers.append(er)\n",
    "    \n",
    "    return p_ers"
   ]
  },
  {
   "cell_type": "code",
   "execution_count": null,
   "id": "581ea08b-8032-47f8-be61-a03ee8f072ef",
   "metadata": {},
   "outputs": [
    {
     "name": "stdout",
     "output_type": "stream",
     "text": [
      "恢复进度： {'subfolder_idx': 0, 'file_idx': 12, 'combo_idx': 39, 'global_combo_count': 1103}\n",
      "\n",
      "Processing subfolder: F:\\Third-year\\Third-year project\\quantum_repeaters_testing\\graphs_json\\class_0 (1/3)\n",
      "  Processing file: F:\\Third-year\\Third-year project\\quantum_repeaters_testing\\graphs_json\\class_0\\TOP_41_GTSPOLAND.json (13/36) ...\n",
      "First node ID: 3, Degree: 2\n"
     ]
    },
    {
     "name": "stderr",
     "output_type": "stream",
     "text": [
      "  Processing combinations:   0%|          | 0/100 [00:00<?, ?combo/s][Parallel(n_jobs=-1)]: Using backend LokyBackend with 20 concurrent workers.\n",
      "[Parallel(n_jobs=-1)]: Done   1 tasks      | elapsed:    2.4s\n",
      "[Parallel(n_jobs=-1)]: Done  10 tasks      | elapsed:    2.5s\n",
      "[Parallel(n_jobs=-1)]: Done  17 out of  50 | elapsed:    2.6s remaining:    5.1s\n",
      "[Parallel(n_jobs=-1)]: Done  23 out of  50 | elapsed:    4.8s remaining:    5.6s\n",
      "[Parallel(n_jobs=-1)]: Done  29 out of  50 | elapsed:    6.4s remaining:    4.6s\n",
      "[Parallel(n_jobs=-1)]: Done  35 out of  50 | elapsed:    9.6s remaining:    4.0s\n",
      "[Parallel(n_jobs=-1)]: Done  41 out of  50 | elapsed:   11.1s remaining:    2.4s\n",
      "[Parallel(n_jobs=-1)]: Done  47 out of  50 | elapsed:   12.1s remaining:    0.7s\n",
      "[Parallel(n_jobs=-1)]: Done  50 out of  50 | elapsed:   12.5s finished\n",
      "  Processing combinations:   1%|          | 1/100 [00:13<22:17, 13.51s/combo]"
     ]
    },
    {
     "name": "stdout",
     "output_type": "stream",
     "text": [
      "Plot saved to f:\\Third-year\\Third-year project\\quantum_repeaters_testing\\new_result1\\class_0\\TOP_41_GTSPOLAND\\result_for_[3, 25, 7]\n"
     ]
    },
    {
     "name": "stderr",
     "output_type": "stream",
     "text": [
      "[Parallel(n_jobs=-1)]: Using backend LokyBackend with 20 concurrent workers.\n",
      "[Parallel(n_jobs=-1)]: Done   1 tasks      | elapsed:    1.0s\n",
      "[Parallel(n_jobs=-1)]: Done  10 tasks      | elapsed:    1.7s\n",
      "[Parallel(n_jobs=-1)]: Done  17 out of  50 | elapsed:    2.0s remaining:    4.0s\n",
      "[Parallel(n_jobs=-1)]: Done  23 out of  50 | elapsed:    4.0s remaining:    4.7s\n",
      "[Parallel(n_jobs=-1)]: Done  29 out of  50 | elapsed:    7.1s remaining:    5.1s\n",
      "[Parallel(n_jobs=-1)]: Done  35 out of  50 | elapsed:    8.7s remaining:    3.7s\n",
      "[Parallel(n_jobs=-1)]: Done  41 out of  50 | elapsed:   10.0s remaining:    2.1s\n",
      "[Parallel(n_jobs=-1)]: Done  47 out of  50 | elapsed:   11.1s remaining:    0.6s\n",
      "[Parallel(n_jobs=-1)]: Done  50 out of  50 | elapsed:   11.7s finished\n",
      "  Processing combinations:   2%|▏         | 2/100 [00:26<21:12, 12.99s/combo]"
     ]
    },
    {
     "name": "stdout",
     "output_type": "stream",
     "text": [
      "Plot saved to f:\\Third-year\\Third-year project\\quantum_repeaters_testing\\new_result1\\class_0\\TOP_41_GTSPOLAND\\result_for_[3, 25, 17]\n"
     ]
    },
    {
     "name": "stderr",
     "output_type": "stream",
     "text": [
      "[Parallel(n_jobs=-1)]: Using backend LokyBackend with 20 concurrent workers.\n",
      "[Parallel(n_jobs=-1)]: Done   1 tasks      | elapsed:    1.3s\n",
      "[Parallel(n_jobs=-1)]: Done  10 tasks      | elapsed:    1.4s\n",
      "[Parallel(n_jobs=-1)]: Done  17 out of  50 | elapsed:    1.6s remaining:    3.1s\n",
      "[Parallel(n_jobs=-1)]: Done  23 out of  50 | elapsed:    3.7s remaining:    4.3s\n",
      "[Parallel(n_jobs=-1)]: Done  29 out of  50 | elapsed:    5.4s remaining:    3.9s\n",
      "[Parallel(n_jobs=-1)]: Done  35 out of  50 | elapsed:    7.9s remaining:    3.3s\n",
      "[Parallel(n_jobs=-1)]: Done  41 out of  50 | elapsed:    9.4s remaining:    2.0s\n",
      "[Parallel(n_jobs=-1)]: Done  47 out of  50 | elapsed:   10.2s remaining:    0.6s\n",
      "[Parallel(n_jobs=-1)]: Done  50 out of  50 | elapsed:   10.9s finished\n",
      "  Processing combinations:   3%|▎         | 3/100 [00:37<20:07, 12.45s/combo]"
     ]
    },
    {
     "name": "stdout",
     "output_type": "stream",
     "text": [
      "Plot saved to f:\\Third-year\\Third-year project\\quantum_repeaters_testing\\new_result1\\class_0\\TOP_41_GTSPOLAND\\result_for_[3, 25, 18]\n"
     ]
    },
    {
     "name": "stderr",
     "output_type": "stream",
     "text": [
      "[Parallel(n_jobs=-1)]: Using backend LokyBackend with 20 concurrent workers.\n",
      "[Parallel(n_jobs=-1)]: Done   1 tasks      | elapsed:    1.5s\n",
      "[Parallel(n_jobs=-1)]: Done  10 tasks      | elapsed:    1.6s\n",
      "[Parallel(n_jobs=-1)]: Done  17 out of  50 | elapsed:    1.7s remaining:    3.3s\n",
      "[Parallel(n_jobs=-1)]: Done  23 out of  50 | elapsed:    4.1s remaining:    4.9s\n",
      "[Parallel(n_jobs=-1)]: Done  29 out of  50 | elapsed:    7.2s remaining:    5.2s\n",
      "[Parallel(n_jobs=-1)]: Done  35 out of  50 | elapsed:    9.6s remaining:    4.1s\n",
      "[Parallel(n_jobs=-1)]: Done  41 out of  50 | elapsed:   10.8s remaining:    2.3s\n",
      "[Parallel(n_jobs=-1)]: Done  47 out of  50 | elapsed:   12.1s remaining:    0.7s\n",
      "[Parallel(n_jobs=-1)]: Done  50 out of  50 | elapsed:   13.6s finished\n",
      "  Processing combinations:   4%|▍         | 4/100 [00:52<21:20, 13.34s/combo]"
     ]
    },
    {
     "name": "stdout",
     "output_type": "stream",
     "text": [
      "Plot saved to f:\\Third-year\\Third-year project\\quantum_repeaters_testing\\new_result1\\class_0\\TOP_41_GTSPOLAND\\result_for_[3, 13, 11]\n"
     ]
    },
    {
     "name": "stderr",
     "output_type": "stream",
     "text": [
      "[Parallel(n_jobs=-1)]: Using backend LokyBackend with 20 concurrent workers.\n",
      "[Parallel(n_jobs=-1)]: Done   1 tasks      | elapsed:    0.8s\n",
      "[Parallel(n_jobs=-1)]: Done  10 tasks      | elapsed:    1.8s\n",
      "[Parallel(n_jobs=-1)]: Done  17 out of  50 | elapsed:    2.3s remaining:    4.6s\n",
      "[Parallel(n_jobs=-1)]: Done  23 out of  50 | elapsed:    3.3s remaining:    3.9s\n",
      "[Parallel(n_jobs=-1)]: Done  29 out of  50 | elapsed:    6.2s remaining:    4.5s\n",
      "[Parallel(n_jobs=-1)]: Done  35 out of  50 | elapsed:    8.4s remaining:    3.5s\n",
      "[Parallel(n_jobs=-1)]: Done  41 out of  50 | elapsed:    9.4s remaining:    2.0s\n",
      "[Parallel(n_jobs=-1)]: Done  47 out of  50 | elapsed:   10.9s remaining:    0.6s\n",
      "[Parallel(n_jobs=-1)]: Done  50 out of  50 | elapsed:   11.5s finished\n",
      "  Processing combinations:   5%|▌         | 5/100 [01:05<20:35, 13.01s/combo]"
     ]
    },
    {
     "name": "stdout",
     "output_type": "stream",
     "text": [
      "Plot saved to f:\\Third-year\\Third-year project\\quantum_repeaters_testing\\new_result1\\class_0\\TOP_41_GTSPOLAND\\result_for_[3, 24, 7]\n"
     ]
    },
    {
     "name": "stderr",
     "output_type": "stream",
     "text": [
      "[Parallel(n_jobs=-1)]: Using backend LokyBackend with 20 concurrent workers.\n",
      "[Parallel(n_jobs=-1)]: Done   1 tasks      | elapsed:    1.4s\n",
      "[Parallel(n_jobs=-1)]: Done  10 tasks      | elapsed:    1.5s\n",
      "[Parallel(n_jobs=-1)]: Done  17 out of  50 | elapsed:    1.6s remaining:    3.2s\n",
      "[Parallel(n_jobs=-1)]: Done  23 out of  50 | elapsed:    3.4s remaining:    4.0s\n",
      "[Parallel(n_jobs=-1)]: Done  29 out of  50 | elapsed:    5.5s remaining:    4.0s\n",
      "[Parallel(n_jobs=-1)]: Done  35 out of  50 | elapsed:    7.4s remaining:    3.1s\n",
      "[Parallel(n_jobs=-1)]: Done  41 out of  50 | elapsed:    9.0s remaining:    1.9s\n",
      "[Parallel(n_jobs=-1)]: Done  47 out of  50 | elapsed:    9.9s remaining:    0.5s\n",
      "[Parallel(n_jobs=-1)]: Done  50 out of  50 | elapsed:   10.3s finished\n",
      "  Processing combinations:   6%|▌         | 6/100 [01:16<19:27, 12.42s/combo]"
     ]
    },
    {
     "name": "stdout",
     "output_type": "stream",
     "text": [
      "Plot saved to f:\\Third-year\\Third-year project\\quantum_repeaters_testing\\new_result1\\class_0\\TOP_41_GTSPOLAND\\result_for_[3, 26, 9]\n"
     ]
    },
    {
     "name": "stderr",
     "output_type": "stream",
     "text": [
      "[Parallel(n_jobs=-1)]: Using backend LokyBackend with 20 concurrent workers.\n",
      "[Parallel(n_jobs=-1)]: Done   1 tasks      | elapsed:    1.2s\n",
      "[Parallel(n_jobs=-1)]: Done  10 tasks      | elapsed:    1.4s\n",
      "[Parallel(n_jobs=-1)]: Done  17 out of  50 | elapsed:    1.5s remaining:    3.0s\n",
      "[Parallel(n_jobs=-1)]: Done  23 out of  50 | elapsed:    2.8s remaining:    3.3s\n",
      "[Parallel(n_jobs=-1)]: Done  29 out of  50 | elapsed:    4.4s remaining:    3.1s\n",
      "[Parallel(n_jobs=-1)]: Done  35 out of  50 | elapsed:    5.9s remaining:    2.5s\n",
      "[Parallel(n_jobs=-1)]: Done  41 out of  50 | elapsed:    8.2s remaining:    1.7s\n",
      "[Parallel(n_jobs=-1)]: Done  47 out of  50 | elapsed:    8.8s remaining:    0.5s\n",
      "[Parallel(n_jobs=-1)]: Done  50 out of  50 | elapsed:    9.3s finished\n",
      "  Processing combinations:   7%|▋         | 7/100 [01:26<18:09, 11.72s/combo]"
     ]
    },
    {
     "name": "stdout",
     "output_type": "stream",
     "text": [
      "Plot saved to f:\\Third-year\\Third-year project\\quantum_repeaters_testing\\new_result1\\class_0\\TOP_41_GTSPOLAND\\result_for_[3, 25, 1]\n"
     ]
    },
    {
     "name": "stderr",
     "output_type": "stream",
     "text": [
      "[Parallel(n_jobs=-1)]: Using backend LokyBackend with 20 concurrent workers.\n",
      "[Parallel(n_jobs=-1)]: Done   1 tasks      | elapsed:    1.5s\n",
      "[Parallel(n_jobs=-1)]: Done  10 tasks      | elapsed:    1.6s\n",
      "[Parallel(n_jobs=-1)]: Done  17 out of  50 | elapsed:    2.2s remaining:    4.3s\n",
      "[Parallel(n_jobs=-1)]: Done  23 out of  50 | elapsed:    5.3s remaining:    6.2s\n",
      "[Parallel(n_jobs=-1)]: Done  29 out of  50 | elapsed:    7.9s remaining:    5.7s\n",
      "[Parallel(n_jobs=-1)]: Done  35 out of  50 | elapsed:    9.5s remaining:    4.0s\n",
      "[Parallel(n_jobs=-1)]: Done  41 out of  50 | elapsed:   10.7s remaining:    2.3s\n",
      "[Parallel(n_jobs=-1)]: Done  47 out of  50 | elapsed:   12.4s remaining:    0.7s\n",
      "[Parallel(n_jobs=-1)]: Done  50 out of  50 | elapsed:   12.5s finished\n",
      "  Processing combinations:   8%|▊         | 8/100 [01:40<18:49, 12.27s/combo]"
     ]
    },
    {
     "name": "stdout",
     "output_type": "stream",
     "text": [
      "Plot saved to f:\\Third-year\\Third-year project\\quantum_repeaters_testing\\new_result1\\class_0\\TOP_41_GTSPOLAND\\result_for_[3, 24, 6]\n"
     ]
    },
    {
     "name": "stderr",
     "output_type": "stream",
     "text": [
      "[Parallel(n_jobs=-1)]: Using backend LokyBackend with 20 concurrent workers.\n",
      "[Parallel(n_jobs=-1)]: Done   1 tasks      | elapsed:    1.5s\n",
      "[Parallel(n_jobs=-1)]: Done  10 tasks      | elapsed:    1.6s\n",
      "[Parallel(n_jobs=-1)]: Done  17 out of  50 | elapsed:    1.8s remaining:    3.6s\n",
      "[Parallel(n_jobs=-1)]: Done  23 out of  50 | elapsed:    5.3s remaining:    6.2s\n",
      "[Parallel(n_jobs=-1)]: Done  29 out of  50 | elapsed:    8.1s remaining:    5.9s\n",
      "[Parallel(n_jobs=-1)]: Done  35 out of  50 | elapsed:    9.7s remaining:    4.1s\n",
      "[Parallel(n_jobs=-1)]: Done  41 out of  50 | elapsed:   11.7s remaining:    2.5s\n",
      "[Parallel(n_jobs=-1)]: Done  47 out of  50 | elapsed:   12.8s remaining:    0.7s\n",
      "[Parallel(n_jobs=-1)]: Done  50 out of  50 | elapsed:   13.2s finished\n",
      "  Processing combinations:   9%|▉         | 9/100 [01:54<19:28, 12.84s/combo]"
     ]
    },
    {
     "name": "stdout",
     "output_type": "stream",
     "text": [
      "Plot saved to f:\\Third-year\\Third-year project\\quantum_repeaters_testing\\new_result1\\class_0\\TOP_41_GTSPOLAND\\result_for_[3, 25, 11]\n"
     ]
    },
    {
     "name": "stderr",
     "output_type": "stream",
     "text": [
      "[Parallel(n_jobs=-1)]: Using backend LokyBackend with 20 concurrent workers.\n",
      "[Parallel(n_jobs=-1)]: Done   1 tasks      | elapsed:    1.5s\n",
      "[Parallel(n_jobs=-1)]: Done  10 tasks      | elapsed:    1.6s\n",
      "[Parallel(n_jobs=-1)]: Done  17 out of  50 | elapsed:    1.8s remaining:    3.6s\n",
      "[Parallel(n_jobs=-1)]: Done  23 out of  50 | elapsed:    5.1s remaining:    6.0s\n",
      "[Parallel(n_jobs=-1)]: Done  29 out of  50 | elapsed:    8.1s remaining:    5.8s\n",
      "[Parallel(n_jobs=-1)]: Done  35 out of  50 | elapsed:    9.3s remaining:    3.9s\n",
      "[Parallel(n_jobs=-1)]: Done  41 out of  50 | elapsed:   10.9s remaining:    2.3s\n",
      "[Parallel(n_jobs=-1)]: Done  47 out of  50 | elapsed:   12.2s remaining:    0.7s\n",
      "[Parallel(n_jobs=-1)]: Done  50 out of  50 | elapsed:   12.8s finished\n",
      "  Processing combinations:  10%|█         | 10/100 [02:07<19:39, 13.11s/combo]"
     ]
    },
    {
     "name": "stdout",
     "output_type": "stream",
     "text": [
      "Plot saved to f:\\Third-year\\Third-year project\\quantum_repeaters_testing\\new_result1\\class_0\\TOP_41_GTSPOLAND\\result_for_[3, 24, 17]\n"
     ]
    },
    {
     "name": "stderr",
     "output_type": "stream",
     "text": [
      "[Parallel(n_jobs=-1)]: Using backend LokyBackend with 20 concurrent workers.\n",
      "[Parallel(n_jobs=-1)]: Done   1 tasks      | elapsed:    1.4s\n",
      "[Parallel(n_jobs=-1)]: Done  10 tasks      | elapsed:    1.5s\n",
      "[Parallel(n_jobs=-1)]: Done  17 out of  50 | elapsed:    2.1s remaining:    4.1s\n",
      "[Parallel(n_jobs=-1)]: Done  23 out of  50 | elapsed:    5.6s remaining:    6.6s\n",
      "[Parallel(n_jobs=-1)]: Done  29 out of  50 | elapsed:    8.3s remaining:    6.0s\n",
      "[Parallel(n_jobs=-1)]: Done  35 out of  50 | elapsed:    9.4s remaining:    4.0s\n",
      "[Parallel(n_jobs=-1)]: Done  41 out of  50 | elapsed:   11.2s remaining:    2.4s\n",
      "[Parallel(n_jobs=-1)]: Done  47 out of  50 | elapsed:   12.2s remaining:    0.7s\n",
      "[Parallel(n_jobs=-1)]: Done  50 out of  50 | elapsed:   12.7s finished\n",
      "  Processing combinations:  11%|█         | 11/100 [02:21<19:39, 13.25s/combo]"
     ]
    },
    {
     "name": "stdout",
     "output_type": "stream",
     "text": [
      "Plot saved to f:\\Third-year\\Third-year project\\quantum_repeaters_testing\\new_result1\\class_0\\TOP_41_GTSPOLAND\\result_for_[3, 23, 9]\n"
     ]
    },
    {
     "name": "stderr",
     "output_type": "stream",
     "text": [
      "[Parallel(n_jobs=-1)]: Using backend LokyBackend with 20 concurrent workers.\n",
      "[Parallel(n_jobs=-1)]: Done   1 tasks      | elapsed:    1.2s\n",
      "[Parallel(n_jobs=-1)]: Done  10 tasks      | elapsed:    1.3s\n",
      "[Parallel(n_jobs=-1)]: Done  17 out of  50 | elapsed:    1.5s remaining:    3.0s\n",
      "[Parallel(n_jobs=-1)]: Done  23 out of  50 | elapsed:    2.9s remaining:    3.4s\n",
      "[Parallel(n_jobs=-1)]: Done  29 out of  50 | elapsed:    4.3s remaining:    3.1s\n",
      "[Parallel(n_jobs=-1)]: Done  35 out of  50 | elapsed:    6.3s remaining:    2.6s\n",
      "[Parallel(n_jobs=-1)]: Done  41 out of  50 | elapsed:    8.1s remaining:    1.7s\n",
      "[Parallel(n_jobs=-1)]: Done  47 out of  50 | elapsed:    8.9s remaining:    0.5s\n",
      "[Parallel(n_jobs=-1)]: Done  50 out of  50 | elapsed:    9.3s finished\n",
      "  Processing combinations:  12%|█▏        | 12/100 [02:31<18:05, 12.34s/combo]"
     ]
    },
    {
     "name": "stdout",
     "output_type": "stream",
     "text": [
      "Plot saved to f:\\Third-year\\Third-year project\\quantum_repeaters_testing\\new_result1\\class_0\\TOP_41_GTSPOLAND\\result_for_[3, 26, 10]\n"
     ]
    },
    {
     "name": "stderr",
     "output_type": "stream",
     "text": [
      "[Parallel(n_jobs=-1)]: Using backend LokyBackend with 20 concurrent workers.\n",
      "[Parallel(n_jobs=-1)]: Done   1 tasks      | elapsed:    1.2s\n",
      "[Parallel(n_jobs=-1)]: Done  10 tasks      | elapsed:    1.5s\n",
      "[Parallel(n_jobs=-1)]: Done  17 out of  50 | elapsed:    1.7s remaining:    3.3s\n",
      "[Parallel(n_jobs=-1)]: Done  23 out of  50 | elapsed:    3.0s remaining:    3.6s\n",
      "[Parallel(n_jobs=-1)]: Done  29 out of  50 | elapsed:    4.5s remaining:    3.2s\n",
      "[Parallel(n_jobs=-1)]: Done  35 out of  50 | elapsed:    7.1s remaining:    3.0s\n",
      "[Parallel(n_jobs=-1)]: Done  41 out of  50 | elapsed:    9.0s remaining:    1.9s\n",
      "[Parallel(n_jobs=-1)]: Done  47 out of  50 | elapsed:    9.6s remaining:    0.5s\n",
      "[Parallel(n_jobs=-1)]: Done  50 out of  50 | elapsed:   10.0s finished\n",
      "  Processing combinations:  13%|█▎        | 13/100 [02:42<17:16, 11.92s/combo]"
     ]
    },
    {
     "name": "stdout",
     "output_type": "stream",
     "text": [
      "Plot saved to f:\\Third-year\\Third-year project\\quantum_repeaters_testing\\new_result1\\class_0\\TOP_41_GTSPOLAND\\result_for_[3, 19, 8]\n"
     ]
    },
    {
     "name": "stderr",
     "output_type": "stream",
     "text": [
      "[Parallel(n_jobs=-1)]: Using backend LokyBackend with 20 concurrent workers.\n",
      "[Parallel(n_jobs=-1)]: Done   1 tasks      | elapsed:    1.4s\n",
      "[Parallel(n_jobs=-1)]: Done  10 tasks      | elapsed:    1.6s\n",
      "[Parallel(n_jobs=-1)]: Done  17 out of  50 | elapsed:    1.9s remaining:    3.8s\n",
      "[Parallel(n_jobs=-1)]: Done  23 out of  50 | elapsed:    5.0s remaining:    5.9s\n",
      "[Parallel(n_jobs=-1)]: Done  29 out of  50 | elapsed:    8.2s remaining:    5.9s\n",
      "[Parallel(n_jobs=-1)]: Done  35 out of  50 | elapsed:    9.7s remaining:    4.1s\n",
      "[Parallel(n_jobs=-1)]: Done  41 out of  50 | elapsed:   11.3s remaining:    2.4s\n",
      "[Parallel(n_jobs=-1)]: Done  47 out of  50 | elapsed:   12.4s remaining:    0.7s\n",
      "[Parallel(n_jobs=-1)]: Done  50 out of  50 | elapsed:   13.0s finished\n",
      "  Processing combinations:  14%|█▍        | 14/100 [02:56<17:58, 12.53s/combo]"
     ]
    },
    {
     "name": "stdout",
     "output_type": "stream",
     "text": [
      "Plot saved to f:\\Third-year\\Third-year project\\quantum_repeaters_testing\\new_result1\\class_0\\TOP_41_GTSPOLAND\\result_for_[3, 23, 10]\n"
     ]
    },
    {
     "name": "stderr",
     "output_type": "stream",
     "text": [
      "[Parallel(n_jobs=-1)]: Using backend LokyBackend with 20 concurrent workers.\n",
      "[Parallel(n_jobs=-1)]: Done   1 tasks      | elapsed:    1.2s\n",
      "[Parallel(n_jobs=-1)]: Done  10 tasks      | elapsed:    1.7s\n",
      "[Parallel(n_jobs=-1)]: Done  17 out of  50 | elapsed:    1.9s remaining:    3.7s\n",
      "[Parallel(n_jobs=-1)]: Done  23 out of  50 | elapsed:    3.9s remaining:    4.6s\n",
      "[Parallel(n_jobs=-1)]: Done  29 out of  50 | elapsed:    6.5s remaining:    4.7s\n",
      "[Parallel(n_jobs=-1)]: Done  35 out of  50 | elapsed:    9.2s remaining:    3.9s\n",
      "[Parallel(n_jobs=-1)]: Done  41 out of  50 | elapsed:   11.3s remaining:    2.4s\n",
      "[Parallel(n_jobs=-1)]: Done  47 out of  50 | elapsed:   12.1s remaining:    0.7s\n",
      "[Parallel(n_jobs=-1)]: Done  50 out of  50 | elapsed:   12.7s finished\n",
      "  Processing combinations:  15%|█▌        | 15/100 [03:10<18:12, 12.86s/combo]"
     ]
    },
    {
     "name": "stdout",
     "output_type": "stream",
     "text": [
      "Plot saved to f:\\Third-year\\Third-year project\\quantum_repeaters_testing\\new_result1\\class_0\\TOP_41_GTSPOLAND\\result_for_[3, 13, 17]\n"
     ]
    },
    {
     "name": "stderr",
     "output_type": "stream",
     "text": [
      "[Parallel(n_jobs=-1)]: Using backend LokyBackend with 20 concurrent workers.\n",
      "[Parallel(n_jobs=-1)]: Done   1 tasks      | elapsed:    1.6s\n",
      "[Parallel(n_jobs=-1)]: Done  10 tasks      | elapsed:    2.4s\n",
      "[Parallel(n_jobs=-1)]: Done  17 out of  50 | elapsed:    3.6s remaining:    7.0s\n",
      "[Parallel(n_jobs=-1)]: Done  23 out of  50 | elapsed:    9.1s remaining:   10.7s\n",
      "[Parallel(n_jobs=-1)]: Done  29 out of  50 | elapsed:   11.7s remaining:    8.4s\n",
      "[Parallel(n_jobs=-1)]: Done  35 out of  50 | elapsed:   12.8s remaining:    5.4s\n",
      "[Parallel(n_jobs=-1)]: Done  41 out of  50 | elapsed:   15.5s remaining:    3.3s\n",
      "[Parallel(n_jobs=-1)]: Done  47 out of  50 | elapsed:   17.1s remaining:    1.0s\n",
      "[Parallel(n_jobs=-1)]: Done  50 out of  50 | elapsed:   17.3s finished\n",
      "  Processing combinations:  16%|█▌        | 16/100 [03:28<20:16, 14.48s/combo]"
     ]
    },
    {
     "name": "stdout",
     "output_type": "stream",
     "text": [
      "Plot saved to f:\\Third-year\\Third-year project\\quantum_repeaters_testing\\new_result1\\class_0\\TOP_41_GTSPOLAND\\result_for_[3, 22, 6]\n"
     ]
    },
    {
     "name": "stderr",
     "output_type": "stream",
     "text": [
      "[Parallel(n_jobs=-1)]: Using backend LokyBackend with 20 concurrent workers.\n",
      "[Parallel(n_jobs=-1)]: Done   1 tasks      | elapsed:    1.4s\n",
      "[Parallel(n_jobs=-1)]: Done  10 tasks      | elapsed:    1.6s\n",
      "[Parallel(n_jobs=-1)]: Done  17 out of  50 | elapsed:    1.8s remaining:    3.5s\n",
      "[Parallel(n_jobs=-1)]: Done  23 out of  50 | elapsed:    4.7s remaining:    5.5s\n",
      "[Parallel(n_jobs=-1)]: Done  29 out of  50 | elapsed:    7.4s remaining:    5.3s\n",
      "[Parallel(n_jobs=-1)]: Done  35 out of  50 | elapsed:    8.6s remaining:    3.6s\n",
      "[Parallel(n_jobs=-1)]: Done  41 out of  50 | elapsed:   10.7s remaining:    2.3s\n",
      "[Parallel(n_jobs=-1)]: Done  47 out of  50 | elapsed:   11.9s remaining:    0.7s\n",
      "[Parallel(n_jobs=-1)]: Done  50 out of  50 | elapsed:   12.5s finished\n",
      "  Processing combinations:  17%|█▋        | 17/100 [03:42<19:39, 14.21s/combo]"
     ]
    },
    {
     "name": "stdout",
     "output_type": "stream",
     "text": [
      "Plot saved to f:\\Third-year\\Third-year project\\quantum_repeaters_testing\\new_result1\\class_0\\TOP_41_GTSPOLAND\\result_for_[3, 25, 9]\n"
     ]
    },
    {
     "name": "stderr",
     "output_type": "stream",
     "text": [
      "[Parallel(n_jobs=-1)]: Using backend LokyBackend with 20 concurrent workers.\n",
      "[Parallel(n_jobs=-1)]: Done   1 tasks      | elapsed:    1.6s\n",
      "[Parallel(n_jobs=-1)]: Done  10 tasks      | elapsed:    1.9s\n",
      "[Parallel(n_jobs=-1)]: Done  17 out of  50 | elapsed:    2.6s remaining:    5.2s\n",
      "[Parallel(n_jobs=-1)]: Done  23 out of  50 | elapsed:    7.1s remaining:    8.3s\n",
      "[Parallel(n_jobs=-1)]: Done  29 out of  50 | elapsed:    9.7s remaining:    7.0s\n",
      "[Parallel(n_jobs=-1)]: Done  35 out of  50 | elapsed:   10.5s remaining:    4.4s\n",
      "[Parallel(n_jobs=-1)]: Done  41 out of  50 | elapsed:   12.8s remaining:    2.7s\n",
      "[Parallel(n_jobs=-1)]: Done  47 out of  50 | elapsed:   14.5s remaining:    0.8s\n",
      "[Parallel(n_jobs=-1)]: Done  50 out of  50 | elapsed:   14.8s finished\n",
      "  Processing combinations:  18%|█▊        | 18/100 [03:57<20:02, 14.67s/combo]"
     ]
    },
    {
     "name": "stdout",
     "output_type": "stream",
     "text": [
      "Plot saved to f:\\Third-year\\Third-year project\\quantum_repeaters_testing\\new_result1\\class_0\\TOP_41_GTSPOLAND\\result_for_[3, 22, 17]\n"
     ]
    },
    {
     "name": "stderr",
     "output_type": "stream",
     "text": [
      "[Parallel(n_jobs=-1)]: Using backend LokyBackend with 20 concurrent workers.\n",
      "[Parallel(n_jobs=-1)]: Done   1 tasks      | elapsed:    1.3s\n",
      "[Parallel(n_jobs=-1)]: Done  10 tasks      | elapsed:    1.5s\n",
      "[Parallel(n_jobs=-1)]: Done  17 out of  50 | elapsed:    1.6s remaining:    3.2s\n",
      "[Parallel(n_jobs=-1)]: Done  23 out of  50 | elapsed:    3.4s remaining:    4.0s\n",
      "[Parallel(n_jobs=-1)]: Done  29 out of  50 | elapsed:    5.2s remaining:    3.8s\n",
      "[Parallel(n_jobs=-1)]: Done  35 out of  50 | elapsed:    7.5s remaining:    3.2s\n",
      "[Parallel(n_jobs=-1)]: Done  41 out of  50 | elapsed:    9.5s remaining:    2.0s\n",
      "[Parallel(n_jobs=-1)]: Done  47 out of  50 | elapsed:   10.4s remaining:    0.6s\n",
      "[Parallel(n_jobs=-1)]: Done  50 out of  50 | elapsed:   10.9s finished\n",
      "  Processing combinations:  19%|█▉        | 19/100 [04:09<18:40, 13.83s/combo]"
     ]
    },
    {
     "name": "stdout",
     "output_type": "stream",
     "text": [
      "Plot saved to f:\\Third-year\\Third-year project\\quantum_repeaters_testing\\new_result1\\class_0\\TOP_41_GTSPOLAND\\result_for_[3, 20, 15]\n"
     ]
    },
    {
     "name": "stderr",
     "output_type": "stream",
     "text": [
      "[Parallel(n_jobs=-1)]: Using backend LokyBackend with 20 concurrent workers.\n",
      "[Parallel(n_jobs=-1)]: Done   1 tasks      | elapsed:    1.4s\n",
      "[Parallel(n_jobs=-1)]: Done  10 tasks      | elapsed:    1.8s\n",
      "[Parallel(n_jobs=-1)]: Done  17 out of  50 | elapsed:    2.2s remaining:    4.4s\n",
      "[Parallel(n_jobs=-1)]: Done  23 out of  50 | elapsed:    5.5s remaining:    6.5s\n",
      "[Parallel(n_jobs=-1)]: Done  29 out of  50 | elapsed:    8.9s remaining:    6.4s\n",
      "[Parallel(n_jobs=-1)]: Done  35 out of  50 | elapsed:    9.9s remaining:    4.2s\n",
      "[Parallel(n_jobs=-1)]: Done  41 out of  50 | elapsed:   11.9s remaining:    2.5s\n",
      "[Parallel(n_jobs=-1)]: Done  47 out of  50 | elapsed:   12.7s remaining:    0.7s\n",
      "[Parallel(n_jobs=-1)]: Done  50 out of  50 | elapsed:   13.4s finished\n",
      "  Processing combinations:  20%|██        | 20/100 [04:24<18:41, 14.02s/combo]"
     ]
    },
    {
     "name": "stdout",
     "output_type": "stream",
     "text": [
      "Plot saved to f:\\Third-year\\Third-year project\\quantum_repeaters_testing\\new_result1\\class_0\\TOP_41_GTSPOLAND\\result_for_[3, 22, 18]\n"
     ]
    },
    {
     "name": "stderr",
     "output_type": "stream",
     "text": [
      "[Parallel(n_jobs=-1)]: Using backend LokyBackend with 20 concurrent workers.\n",
      "[Parallel(n_jobs=-1)]: Done   1 tasks      | elapsed:    1.0s\n",
      "[Parallel(n_jobs=-1)]: Done  10 tasks      | elapsed:    1.5s\n",
      "[Parallel(n_jobs=-1)]: Done  17 out of  50 | elapsed:    1.7s remaining:    3.4s\n",
      "[Parallel(n_jobs=-1)]: Done  23 out of  50 | elapsed:    2.6s remaining:    3.1s\n",
      "[Parallel(n_jobs=-1)]: Done  29 out of  50 | elapsed:    3.6s remaining:    2.6s\n",
      "[Parallel(n_jobs=-1)]: Done  35 out of  50 | elapsed:    5.8s remaining:    2.4s\n",
      "[Parallel(n_jobs=-1)]: Done  41 out of  50 | elapsed:    7.4s remaining:    1.5s\n",
      "[Parallel(n_jobs=-1)]: Done  47 out of  50 | elapsed:    8.4s remaining:    0.4s\n",
      "[Parallel(n_jobs=-1)]: Done  50 out of  50 | elapsed:    8.9s finished\n",
      "  Processing combinations:  21%|██        | 21/100 [04:33<16:47, 12.75s/combo]"
     ]
    },
    {
     "name": "stdout",
     "output_type": "stream",
     "text": [
      "Plot saved to f:\\Third-year\\Third-year project\\quantum_repeaters_testing\\new_result1\\class_0\\TOP_41_GTSPOLAND\\result_for_[3, 26, 1]\n"
     ]
    },
    {
     "name": "stderr",
     "output_type": "stream",
     "text": [
      "[Parallel(n_jobs=-1)]: Using backend LokyBackend with 20 concurrent workers.\n",
      "[Parallel(n_jobs=-1)]: Done   1 tasks      | elapsed:    1.3s\n",
      "[Parallel(n_jobs=-1)]: Done  10 tasks      | elapsed:    1.9s\n",
      "[Parallel(n_jobs=-1)]: Done  17 out of  50 | elapsed:    2.4s remaining:    4.7s\n",
      "[Parallel(n_jobs=-1)]: Done  23 out of  50 | elapsed:    6.6s remaining:    7.7s\n",
      "[Parallel(n_jobs=-1)]: Done  29 out of  50 | elapsed:   10.0s remaining:    7.2s\n",
      "[Parallel(n_jobs=-1)]: Done  35 out of  50 | elapsed:   11.2s remaining:    4.7s\n",
      "[Parallel(n_jobs=-1)]: Done  41 out of  50 | elapsed:   13.0s remaining:    2.8s\n",
      "[Parallel(n_jobs=-1)]: Done  47 out of  50 | elapsed:   14.6s remaining:    0.8s\n",
      "[Parallel(n_jobs=-1)]: Done  50 out of  50 | elapsed:   14.9s finished\n",
      "  Processing combinations:  22%|██▏       | 22/100 [04:49<17:46, 13.68s/combo]"
     ]
    },
    {
     "name": "stdout",
     "output_type": "stream",
     "text": [
      "Plot saved to f:\\Third-year\\Third-year project\\quantum_repeaters_testing\\new_result1\\class_0\\TOP_41_GTSPOLAND\\result_for_[3, 23, 8]\n"
     ]
    },
    {
     "name": "stderr",
     "output_type": "stream",
     "text": [
      "[Parallel(n_jobs=-1)]: Using backend LokyBackend with 20 concurrent workers.\n",
      "[Parallel(n_jobs=-1)]: Done   1 tasks      | elapsed:    2.0s\n",
      "[Parallel(n_jobs=-1)]: Done  10 tasks      | elapsed:    2.1s\n",
      "[Parallel(n_jobs=-1)]: Done  17 out of  50 | elapsed:    3.3s remaining:    6.5s\n",
      "[Parallel(n_jobs=-1)]: Done  23 out of  50 | elapsed:    9.1s remaining:   10.7s\n",
      "[Parallel(n_jobs=-1)]: Done  29 out of  50 | elapsed:   11.5s remaining:    8.3s\n",
      "[Parallel(n_jobs=-1)]: Done  35 out of  50 | elapsed:   12.8s remaining:    5.4s\n",
      "[Parallel(n_jobs=-1)]: Done  41 out of  50 | elapsed:   15.0s remaining:    3.2s\n",
      "[Parallel(n_jobs=-1)]: Done  47 out of  50 | elapsed:   16.5s remaining:    1.0s\n",
      "[Parallel(n_jobs=-1)]: Done  50 out of  50 | elapsed:   16.8s finished\n",
      "  Processing combinations:  23%|██▎       | 23/100 [05:07<19:06, 14.89s/combo]"
     ]
    },
    {
     "name": "stdout",
     "output_type": "stream",
     "text": [
      "Plot saved to f:\\Third-year\\Third-year project\\quantum_repeaters_testing\\new_result1\\class_0\\TOP_41_GTSPOLAND\\result_for_[3, 21, 10]\n"
     ]
    },
    {
     "name": "stderr",
     "output_type": "stream",
     "text": [
      "[Parallel(n_jobs=-1)]: Using backend LokyBackend with 20 concurrent workers.\n",
      "[Parallel(n_jobs=-1)]: Done   1 tasks      | elapsed:    1.3s\n",
      "[Parallel(n_jobs=-1)]: Done  10 tasks      | elapsed:    2.0s\n",
      "[Parallel(n_jobs=-1)]: Done  17 out of  50 | elapsed:    2.2s remaining:    4.4s\n",
      "[Parallel(n_jobs=-1)]: Done  23 out of  50 | elapsed:    5.6s remaining:    6.6s\n",
      "[Parallel(n_jobs=-1)]: Done  29 out of  50 | elapsed:    8.7s remaining:    6.3s\n",
      "[Parallel(n_jobs=-1)]: Done  35 out of  50 | elapsed:   10.6s remaining:    4.5s\n",
      "[Parallel(n_jobs=-1)]: Done  41 out of  50 | elapsed:   12.2s remaining:    2.6s\n",
      "[Parallel(n_jobs=-1)]: Done  47 out of  50 | elapsed:   13.5s remaining:    0.8s\n",
      "[Parallel(n_jobs=-1)]: Done  50 out of  50 | elapsed:   13.8s finished\n",
      "  Processing combinations:  24%|██▍       | 24/100 [05:22<18:48, 14.85s/combo]"
     ]
    },
    {
     "name": "stdout",
     "output_type": "stream",
     "text": [
      "Plot saved to f:\\Third-year\\Third-year project\\quantum_repeaters_testing\\new_result1\\class_0\\TOP_41_GTSPOLAND\\result_for_[3, 23, 7]\n"
     ]
    },
    {
     "name": "stderr",
     "output_type": "stream",
     "text": [
      "[Parallel(n_jobs=-1)]: Using backend LokyBackend with 20 concurrent workers.\n",
      "[Parallel(n_jobs=-1)]: Done   1 tasks      | elapsed:    1.2s\n",
      "[Parallel(n_jobs=-1)]: Done  10 tasks      | elapsed:    1.4s\n",
      "[Parallel(n_jobs=-1)]: Done  17 out of  50 | elapsed:    1.5s remaining:    3.1s\n",
      "[Parallel(n_jobs=-1)]: Done  23 out of  50 | elapsed:    2.8s remaining:    3.3s\n",
      "[Parallel(n_jobs=-1)]: Done  29 out of  50 | elapsed:    3.5s remaining:    2.5s\n",
      "[Parallel(n_jobs=-1)]: Done  35 out of  50 | elapsed:    5.4s remaining:    2.2s\n",
      "[Parallel(n_jobs=-1)]: Done  41 out of  50 | elapsed:    7.5s remaining:    1.6s\n",
      "[Parallel(n_jobs=-1)]: Done  47 out of  50 | elapsed:    8.5s remaining:    0.4s\n",
      "[Parallel(n_jobs=-1)]: Done  50 out of  50 | elapsed:    8.6s finished\n",
      "  Processing combinations:  25%|██▌       | 25/100 [05:31<16:34, 13.26s/combo]"
     ]
    },
    {
     "name": "stdout",
     "output_type": "stream",
     "text": [
      "Plot saved to f:\\Third-year\\Third-year project\\quantum_repeaters_testing\\new_result1\\class_0\\TOP_41_GTSPOLAND\\result_for_[3, 20, 17]\n"
     ]
    },
    {
     "name": "stderr",
     "output_type": "stream",
     "text": [
      "[Parallel(n_jobs=-1)]: Using backend LokyBackend with 20 concurrent workers.\n",
      "[Parallel(n_jobs=-1)]: Done   1 tasks      | elapsed:    1.2s\n",
      "[Parallel(n_jobs=-1)]: Done  10 tasks      | elapsed:    1.4s\n",
      "[Parallel(n_jobs=-1)]: Done  17 out of  50 | elapsed:    1.5s remaining:    3.0s\n",
      "[Parallel(n_jobs=-1)]: Done  23 out of  50 | elapsed:    3.2s remaining:    3.8s\n",
      "[Parallel(n_jobs=-1)]: Done  29 out of  50 | elapsed:    4.6s remaining:    3.3s\n",
      "[Parallel(n_jobs=-1)]: Done  35 out of  50 | elapsed:    7.2s remaining:    3.0s\n",
      "[Parallel(n_jobs=-1)]: Done  41 out of  50 | elapsed:    9.0s remaining:    1.9s\n",
      "[Parallel(n_jobs=-1)]: Done  47 out of  50 | elapsed:    9.7s remaining:    0.5s\n",
      "[Parallel(n_jobs=-1)]: Done  50 out of  50 | elapsed:   10.5s finished\n",
      "  Processing combinations:  26%|██▌       | 26/100 [05:43<15:41, 12.73s/combo]"
     ]
    },
    {
     "name": "stdout",
     "output_type": "stream",
     "text": [
      "Plot saved to f:\\Third-year\\Third-year project\\quantum_repeaters_testing\\new_result1\\class_0\\TOP_41_GTSPOLAND\\result_for_[3, 26, 18]\n"
     ]
    },
    {
     "name": "stderr",
     "output_type": "stream",
     "text": [
      "[Parallel(n_jobs=-1)]: Using backend LokyBackend with 20 concurrent workers.\n",
      "[Parallel(n_jobs=-1)]: Done   1 tasks      | elapsed:    1.3s\n",
      "[Parallel(n_jobs=-1)]: Done  10 tasks      | elapsed:    2.1s\n",
      "[Parallel(n_jobs=-1)]: Done  17 out of  50 | elapsed:    3.5s remaining:    6.9s\n",
      "[Parallel(n_jobs=-1)]: Done  23 out of  50 | elapsed:    8.7s remaining:   10.2s\n",
      "[Parallel(n_jobs=-1)]: Done  29 out of  50 | elapsed:    9.6s remaining:    6.9s\n",
      "[Parallel(n_jobs=-1)]: Done  35 out of  50 | elapsed:   10.8s remaining:    4.6s\n",
      "[Parallel(n_jobs=-1)]: Done  41 out of  50 | elapsed:   14.4s remaining:    3.1s\n",
      "[Parallel(n_jobs=-1)]: Done  47 out of  50 | elapsed:   15.3s remaining:    0.9s\n",
      "[Parallel(n_jobs=-1)]: Done  50 out of  50 | elapsed:   15.5s finished\n",
      "  Processing combinations:  27%|██▋       | 27/100 [05:59<16:53, 13.88s/combo]"
     ]
    },
    {
     "name": "stdout",
     "output_type": "stream",
     "text": [
      "Plot saved to f:\\Third-year\\Third-year project\\quantum_repeaters_testing\\new_result1\\class_0\\TOP_41_GTSPOLAND\\result_for_[3, 22, 15]\n"
     ]
    },
    {
     "name": "stderr",
     "output_type": "stream",
     "text": [
      "[Parallel(n_jobs=-1)]: Using backend LokyBackend with 20 concurrent workers.\n",
      "[Parallel(n_jobs=-1)]: Done   1 tasks      | elapsed:    1.5s\n",
      "[Parallel(n_jobs=-1)]: Done  10 tasks      | elapsed:    1.8s\n",
      "[Parallel(n_jobs=-1)]: Done  17 out of  50 | elapsed:    2.2s remaining:    4.4s\n",
      "[Parallel(n_jobs=-1)]: Done  23 out of  50 | elapsed:    5.9s remaining:    7.0s\n",
      "[Parallel(n_jobs=-1)]: Done  29 out of  50 | elapsed:    8.5s remaining:    6.1s\n",
      "[Parallel(n_jobs=-1)]: Done  35 out of  50 | elapsed:    9.7s remaining:    4.1s\n",
      "[Parallel(n_jobs=-1)]: Done  41 out of  50 | elapsed:   12.0s remaining:    2.6s\n",
      "[Parallel(n_jobs=-1)]: Done  47 out of  50 | elapsed:   13.2s remaining:    0.7s\n",
      "[Parallel(n_jobs=-1)]: Done  50 out of  50 | elapsed:   13.7s finished\n",
      "  Processing combinations:  28%|██▊       | 28/100 [06:14<16:55, 14.10s/combo]"
     ]
    },
    {
     "name": "stdout",
     "output_type": "stream",
     "text": [
      "Plot saved to f:\\Third-year\\Third-year project\\quantum_repeaters_testing\\new_result1\\class_0\\TOP_41_GTSPOLAND\\result_for_[3, 12, 9]\n"
     ]
    },
    {
     "name": "stderr",
     "output_type": "stream",
     "text": [
      "[Parallel(n_jobs=-1)]: Using backend LokyBackend with 20 concurrent workers.\n",
      "[Parallel(n_jobs=-1)]: Done   1 tasks      | elapsed:    1.1s\n",
      "[Parallel(n_jobs=-1)]: Done  10 tasks      | elapsed:    2.0s\n",
      "[Parallel(n_jobs=-1)]: Done  17 out of  50 | elapsed:    2.7s remaining:    5.3s\n",
      "[Parallel(n_jobs=-1)]: Done  23 out of  50 | elapsed:   11.2s remaining:   13.2s\n",
      "[Parallel(n_jobs=-1)]: Done  29 out of  50 | elapsed:   17.2s remaining:   12.5s\n",
      "[Parallel(n_jobs=-1)]: Done  35 out of  50 | elapsed:   19.2s remaining:    8.2s\n",
      "[Parallel(n_jobs=-1)]: Done  41 out of  50 | elapsed:   25.0s remaining:    5.4s\n",
      "[Parallel(n_jobs=-1)]: Done  47 out of  50 | elapsed:   28.4s remaining:    1.7s\n",
      "[Parallel(n_jobs=-1)]: Done  50 out of  50 | elapsed:   29.2s finished\n"
     ]
    },
    {
     "name": "stdout",
     "output_type": "stream",
     "text": [
      "Plot saved to f:\\Third-year\\Third-year project\\quantum_repeaters_testing\\new_result1\\class_0\\TOP_41_GTSPOLAND\\result_for_[3, 22, 7]\n"
     ]
    },
    {
     "name": "stderr",
     "output_type": "stream",
     "text": [
      "  Processing combinations:  29%|██▉       | 29/100 [06:45<22:31, 19.04s/combo][Parallel(n_jobs=-1)]: Using backend LokyBackend with 20 concurrent workers.\n",
      "[Parallel(n_jobs=-1)]: Done   1 tasks      | elapsed:    3.4s\n",
      "[Parallel(n_jobs=-1)]: Done  10 tasks      | elapsed:    3.5s\n",
      "[Parallel(n_jobs=-1)]: Done  17 out of  50 | elapsed:    4.5s remaining:    8.9s\n",
      "[Parallel(n_jobs=-1)]: Done  23 out of  50 | elapsed:   11.2s remaining:   13.2s\n",
      "[Parallel(n_jobs=-1)]: Done  29 out of  50 | elapsed:   17.0s remaining:   12.3s\n",
      "[Parallel(n_jobs=-1)]: Done  35 out of  50 | elapsed:   18.8s remaining:    8.0s\n",
      "[Parallel(n_jobs=-1)]: Done  41 out of  50 | elapsed:   21.5s remaining:    4.6s\n",
      "[Parallel(n_jobs=-1)]: Done  47 out of  50 | elapsed:   23.1s remaining:    1.4s\n",
      "[Parallel(n_jobs=-1)]: Done  50 out of  50 | elapsed:   24.0s finished\n"
     ]
    },
    {
     "name": "stdout",
     "output_type": "stream",
     "text": [
      "Plot saved to f:\\Third-year\\Third-year project\\quantum_repeaters_testing\\new_result1\\class_0\\TOP_41_GTSPOLAND\\result_for_[3, 23, 18]\n"
     ]
    },
    {
     "name": "stderr",
     "output_type": "stream",
     "text": [
      "  Processing combinations:  30%|███       | 30/100 [07:11<24:46, 21.24s/combo][Parallel(n_jobs=-1)]: Using backend LokyBackend with 20 concurrent workers.\n",
      "[Parallel(n_jobs=-1)]: Done   1 tasks      | elapsed:    2.8s\n",
      "[Parallel(n_jobs=-1)]: Done  10 tasks      | elapsed:    3.0s\n",
      "[Parallel(n_jobs=-1)]: Done  17 out of  50 | elapsed:    3.2s remaining:    6.3s\n",
      "[Parallel(n_jobs=-1)]: Done  23 out of  50 | elapsed:   10.8s remaining:   12.7s\n",
      "[Parallel(n_jobs=-1)]: Done  29 out of  50 | elapsed:   18.9s remaining:   13.7s\n",
      "[Parallel(n_jobs=-1)]: Done  35 out of  50 | elapsed:   22.8s remaining:    9.7s\n",
      "[Parallel(n_jobs=-1)]: Done  41 out of  50 | elapsed:   25.0s remaining:    5.4s\n",
      "[Parallel(n_jobs=-1)]: Done  47 out of  50 | elapsed:   28.6s remaining:    1.7s\n",
      "[Parallel(n_jobs=-1)]: Done  50 out of  50 | elapsed:   29.5s finished\n"
     ]
    },
    {
     "name": "stdout",
     "output_type": "stream",
     "text": [
      "Plot saved to f:\\Third-year\\Third-year project\\quantum_repeaters_testing\\new_result1\\class_0\\TOP_41_GTSPOLAND\\result_for_[3, 26, 6]\n"
     ]
    },
    {
     "name": "stderr",
     "output_type": "stream",
     "text": [
      "  Processing combinations:  31%|███       | 31/100 [07:43<28:02, 24.39s/combo][Parallel(n_jobs=-1)]: Using backend LokyBackend with 20 concurrent workers.\n",
      "[Parallel(n_jobs=-1)]: Done   1 tasks      | elapsed:    3.1s\n",
      "[Parallel(n_jobs=-1)]: Done  10 tasks      | elapsed:    3.2s\n",
      "[Parallel(n_jobs=-1)]: Done  17 out of  50 | elapsed:    3.8s remaining:    7.5s\n",
      "[Parallel(n_jobs=-1)]: Done  23 out of  50 | elapsed:   10.3s remaining:   12.2s\n",
      "[Parallel(n_jobs=-1)]: Done  29 out of  50 | elapsed:   15.4s remaining:   11.1s\n",
      "[Parallel(n_jobs=-1)]: Done  35 out of  50 | elapsed:   17.5s remaining:    7.4s\n",
      "[Parallel(n_jobs=-1)]: Done  41 out of  50 | elapsed:   20.4s remaining:    4.4s\n",
      "[Parallel(n_jobs=-1)]: Done  47 out of  50 | elapsed:   21.7s remaining:    1.3s\n",
      "[Parallel(n_jobs=-1)]: Done  50 out of  50 | elapsed:   23.1s finished\n"
     ]
    },
    {
     "name": "stdout",
     "output_type": "stream",
     "text": [
      "Plot saved to f:\\Third-year\\Third-year project\\quantum_repeaters_testing\\new_result1\\class_0\\TOP_41_GTSPOLAND\\result_for_[3, 21, 4]\n"
     ]
    },
    {
     "name": "stderr",
     "output_type": "stream",
     "text": [
      "  Processing combinations:  32%|███▏      | 32/100 [08:08<28:01, 24.73s/combo][Parallel(n_jobs=-1)]: Using backend LokyBackend with 20 concurrent workers.\n",
      "[Parallel(n_jobs=-1)]: Done   1 tasks      | elapsed:    3.0s\n",
      "[Parallel(n_jobs=-1)]: Done  10 tasks      | elapsed:    3.1s\n",
      "[Parallel(n_jobs=-1)]: Done  17 out of  50 | elapsed:    3.4s remaining:    6.7s\n",
      "[Parallel(n_jobs=-1)]: Done  23 out of  50 | elapsed:    8.4s remaining:    9.9s\n",
      "[Parallel(n_jobs=-1)]: Done  29 out of  50 | elapsed:   12.7s remaining:    9.2s\n",
      "[Parallel(n_jobs=-1)]: Done  35 out of  50 | elapsed:   15.6s remaining:    6.6s\n",
      "[Parallel(n_jobs=-1)]: Done  41 out of  50 | elapsed:   18.3s remaining:    3.9s\n",
      "[Parallel(n_jobs=-1)]: Done  47 out of  50 | elapsed:   19.5s remaining:    1.2s\n",
      "[Parallel(n_jobs=-1)]: Done  50 out of  50 | elapsed:   20.4s finished\n",
      "  Processing combinations:  33%|███▎      | 33/100 [08:31<27:00, 24.18s/combo]"
     ]
    },
    {
     "name": "stdout",
     "output_type": "stream",
     "text": [
      "Plot saved to f:\\Third-year\\Third-year project\\quantum_repeaters_testing\\new_result1\\class_0\\TOP_41_GTSPOLAND\\result_for_[3, 12, 2]\n"
     ]
    },
    {
     "name": "stderr",
     "output_type": "stream",
     "text": [
      "[Parallel(n_jobs=-1)]: Using backend LokyBackend with 20 concurrent workers.\n",
      "[Parallel(n_jobs=-1)]: Done   1 tasks      | elapsed:    3.3s\n",
      "[Parallel(n_jobs=-1)]: Done  10 tasks      | elapsed:    3.6s\n",
      "[Parallel(n_jobs=-1)]: Done  17 out of  50 | elapsed:    4.8s remaining:    9.5s\n",
      "[Parallel(n_jobs=-1)]: Done  23 out of  50 | elapsed:   13.1s remaining:   15.4s\n",
      "[Parallel(n_jobs=-1)]: Done  29 out of  50 | elapsed:   18.4s remaining:   13.3s\n",
      "[Parallel(n_jobs=-1)]: Done  35 out of  50 | elapsed:   20.4s remaining:    8.7s\n",
      "[Parallel(n_jobs=-1)]: Done  41 out of  50 | elapsed:   26.2s remaining:    5.7s\n",
      "[Parallel(n_jobs=-1)]: Done  47 out of  50 | elapsed:   27.4s remaining:    1.7s\n",
      "[Parallel(n_jobs=-1)]: Done  50 out of  50 | elapsed:   27.8s finished\n"
     ]
    },
    {
     "name": "stdout",
     "output_type": "stream",
     "text": [
      "Plot saved to f:\\Third-year\\Third-year project\\quantum_repeaters_testing\\new_result1\\class_0\\TOP_41_GTSPOLAND\\result_for_[3, 22, 8]\n"
     ]
    },
    {
     "name": "stderr",
     "output_type": "stream",
     "text": [
      "  Processing combinations:  34%|███▍      | 34/100 [09:02<28:49, 26.20s/combo][Parallel(n_jobs=-1)]: Using backend LokyBackend with 20 concurrent workers.\n",
      "[Parallel(n_jobs=-1)]: Done   1 tasks      | elapsed:    3.2s\n",
      "[Parallel(n_jobs=-1)]: Done  10 tasks      | elapsed:    3.4s\n",
      "[Parallel(n_jobs=-1)]: Done  17 out of  50 | elapsed:    4.5s remaining:    8.8s\n",
      "[Parallel(n_jobs=-1)]: Done  23 out of  50 | elapsed:   13.1s remaining:   15.4s\n",
      "[Parallel(n_jobs=-1)]: Done  29 out of  50 | elapsed:   17.5s remaining:   12.6s\n",
      "[Parallel(n_jobs=-1)]: Done  35 out of  50 | elapsed:   18.8s remaining:    8.0s\n",
      "[Parallel(n_jobs=-1)]: Done  41 out of  50 | elapsed:   22.2s remaining:    4.8s\n",
      "[Parallel(n_jobs=-1)]: Done  47 out of  50 | elapsed:   23.8s remaining:    1.4s\n",
      "[Parallel(n_jobs=-1)]: Done  50 out of  50 | elapsed:   24.6s finished\n"
     ]
    },
    {
     "name": "stdout",
     "output_type": "stream",
     "text": [
      "Plot saved to f:\\Third-year\\Third-year project\\quantum_repeaters_testing\\new_result1\\class_0\\TOP_41_GTSPOLAND\\result_for_[3, 24, 15]\n"
     ]
    },
    {
     "name": "stderr",
     "output_type": "stream",
     "text": [
      "  Processing combinations:  35%|███▌      | 35/100 [09:29<28:41, 26.48s/combo][Parallel(n_jobs=-1)]: Using backend LokyBackend with 20 concurrent workers.\n",
      "[Parallel(n_jobs=-1)]: Done   1 tasks      | elapsed:    2.9s\n",
      "[Parallel(n_jobs=-1)]: Done  10 tasks      | elapsed:    3.1s\n",
      "[Parallel(n_jobs=-1)]: Done  17 out of  50 | elapsed:    3.3s remaining:    6.6s\n",
      "[Parallel(n_jobs=-1)]: Done  23 out of  50 | elapsed:    7.4s remaining:    8.8s\n",
      "[Parallel(n_jobs=-1)]: Done  29 out of  50 | elapsed:   11.8s remaining:    8.5s\n",
      "[Parallel(n_jobs=-1)]: Done  35 out of  50 | elapsed:   18.4s remaining:    7.8s\n",
      "[Parallel(n_jobs=-1)]: Done  41 out of  50 | elapsed:   20.6s remaining:    4.5s\n",
      "[Parallel(n_jobs=-1)]: Done  47 out of  50 | elapsed:   22.1s remaining:    1.3s\n",
      "[Parallel(n_jobs=-1)]: Done  50 out of  50 | elapsed:   23.1s finished\n",
      "  Processing combinations:  36%|███▌      | 36/100 [09:54<27:41, 25.97s/combo]"
     ]
    },
    {
     "name": "stdout",
     "output_type": "stream",
     "text": [
      "Plot saved to f:\\Third-year\\Third-year project\\quantum_repeaters_testing\\new_result1\\class_0\\TOP_41_GTSPOLAND\\result_for_[3, 20, 5]\n"
     ]
    },
    {
     "name": "stderr",
     "output_type": "stream",
     "text": [
      "[Parallel(n_jobs=-1)]: Using backend LokyBackend with 20 concurrent workers.\n",
      "[Parallel(n_jobs=-1)]: Done   1 tasks      | elapsed:    3.7s\n",
      "[Parallel(n_jobs=-1)]: Done  10 tasks      | elapsed:    4.2s\n",
      "[Parallel(n_jobs=-1)]: Done  17 out of  50 | elapsed:    5.2s remaining:   10.1s\n",
      "[Parallel(n_jobs=-1)]: Done  23 out of  50 | elapsed:   18.6s remaining:   21.8s\n",
      "[Parallel(n_jobs=-1)]: Done  29 out of  50 | elapsed:   26.5s remaining:   19.2s\n",
      "[Parallel(n_jobs=-1)]: Done  35 out of  50 | elapsed:   29.2s remaining:   12.4s\n",
      "[Parallel(n_jobs=-1)]: Done  41 out of  50 | elapsed:   35.1s remaining:    7.6s\n",
      "[Parallel(n_jobs=-1)]: Done  47 out of  50 | elapsed:   37.3s remaining:    2.3s\n",
      "[Parallel(n_jobs=-1)]: Done  50 out of  50 | elapsed:   37.7s finished\n",
      "  Processing combinations:  37%|███▋      | 37/100 [10:33<31:24, 29.91s/combo]"
     ]
    },
    {
     "name": "stdout",
     "output_type": "stream",
     "text": [
      "Plot saved to f:\\Third-year\\Third-year project\\quantum_repeaters_testing\\new_result1\\class_0\\TOP_41_GTSPOLAND\\result_for_[3, 23, 11]\n"
     ]
    },
    {
     "name": "stderr",
     "output_type": "stream",
     "text": [
      "[Parallel(n_jobs=-1)]: Using backend LokyBackend with 20 concurrent workers.\n",
      "[Parallel(n_jobs=-1)]: Done   1 tasks      | elapsed:    2.6s\n",
      "[Parallel(n_jobs=-1)]: Done  10 tasks      | elapsed:    3.2s\n",
      "[Parallel(n_jobs=-1)]: Done  17 out of  50 | elapsed:    4.0s remaining:    7.9s\n",
      "[Parallel(n_jobs=-1)]: Done  23 out of  50 | elapsed:    5.7s remaining:    6.7s\n",
      "[Parallel(n_jobs=-1)]: Done  29 out of  50 | elapsed:    6.9s remaining:    5.0s\n",
      "[Parallel(n_jobs=-1)]: Done  35 out of  50 | elapsed:    8.0s remaining:    3.4s\n",
      "[Parallel(n_jobs=-1)]: Done  41 out of  50 | elapsed:    9.3s remaining:    2.0s\n",
      "[Parallel(n_jobs=-1)]: Done  47 out of  50 | elapsed:   10.7s remaining:    0.6s\n",
      "[Parallel(n_jobs=-1)]: Done  50 out of  50 | elapsed:   11.8s finished\n"
     ]
    },
    {
     "name": "stdout",
     "output_type": "stream",
     "text": [
      "Plot saved to f:\\Third-year\\Third-year project\\quantum_repeaters_testing\\new_result1\\class_0\\TOP_41_GTSPOLAND\\result_for_[3, 19, 4]\n"
     ]
    },
    {
     "name": "stderr",
     "output_type": "stream",
     "text": [
      "  Processing combinations:  38%|███▊      | 38/100 [10:47<26:04, 25.23s/combo][Parallel(n_jobs=-1)]: Using backend LokyBackend with 20 concurrent workers.\n",
      "[Parallel(n_jobs=-1)]: Done   1 tasks      | elapsed:    3.5s\n",
      "[Parallel(n_jobs=-1)]: Done  10 tasks      | elapsed:    3.7s\n",
      "[Parallel(n_jobs=-1)]: Done  17 out of  50 | elapsed:    6.1s remaining:   11.9s\n",
      "[Parallel(n_jobs=-1)]: Done  23 out of  50 | elapsed:   15.1s remaining:   17.7s\n",
      "[Parallel(n_jobs=-1)]: Done  29 out of  50 | elapsed:   18.2s remaining:   13.1s\n",
      "[Parallel(n_jobs=-1)]: Done  35 out of  50 | elapsed:   20.6s remaining:    8.8s\n",
      "[Parallel(n_jobs=-1)]: Done  41 out of  50 | elapsed:   24.8s remaining:    5.4s\n",
      "[Parallel(n_jobs=-1)]: Done  47 out of  50 | elapsed:   26.9s remaining:    1.6s\n",
      "[Parallel(n_jobs=-1)]: Done  50 out of  50 | elapsed:   27.3s finished\n",
      "  Processing combinations:  39%|███▉      | 39/100 [11:16<26:46, 26.33s/combo]"
     ]
    },
    {
     "name": "stdout",
     "output_type": "stream",
     "text": [
      "Plot saved to f:\\Third-year\\Third-year project\\quantum_repeaters_testing\\new_result1\\class_0\\TOP_41_GTSPOLAND\\result_for_[3, 23, 5]\n"
     ]
    },
    {
     "name": "stderr",
     "output_type": "stream",
     "text": [
      "[Parallel(n_jobs=-1)]: Using backend LokyBackend with 20 concurrent workers.\n",
      "[Parallel(n_jobs=-1)]: Done   1 tasks      | elapsed:    3.6s\n",
      "[Parallel(n_jobs=-1)]: Done  10 tasks      | elapsed:    4.4s\n",
      "[Parallel(n_jobs=-1)]: Done  17 out of  50 | elapsed:    6.8s remaining:   13.3s\n",
      "[Parallel(n_jobs=-1)]: Done  23 out of  50 | elapsed:   15.6s remaining:   18.3s\n",
      "[Parallel(n_jobs=-1)]: Done  29 out of  50 | elapsed:   28.4s remaining:   20.5s\n",
      "[Parallel(n_jobs=-1)]: Done  35 out of  50 | elapsed:   29.9s remaining:   12.8s\n",
      "[Parallel(n_jobs=-1)]: Done  41 out of  50 | elapsed:   31.5s remaining:    6.8s\n",
      "[Parallel(n_jobs=-1)]: Done  47 out of  50 | elapsed:   34.0s remaining:    2.1s\n",
      "[Parallel(n_jobs=-1)]: Done  50 out of  50 | elapsed:   35.0s finished\n",
      "  Processing combinations:  40%|████      | 40/100 [11:54<29:44, 29.74s/combo]"
     ]
    },
    {
     "name": "stdout",
     "output_type": "stream",
     "text": [
      "Plot saved to f:\\Third-year\\Third-year project\\quantum_repeaters_testing\\new_result1\\class_0\\TOP_41_GTSPOLAND\\result_for_[3, 23, 17]\n"
     ]
    },
    {
     "name": "stderr",
     "output_type": "stream",
     "text": [
      "[Parallel(n_jobs=-1)]: Using backend LokyBackend with 20 concurrent workers.\n",
      "[Parallel(n_jobs=-1)]: Done   1 tasks      | elapsed:    3.2s\n",
      "[Parallel(n_jobs=-1)]: Done  10 tasks      | elapsed:    3.3s\n",
      "[Parallel(n_jobs=-1)]: Done  17 out of  50 | elapsed:    3.7s remaining:    7.3s\n",
      "[Parallel(n_jobs=-1)]: Done  23 out of  50 | elapsed:    9.3s remaining:   10.9s\n",
      "[Parallel(n_jobs=-1)]: Done  29 out of  50 | elapsed:   13.4s remaining:    9.7s\n",
      "[Parallel(n_jobs=-1)]: Done  35 out of  50 | elapsed:   16.2s remaining:    6.9s\n",
      "[Parallel(n_jobs=-1)]: Done  41 out of  50 | elapsed:   18.9s remaining:    4.1s\n",
      "[Parallel(n_jobs=-1)]: Done  47 out of  50 | elapsed:   20.5s remaining:    1.2s\n",
      "[Parallel(n_jobs=-1)]: Done  50 out of  50 | elapsed:   21.6s finished\n"
     ]
    },
    {
     "name": "stdout",
     "output_type": "stream",
     "text": [
      "Plot saved to f:\\Third-year\\Third-year project\\quantum_repeaters_testing\\new_result1\\class_0\\TOP_41_GTSPOLAND\\result_for_[3, 20, 16]\n"
     ]
    },
    {
     "name": "stderr",
     "output_type": "stream",
     "text": [
      "  Processing combinations:  41%|████      | 41/100 [12:18<27:44, 28.20s/combo][Parallel(n_jobs=-1)]: Using backend LokyBackend with 20 concurrent workers.\n",
      "[Parallel(n_jobs=-1)]: Done   1 tasks      | elapsed:    2.7s\n",
      "[Parallel(n_jobs=-1)]: Done  10 tasks      | elapsed:    2.8s\n",
      "[Parallel(n_jobs=-1)]: Done  17 out of  50 | elapsed:    3.1s remaining:    6.2s\n",
      "[Parallel(n_jobs=-1)]: Done  23 out of  50 | elapsed:    6.2s remaining:    7.3s\n",
      "[Parallel(n_jobs=-1)]: Done  29 out of  50 | elapsed:    8.4s remaining:    6.0s\n",
      "[Parallel(n_jobs=-1)]: Done  35 out of  50 | elapsed:   14.2s remaining:    6.0s\n",
      "[Parallel(n_jobs=-1)]: Done  41 out of  50 | elapsed:   17.2s remaining:    3.7s\n",
      "[Parallel(n_jobs=-1)]: Done  47 out of  50 | elapsed:   18.3s remaining:    1.1s\n",
      "[Parallel(n_jobs=-1)]: Done  50 out of  50 | elapsed:   19.1s finished\n"
     ]
    },
    {
     "name": "stdout",
     "output_type": "stream",
     "text": [
      "Plot saved to f:\\Third-year\\Third-year project\\quantum_repeaters_testing\\new_result1\\class_0\\TOP_41_GTSPOLAND\\result_for_[3, 20, 6]\n"
     ]
    },
    {
     "name": "stderr",
     "output_type": "stream",
     "text": [
      "  Processing combinations:  42%|████▏     | 42/100 [12:40<25:20, 26.22s/combo][Parallel(n_jobs=-1)]: Using backend LokyBackend with 20 concurrent workers.\n",
      "[Parallel(n_jobs=-1)]: Done   1 tasks      | elapsed:    3.5s\n",
      "[Parallel(n_jobs=-1)]: Done  10 tasks      | elapsed:    4.0s\n",
      "[Parallel(n_jobs=-1)]: Done  17 out of  50 | elapsed:    7.1s remaining:   13.9s\n",
      "[Parallel(n_jobs=-1)]: Done  23 out of  50 | elapsed:   17.3s remaining:   20.4s\n",
      "[Parallel(n_jobs=-1)]: Done  29 out of  50 | elapsed:   19.6s remaining:   14.2s\n",
      "[Parallel(n_jobs=-1)]: Done  35 out of  50 | elapsed:   21.3s remaining:    9.1s\n",
      "[Parallel(n_jobs=-1)]: Done  41 out of  50 | elapsed:   25.7s remaining:    5.6s\n",
      "[Parallel(n_jobs=-1)]: Done  47 out of  50 | elapsed:   26.7s remaining:    1.6s\n",
      "[Parallel(n_jobs=-1)]: Done  50 out of  50 | elapsed:   27.3s finished\n"
     ]
    },
    {
     "name": "stdout",
     "output_type": "stream",
     "text": [
      "Plot saved to f:\\Third-year\\Third-year project\\quantum_repeaters_testing\\new_result1\\class_0\\TOP_41_GTSPOLAND\\result_for_[3, 23, 16]\n"
     ]
    },
    {
     "name": "stderr",
     "output_type": "stream",
     "text": [
      "  Processing combinations:  43%|████▎     | 43/100 [13:10<25:59, 27.35s/combo][Parallel(n_jobs=-1)]: Using backend LokyBackend with 20 concurrent workers.\n",
      "[Parallel(n_jobs=-1)]: Done   1 tasks      | elapsed:    3.3s\n",
      "[Parallel(n_jobs=-1)]: Done  10 tasks      | elapsed:    3.5s\n",
      "[Parallel(n_jobs=-1)]: Done  17 out of  50 | elapsed:    5.2s remaining:   10.1s\n",
      "[Parallel(n_jobs=-1)]: Done  23 out of  50 | elapsed:   13.6s remaining:   15.9s\n",
      "[Parallel(n_jobs=-1)]: Done  29 out of  50 | elapsed:   16.8s remaining:   12.1s\n",
      "[Parallel(n_jobs=-1)]: Done  35 out of  50 | elapsed:   18.3s remaining:    7.8s\n",
      "[Parallel(n_jobs=-1)]: Done  41 out of  50 | elapsed:   21.6s remaining:    4.7s\n",
      "[Parallel(n_jobs=-1)]: Done  47 out of  50 | elapsed:   23.4s remaining:    1.4s\n",
      "[Parallel(n_jobs=-1)]: Done  50 out of  50 | elapsed:   24.0s finished\n",
      "  Processing combinations:  44%|████▍     | 44/100 [13:36<25:06, 26.90s/combo]"
     ]
    },
    {
     "name": "stdout",
     "output_type": "stream",
     "text": [
      "Plot saved to f:\\Third-year\\Third-year project\\quantum_repeaters_testing\\new_result1\\class_0\\TOP_41_GTSPOLAND\\result_for_[3, 21, 18]\n"
     ]
    },
    {
     "name": "stderr",
     "output_type": "stream",
     "text": [
      "[Parallel(n_jobs=-1)]: Using backend LokyBackend with 20 concurrent workers.\n",
      "[Parallel(n_jobs=-1)]: Done   1 tasks      | elapsed:    4.7s\n",
      "[Parallel(n_jobs=-1)]: Done  10 tasks      | elapsed:    5.6s\n",
      "[Parallel(n_jobs=-1)]: Done  17 out of  50 | elapsed:    6.8s remaining:   13.4s\n",
      "[Parallel(n_jobs=-1)]: Done  23 out of  50 | elapsed:   17.6s remaining:   20.6s\n",
      "[Parallel(n_jobs=-1)]: Done  29 out of  50 | elapsed:   20.8s remaining:   15.0s\n",
      "[Parallel(n_jobs=-1)]: Done  35 out of  50 | elapsed:   22.1s remaining:    9.4s\n",
      "[Parallel(n_jobs=-1)]: Done  41 out of  50 | elapsed:   25.8s remaining:    5.6s\n",
      "[Parallel(n_jobs=-1)]: Done  47 out of  50 | elapsed:   26.8s remaining:    1.6s\n",
      "[Parallel(n_jobs=-1)]: Done  50 out of  50 | elapsed:   27.6s finished\n"
     ]
    },
    {
     "name": "stdout",
     "output_type": "stream",
     "text": [
      "Plot saved to f:\\Third-year\\Third-year project\\quantum_repeaters_testing\\new_result1\\class_0\\TOP_41_GTSPOLAND\\result_for_[3, 12, 6]\n"
     ]
    },
    {
     "name": "stderr",
     "output_type": "stream",
     "text": [
      "  Processing combinations:  45%|████▌     | 45/100 [14:06<25:33, 27.88s/combo][Parallel(n_jobs=-1)]: Using backend LokyBackend with 20 concurrent workers.\n",
      "[Parallel(n_jobs=-1)]: Done   1 tasks      | elapsed:    3.5s\n",
      "[Parallel(n_jobs=-1)]: Done  10 tasks      | elapsed:    4.0s\n",
      "[Parallel(n_jobs=-1)]: Done  17 out of  50 | elapsed:    7.4s remaining:   14.5s\n",
      "[Parallel(n_jobs=-1)]: Done  23 out of  50 | elapsed:   16.9s remaining:   19.8s\n",
      "[Parallel(n_jobs=-1)]: Done  29 out of  50 | elapsed:   18.6s remaining:   13.4s\n",
      "[Parallel(n_jobs=-1)]: Done  35 out of  50 | elapsed:   19.9s remaining:    8.5s\n",
      "[Parallel(n_jobs=-1)]: Done  41 out of  50 | elapsed:   25.8s remaining:    5.6s\n",
      "[Parallel(n_jobs=-1)]: Done  47 out of  50 | elapsed:   27.1s remaining:    1.6s\n",
      "[Parallel(n_jobs=-1)]: Done  50 out of  50 | elapsed:   27.4s finished\n",
      "  Processing combinations:  46%|████▌     | 46/100 [14:35<25:18, 28.12s/combo]"
     ]
    },
    {
     "name": "stdout",
     "output_type": "stream",
     "text": [
      "Plot saved to f:\\Third-year\\Third-year project\\quantum_repeaters_testing\\new_result1\\class_0\\TOP_41_GTSPOLAND\\result_for_[3, 21, 15]\n"
     ]
    },
    {
     "name": "stderr",
     "output_type": "stream",
     "text": [
      "[Parallel(n_jobs=-1)]: Using backend LokyBackend with 20 concurrent workers.\n",
      "[Parallel(n_jobs=-1)]: Done   1 tasks      | elapsed:    3.9s\n",
      "[Parallel(n_jobs=-1)]: Done  10 tasks      | elapsed:    5.2s\n",
      "[Parallel(n_jobs=-1)]: Done  17 out of  50 | elapsed:    5.6s remaining:   10.9s\n",
      "[Parallel(n_jobs=-1)]: Done  23 out of  50 | elapsed:    7.2s remaining:    8.5s\n",
      "[Parallel(n_jobs=-1)]: Done  29 out of  50 | elapsed:    8.6s remaining:    6.2s\n",
      "[Parallel(n_jobs=-1)]: Done  35 out of  50 | elapsed:   11.3s remaining:    4.8s\n",
      "[Parallel(n_jobs=-1)]: Done  41 out of  50 | elapsed:   14.7s remaining:    3.2s\n",
      "[Parallel(n_jobs=-1)]: Done  47 out of  50 | elapsed:   16.1s remaining:    0.9s\n",
      "[Parallel(n_jobs=-1)]: Done  50 out of  50 | elapsed:   16.5s finished\n"
     ]
    },
    {
     "name": "stdout",
     "output_type": "stream",
     "text": [
      "Plot saved to f:\\Third-year\\Third-year project\\quantum_repeaters_testing\\new_result1\\class_0\\TOP_41_GTSPOLAND\\result_for_[3, 13, 1]\n"
     ]
    },
    {
     "name": "stderr",
     "output_type": "stream",
     "text": [
      "  Processing combinations:  47%|████▋     | 47/100 [14:54<22:27, 25.42s/combo][Parallel(n_jobs=-1)]: Using backend LokyBackend with 20 concurrent workers.\n",
      "[Parallel(n_jobs=-1)]: Done   1 tasks      | elapsed:    3.4s\n",
      "[Parallel(n_jobs=-1)]: Done  10 tasks      | elapsed:    3.5s\n",
      "[Parallel(n_jobs=-1)]: Done  17 out of  50 | elapsed:    4.5s remaining:    8.8s\n",
      "[Parallel(n_jobs=-1)]: Done  23 out of  50 | elapsed:   10.7s remaining:   12.6s\n",
      "[Parallel(n_jobs=-1)]: Done  29 out of  50 | elapsed:   15.1s remaining:   10.9s\n",
      "[Parallel(n_jobs=-1)]: Done  35 out of  50 | elapsed:   17.3s remaining:    7.4s\n",
      "[Parallel(n_jobs=-1)]: Done  41 out of  50 | elapsed:   20.4s remaining:    4.4s\n",
      "[Parallel(n_jobs=-1)]: Done  47 out of  50 | elapsed:   21.8s remaining:    1.3s\n",
      "[Parallel(n_jobs=-1)]: Done  50 out of  50 | elapsed:   22.7s finished\n"
     ]
    },
    {
     "name": "stdout",
     "output_type": "stream",
     "text": [
      "Plot saved to f:\\Third-year\\Third-year project\\quantum_repeaters_testing\\new_result1\\class_0\\TOP_41_GTSPOLAND\\result_for_[3, 22, 10]\n"
     ]
    },
    {
     "name": "stderr",
     "output_type": "stream",
     "text": [
      "  Processing combinations:  48%|████▊     | 48/100 [15:19<22:03, 25.45s/combo][Parallel(n_jobs=-1)]: Using backend LokyBackend with 20 concurrent workers.\n",
      "[Parallel(n_jobs=-1)]: Done   1 tasks      | elapsed:    3.2s\n",
      "[Parallel(n_jobs=-1)]: Done  10 tasks      | elapsed:    3.3s\n",
      "[Parallel(n_jobs=-1)]: Done  17 out of  50 | elapsed:    4.5s remaining:    8.8s\n",
      "[Parallel(n_jobs=-1)]: Done  23 out of  50 | elapsed:   11.5s remaining:   13.5s\n",
      "[Parallel(n_jobs=-1)]: Done  29 out of  50 | elapsed:   15.8s remaining:   11.4s\n",
      "[Parallel(n_jobs=-1)]: Done  35 out of  50 | elapsed:   17.3s remaining:    7.4s\n",
      "[Parallel(n_jobs=-1)]: Done  41 out of  50 | elapsed:   24.7s remaining:    5.4s\n",
      "[Parallel(n_jobs=-1)]: Done  47 out of  50 | elapsed:   26.7s remaining:    1.6s\n",
      "[Parallel(n_jobs=-1)]: Done  50 out of  50 | elapsed:   27.9s finished\n"
     ]
    },
    {
     "name": "stdout",
     "output_type": "stream",
     "text": [
      "Plot saved to f:\\Third-year\\Third-year project\\quantum_repeaters_testing\\new_result1\\class_0\\TOP_41_GTSPOLAND\\result_for_[3, 14, 5]\n"
     ]
    },
    {
     "name": "stderr",
     "output_type": "stream",
     "text": [
      "  Processing combinations:  49%|████▉     | 49/100 [15:50<22:53, 26.94s/combo][Parallel(n_jobs=-1)]: Using backend LokyBackend with 20 concurrent workers.\n",
      "[Parallel(n_jobs=-1)]: Done   1 tasks      | elapsed:    3.4s\n",
      "[Parallel(n_jobs=-1)]: Done  10 tasks      | elapsed:    3.7s\n",
      "[Parallel(n_jobs=-1)]: Done  17 out of  50 | elapsed:    5.8s remaining:   11.4s\n",
      "[Parallel(n_jobs=-1)]: Done  23 out of  50 | elapsed:   14.6s remaining:   17.1s\n",
      "[Parallel(n_jobs=-1)]: Done  29 out of  50 | elapsed:   17.4s remaining:   12.6s\n",
      "[Parallel(n_jobs=-1)]: Done  35 out of  50 | elapsed:   18.6s remaining:    7.9s\n",
      "[Parallel(n_jobs=-1)]: Done  41 out of  50 | elapsed:   22.7s remaining:    4.9s\n",
      "[Parallel(n_jobs=-1)]: Done  47 out of  50 | elapsed:   24.1s remaining:    1.4s\n",
      "[Parallel(n_jobs=-1)]: Done  50 out of  50 | elapsed:   24.5s finished\n"
     ]
    },
    {
     "name": "stdout",
     "output_type": "stream",
     "text": [
      "Plot saved to f:\\Third-year\\Third-year project\\quantum_repeaters_testing\\new_result1\\class_0\\TOP_41_GTSPOLAND\\result_for_[3, 24, 16]\n"
     ]
    },
    {
     "name": "stderr",
     "output_type": "stream",
     "text": [
      "  Processing combinations:  50%|█████     | 50/100 [16:17<22:29, 26.99s/combo][Parallel(n_jobs=-1)]: Using backend LokyBackend with 20 concurrent workers.\n",
      "[Parallel(n_jobs=-1)]: Done   1 tasks      | elapsed:    3.0s\n",
      "[Parallel(n_jobs=-1)]: Done  10 tasks      | elapsed:    3.3s\n",
      "[Parallel(n_jobs=-1)]: Done  17 out of  50 | elapsed:    3.4s remaining:    6.7s\n",
      "[Parallel(n_jobs=-1)]: Done  23 out of  50 | elapsed:    7.5s remaining:    8.8s\n",
      "[Parallel(n_jobs=-1)]: Done  29 out of  50 | elapsed:   11.2s remaining:    8.1s\n",
      "[Parallel(n_jobs=-1)]: Done  35 out of  50 | elapsed:   15.1s remaining:    6.4s\n",
      "[Parallel(n_jobs=-1)]: Done  41 out of  50 | elapsed:   17.5s remaining:    3.8s\n",
      "[Parallel(n_jobs=-1)]: Done  47 out of  50 | elapsed:   18.8s remaining:    1.1s\n",
      "[Parallel(n_jobs=-1)]: Done  50 out of  50 | elapsed:   19.7s finished\n",
      "  Processing combinations:  51%|█████     | 51/100 [16:39<20:56, 25.64s/combo]"
     ]
    },
    {
     "name": "stdout",
     "output_type": "stream",
     "text": [
      "Plot saved to f:\\Third-year\\Third-year project\\quantum_repeaters_testing\\new_result1\\class_0\\TOP_41_GTSPOLAND\\result_for_[3, 23, 1]\n"
     ]
    },
    {
     "name": "stderr",
     "output_type": "stream",
     "text": [
      "[Parallel(n_jobs=-1)]: Using backend LokyBackend with 20 concurrent workers.\n",
      "[Parallel(n_jobs=-1)]: Done   1 tasks      | elapsed:    3.0s\n",
      "[Parallel(n_jobs=-1)]: Done  10 tasks      | elapsed:    3.2s\n",
      "[Parallel(n_jobs=-1)]: Done  17 out of  50 | elapsed:    3.5s remaining:    7.0s\n",
      "[Parallel(n_jobs=-1)]: Done  23 out of  50 | elapsed:    9.0s remaining:   10.5s\n",
      "[Parallel(n_jobs=-1)]: Done  29 out of  50 | elapsed:   13.6s remaining:    9.8s\n",
      "[Parallel(n_jobs=-1)]: Done  35 out of  50 | elapsed:   15.9s remaining:    6.8s\n",
      "[Parallel(n_jobs=-1)]: Done  41 out of  50 | elapsed:   18.7s remaining:    4.0s\n",
      "[Parallel(n_jobs=-1)]: Done  47 out of  50 | elapsed:   20.3s remaining:    1.2s\n",
      "[Parallel(n_jobs=-1)]: Done  50 out of  50 | elapsed:   20.9s finished\n"
     ]
    },
    {
     "name": "stdout",
     "output_type": "stream",
     "text": [
      "Plot saved to f:\\Third-year\\Third-year project\\quantum_repeaters_testing\\new_result1\\class_0\\TOP_41_GTSPOLAND\\result_for_[3, 22, 1]\n"
     ]
    },
    {
     "name": "stderr",
     "output_type": "stream",
     "text": [
      "  Processing combinations:  52%|█████▏    | 52/100 [17:03<20:02, 25.05s/combo][Parallel(n_jobs=-1)]: Using backend LokyBackend with 20 concurrent workers.\n",
      "[Parallel(n_jobs=-1)]: Done   1 tasks      | elapsed:    2.8s\n",
      "[Parallel(n_jobs=-1)]: Done  10 tasks      | elapsed:    3.0s\n",
      "[Parallel(n_jobs=-1)]: Done  17 out of  50 | elapsed:    3.2s remaining:    6.3s\n",
      "[Parallel(n_jobs=-1)]: Done  23 out of  50 | elapsed:    6.3s remaining:    7.4s\n",
      "[Parallel(n_jobs=-1)]: Done  29 out of  50 | elapsed:    8.4s remaining:    6.1s\n",
      "[Parallel(n_jobs=-1)]: Done  35 out of  50 | elapsed:   12.5s remaining:    5.3s\n",
      "[Parallel(n_jobs=-1)]: Done  41 out of  50 | elapsed:   17.4s remaining:    3.7s\n",
      "[Parallel(n_jobs=-1)]: Done  47 out of  50 | elapsed:   18.6s remaining:    1.1s\n",
      "[Parallel(n_jobs=-1)]: Done  50 out of  50 | elapsed:   19.3s finished\n",
      "  Processing combinations:  53%|█████▎    | 53/100 [17:24<18:33, 23.70s/combo]"
     ]
    },
    {
     "name": "stdout",
     "output_type": "stream",
     "text": [
      "Plot saved to f:\\Third-year\\Third-year project\\quantum_repeaters_testing\\new_result1\\class_0\\TOP_41_GTSPOLAND\\result_for_[3, 26, 7]\n"
     ]
    },
    {
     "name": "stderr",
     "output_type": "stream",
     "text": [
      "[Parallel(n_jobs=-1)]: Using backend LokyBackend with 20 concurrent workers.\n",
      "[Parallel(n_jobs=-1)]: Done   1 tasks      | elapsed:    4.4s\n",
      "[Parallel(n_jobs=-1)]: Done  10 tasks      | elapsed:    4.9s\n",
      "[Parallel(n_jobs=-1)]: Done  17 out of  50 | elapsed:    5.1s remaining:   10.1s\n",
      "[Parallel(n_jobs=-1)]: Done  23 out of  50 | elapsed:   12.7s remaining:   14.9s\n",
      "[Parallel(n_jobs=-1)]: Done  29 out of  50 | elapsed:   16.4s remaining:   11.8s\n",
      "[Parallel(n_jobs=-1)]: Done  35 out of  50 | elapsed:   19.8s remaining:    8.4s\n",
      "[Parallel(n_jobs=-1)]: Done  41 out of  50 | elapsed:   22.6s remaining:    4.9s\n",
      "[Parallel(n_jobs=-1)]: Done  47 out of  50 | elapsed:   23.8s remaining:    1.4s\n",
      "[Parallel(n_jobs=-1)]: Done  50 out of  50 | elapsed:   25.4s finished\n"
     ]
    },
    {
     "name": "stdout",
     "output_type": "stream",
     "text": [
      "Plot saved to f:\\Third-year\\Third-year project\\quantum_repeaters_testing\\new_result1\\class_0\\TOP_41_GTSPOLAND\\result_for_[3, 12, 7]\n"
     ]
    },
    {
     "name": "stderr",
     "output_type": "stream",
     "text": [
      "  Processing combinations:  54%|█████▍    | 54/100 [17:52<19:11, 25.04s/combo][Parallel(n_jobs=-1)]: Using backend LokyBackend with 20 concurrent workers.\n",
      "[Parallel(n_jobs=-1)]: Done   1 tasks      | elapsed:    2.8s\n",
      "[Parallel(n_jobs=-1)]: Done  10 tasks      | elapsed:    3.0s\n",
      "[Parallel(n_jobs=-1)]: Done  17 out of  50 | elapsed:    3.2s remaining:    6.3s\n",
      "[Parallel(n_jobs=-1)]: Done  23 out of  50 | elapsed:    7.6s remaining:    8.9s\n",
      "[Parallel(n_jobs=-1)]: Done  29 out of  50 | elapsed:   11.8s remaining:    8.5s\n",
      "[Parallel(n_jobs=-1)]: Done  35 out of  50 | elapsed:   15.2s remaining:    6.5s\n",
      "[Parallel(n_jobs=-1)]: Done  41 out of  50 | elapsed:   17.4s remaining:    3.7s\n",
      "[Parallel(n_jobs=-1)]: Done  47 out of  50 | elapsed:   18.8s remaining:    1.1s\n",
      "[Parallel(n_jobs=-1)]: Done  50 out of  50 | elapsed:   19.8s finished\n",
      "  Processing combinations:  55%|█████▌    | 55/100 [18:14<18:14, 24.33s/combo]"
     ]
    },
    {
     "name": "stdout",
     "output_type": "stream",
     "text": [
      "Plot saved to f:\\Third-year\\Third-year project\\quantum_repeaters_testing\\new_result1\\class_0\\TOP_41_GTSPOLAND\\result_for_[3, 26, 11]\n"
     ]
    },
    {
     "name": "stderr",
     "output_type": "stream",
     "text": [
      "[Parallel(n_jobs=-1)]: Using backend LokyBackend with 20 concurrent workers.\n",
      "[Parallel(n_jobs=-1)]: Done   1 tasks      | elapsed:    3.0s\n",
      "[Parallel(n_jobs=-1)]: Done  10 tasks      | elapsed:    3.2s\n",
      "[Parallel(n_jobs=-1)]: Done  17 out of  50 | elapsed:    3.6s remaining:    7.1s\n",
      "[Parallel(n_jobs=-1)]: Done  23 out of  50 | elapsed:    8.7s remaining:   10.2s\n",
      "[Parallel(n_jobs=-1)]: Done  29 out of  50 | elapsed:   13.1s remaining:    9.5s\n",
      "[Parallel(n_jobs=-1)]: Done  35 out of  50 | elapsed:   15.8s remaining:    6.7s\n",
      "[Parallel(n_jobs=-1)]: Done  41 out of  50 | elapsed:   18.3s remaining:    3.9s\n",
      "[Parallel(n_jobs=-1)]: Done  47 out of  50 | elapsed:   19.9s remaining:    1.2s\n",
      "[Parallel(n_jobs=-1)]: Done  50 out of  50 | elapsed:   20.8s finished\n"
     ]
    },
    {
     "name": "stdout",
     "output_type": "stream",
     "text": [
      "Plot saved to f:\\Third-year\\Third-year project\\quantum_repeaters_testing\\new_result1\\class_0\\TOP_41_GTSPOLAND\\result_for_[3, 19, 5]\n"
     ]
    },
    {
     "name": "stderr",
     "output_type": "stream",
     "text": [
      "  Processing combinations:  56%|█████▌    | 56/100 [18:38<17:39, 24.07s/combo][Parallel(n_jobs=-1)]: Using backend LokyBackend with 20 concurrent workers.\n",
      "[Parallel(n_jobs=-1)]: Done   1 tasks      | elapsed:    2.1s\n",
      "[Parallel(n_jobs=-1)]: Done  10 tasks      | elapsed:    2.4s\n",
      "[Parallel(n_jobs=-1)]: Done  17 out of  50 | elapsed:    2.9s remaining:    5.7s\n",
      "[Parallel(n_jobs=-1)]: Done  23 out of  50 | elapsed:    4.3s remaining:    5.1s\n",
      "[Parallel(n_jobs=-1)]: Done  29 out of  50 | elapsed:    5.0s remaining:    3.6s\n",
      "[Parallel(n_jobs=-1)]: Done  35 out of  50 | elapsed:    6.6s remaining:    2.8s\n",
      "[Parallel(n_jobs=-1)]: Done  41 out of  50 | elapsed:    9.4s remaining:    2.0s\n",
      "[Parallel(n_jobs=-1)]: Done  47 out of  50 | elapsed:   10.7s remaining:    0.6s\n",
      "[Parallel(n_jobs=-1)]: Done  50 out of  50 | elapsed:   11.4s finished\n"
     ]
    },
    {
     "name": "stdout",
     "output_type": "stream",
     "text": [
      "Plot saved to f:\\Third-year\\Third-year project\\quantum_repeaters_testing\\new_result1\\class_0\\TOP_41_GTSPOLAND\\result_for_[3, 20, 10]\n"
     ]
    },
    {
     "name": "stderr",
     "output_type": "stream",
     "text": [
      "  Processing combinations:  57%|█████▋    | 57/100 [18:52<15:07, 21.10s/combo][Parallel(n_jobs=-1)]: Using backend LokyBackend with 20 concurrent workers.\n",
      "[Parallel(n_jobs=-1)]: Done   1 tasks      | elapsed:    2.1s\n",
      "[Parallel(n_jobs=-1)]: Done  10 tasks      | elapsed:    2.4s\n",
      "[Parallel(n_jobs=-1)]: Done  17 out of  50 | elapsed:    2.9s remaining:    5.8s\n",
      "[Parallel(n_jobs=-1)]: Done  23 out of  50 | elapsed:    4.2s remaining:    4.9s\n",
      "[Parallel(n_jobs=-1)]: Done  29 out of  50 | elapsed:    4.9s remaining:    3.5s\n",
      "[Parallel(n_jobs=-1)]: Done  35 out of  50 | elapsed:    6.8s remaining:    2.8s\n",
      "[Parallel(n_jobs=-1)]: Done  41 out of  50 | elapsed:   12.1s remaining:    2.6s\n",
      "[Parallel(n_jobs=-1)]: Done  47 out of  50 | elapsed:   13.9s remaining:    0.8s\n",
      "[Parallel(n_jobs=-1)]: Done  50 out of  50 | elapsed:   14.3s finished\n",
      "  Processing combinations:  58%|█████▊    | 58/100 [19:08<13:37, 19.46s/combo]"
     ]
    },
    {
     "name": "stdout",
     "output_type": "stream",
     "text": [
      "Plot saved to f:\\Third-year\\Third-year project\\quantum_repeaters_testing\\new_result1\\class_0\\TOP_41_GTSPOLAND\\result_for_[3, 20, 18]\n"
     ]
    },
    {
     "name": "stderr",
     "output_type": "stream",
     "text": [
      "[Parallel(n_jobs=-1)]: Using backend LokyBackend with 20 concurrent workers.\n",
      "[Parallel(n_jobs=-1)]: Done   1 tasks      | elapsed:    2.9s\n",
      "[Parallel(n_jobs=-1)]: Done  10 tasks      | elapsed:    3.3s\n",
      "[Parallel(n_jobs=-1)]: Done  17 out of  50 | elapsed:    3.5s remaining:    6.9s\n",
      "[Parallel(n_jobs=-1)]: Done  23 out of  50 | elapsed:    8.3s remaining:    9.8s\n",
      "[Parallel(n_jobs=-1)]: Done  29 out of  50 | elapsed:   13.1s remaining:    9.4s\n",
      "[Parallel(n_jobs=-1)]: Done  35 out of  50 | elapsed:   19.5s remaining:    8.3s\n",
      "[Parallel(n_jobs=-1)]: Done  41 out of  50 | elapsed:   21.1s remaining:    4.6s\n",
      "[Parallel(n_jobs=-1)]: Done  47 out of  50 | elapsed:   23.5s remaining:    1.4s\n",
      "[Parallel(n_jobs=-1)]: Done  50 out of  50 | elapsed:   24.5s finished\n",
      "  Processing combinations:  59%|█████▉    | 59/100 [19:34<14:38, 21.42s/combo]"
     ]
    },
    {
     "name": "stdout",
     "output_type": "stream",
     "text": [
      "Plot saved to f:\\Third-year\\Third-year project\\quantum_repeaters_testing\\new_result1\\class_0\\TOP_41_GTSPOLAND\\result_for_[3, 22, 4]\n"
     ]
    },
    {
     "name": "stderr",
     "output_type": "stream",
     "text": [
      "[Parallel(n_jobs=-1)]: Using backend LokyBackend with 20 concurrent workers.\n",
      "[Parallel(n_jobs=-1)]: Done   1 tasks      | elapsed:    3.2s\n",
      "[Parallel(n_jobs=-1)]: Done  10 tasks      | elapsed:    3.7s\n",
      "[Parallel(n_jobs=-1)]: Done  17 out of  50 | elapsed:    6.1s remaining:   11.8s\n",
      "[Parallel(n_jobs=-1)]: Done  23 out of  50 | elapsed:   14.6s remaining:   17.1s\n",
      "[Parallel(n_jobs=-1)]: Done  29 out of  50 | elapsed:   17.7s remaining:   12.8s\n",
      "[Parallel(n_jobs=-1)]: Done  35 out of  50 | elapsed:   19.4s remaining:    8.3s\n",
      "[Parallel(n_jobs=-1)]: Done  41 out of  50 | elapsed:   23.8s remaining:    5.1s\n",
      "[Parallel(n_jobs=-1)]: Done  47 out of  50 | elapsed:   26.5s remaining:    1.6s\n",
      "[Parallel(n_jobs=-1)]: Done  50 out of  50 | elapsed:   27.4s finished\n",
      "  Processing combinations:  60%|██████    | 60/100 [20:02<15:42, 23.57s/combo]"
     ]
    },
    {
     "name": "stdout",
     "output_type": "stream",
     "text": [
      "Plot saved to f:\\Third-year\\Third-year project\\quantum_repeaters_testing\\new_result1\\class_0\\TOP_41_GTSPOLAND\\result_for_[3, 25, 16]\n"
     ]
    },
    {
     "name": "stderr",
     "output_type": "stream",
     "text": [
      "[Parallel(n_jobs=-1)]: Using backend LokyBackend with 20 concurrent workers.\n",
      "[Parallel(n_jobs=-1)]: Done   1 tasks      | elapsed:    0.9s\n",
      "[Parallel(n_jobs=-1)]: Done  10 tasks      | elapsed:    1.2s\n",
      "[Parallel(n_jobs=-1)]: Done  17 out of  50 | elapsed:    1.3s remaining:    2.7s\n",
      "[Parallel(n_jobs=-1)]: Done  23 out of  50 | elapsed:    2.0s remaining:    2.4s\n",
      "[Parallel(n_jobs=-1)]: Done  29 out of  50 | elapsed:    2.3s remaining:    1.7s\n",
      "[Parallel(n_jobs=-1)]: Done  35 out of  50 | elapsed:    3.2s remaining:    1.3s\n",
      "[Parallel(n_jobs=-1)]: Done  41 out of  50 | elapsed:    5.2s remaining:    1.1s\n",
      "[Parallel(n_jobs=-1)]: Done  47 out of  50 | elapsed:    6.2s remaining:    0.3s\n",
      "[Parallel(n_jobs=-1)]: Done  50 out of  50 | elapsed:    6.6s finished\n",
      "  Processing combinations:  61%|██████    | 61/100 [20:10<12:12, 18.78s/combo]"
     ]
    },
    {
     "name": "stdout",
     "output_type": "stream",
     "text": [
      "Plot saved to f:\\Third-year\\Third-year project\\quantum_repeaters_testing\\new_result1\\class_0\\TOP_41_GTSPOLAND\\result_for_[3, 20, 2]\n"
     ]
    },
    {
     "name": "stderr",
     "output_type": "stream",
     "text": [
      "[Parallel(n_jobs=-1)]: Using backend LokyBackend with 20 concurrent workers.\n",
      "[Parallel(n_jobs=-1)]: Done   1 tasks      | elapsed:    1.5s\n",
      "[Parallel(n_jobs=-1)]: Done  10 tasks      | elapsed:    1.9s\n",
      "[Parallel(n_jobs=-1)]: Done  17 out of  50 | elapsed:    2.6s remaining:    5.1s\n",
      "[Parallel(n_jobs=-1)]: Done  23 out of  50 | elapsed:    6.2s remaining:    7.3s\n",
      "[Parallel(n_jobs=-1)]: Done  29 out of  50 | elapsed:    8.2s remaining:    5.9s\n",
      "[Parallel(n_jobs=-1)]: Done  35 out of  50 | elapsed:    9.8s remaining:    4.2s\n",
      "[Parallel(n_jobs=-1)]: Done  41 out of  50 | elapsed:   12.1s remaining:    2.6s\n",
      "[Parallel(n_jobs=-1)]: Done  47 out of  50 | elapsed:   13.3s remaining:    0.8s\n",
      "[Parallel(n_jobs=-1)]: Done  50 out of  50 | elapsed:   13.5s finished\n",
      "  Processing combinations:  62%|██████▏   | 62/100 [20:25<11:06, 17.54s/combo]"
     ]
    },
    {
     "name": "stdout",
     "output_type": "stream",
     "text": [
      "Plot saved to f:\\Third-year\\Third-year project\\quantum_repeaters_testing\\new_result1\\class_0\\TOP_41_GTSPOLAND\\result_for_[3, 25, 5]\n"
     ]
    },
    {
     "name": "stderr",
     "output_type": "stream",
     "text": [
      "[Parallel(n_jobs=-1)]: Using backend LokyBackend with 20 concurrent workers.\n",
      "[Parallel(n_jobs=-1)]: Done   1 tasks      | elapsed:    1.4s\n",
      "[Parallel(n_jobs=-1)]: Done  10 tasks      | elapsed:    1.6s\n",
      "[Parallel(n_jobs=-1)]: Done  17 out of  50 | elapsed:    1.7s remaining:    3.4s\n",
      "[Parallel(n_jobs=-1)]: Done  23 out of  50 | elapsed:    3.8s remaining:    4.4s\n",
      "[Parallel(n_jobs=-1)]: Done  29 out of  50 | elapsed:    6.4s remaining:    4.6s\n",
      "[Parallel(n_jobs=-1)]: Done  35 out of  50 | elapsed:    9.0s remaining:    3.8s\n",
      "[Parallel(n_jobs=-1)]: Done  41 out of  50 | elapsed:   10.0s remaining:    2.1s\n",
      "[Parallel(n_jobs=-1)]: Done  47 out of  50 | elapsed:   11.2s remaining:    0.6s\n",
      "[Parallel(n_jobs=-1)]: Done  50 out of  50 | elapsed:   11.9s finished\n",
      "  Processing combinations:  63%|██████▎   | 63/100 [20:37<09:57, 16.15s/combo]"
     ]
    },
    {
     "name": "stdout",
     "output_type": "stream",
     "text": [
      "Plot saved to f:\\Third-year\\Third-year project\\quantum_repeaters_testing\\new_result1\\class_0\\TOP_41_GTSPOLAND\\result_for_[3, 13, 8]\n"
     ]
    },
    {
     "name": "stderr",
     "output_type": "stream",
     "text": [
      "[Parallel(n_jobs=-1)]: Using backend LokyBackend with 20 concurrent workers.\n",
      "[Parallel(n_jobs=-1)]: Done   1 tasks      | elapsed:    1.4s\n",
      "[Parallel(n_jobs=-1)]: Done  10 tasks      | elapsed:    1.5s\n",
      "[Parallel(n_jobs=-1)]: Done  17 out of  50 | elapsed:    1.6s remaining:    3.2s\n",
      "[Parallel(n_jobs=-1)]: Done  23 out of  50 | elapsed:    3.8s remaining:    4.5s\n",
      "[Parallel(n_jobs=-1)]: Done  29 out of  50 | elapsed:    5.9s remaining:    4.2s\n",
      "[Parallel(n_jobs=-1)]: Done  35 out of  50 | elapsed:    7.5s remaining:    3.2s\n",
      "[Parallel(n_jobs=-1)]: Done  41 out of  50 | elapsed:    9.3s remaining:    2.0s\n",
      "[Parallel(n_jobs=-1)]: Done  47 out of  50 | elapsed:   10.9s remaining:    0.6s\n",
      "[Parallel(n_jobs=-1)]: Done  50 out of  50 | elapsed:   11.3s finished\n",
      "  Processing combinations:  64%|██████▍   | 64/100 [20:50<09:00, 15.02s/combo]"
     ]
    },
    {
     "name": "stdout",
     "output_type": "stream",
     "text": [
      "Plot saved to f:\\Third-year\\Third-year project\\quantum_repeaters_testing\\new_result1\\class_0\\TOP_41_GTSPOLAND\\result_for_[3, 25, 10]\n"
     ]
    },
    {
     "name": "stderr",
     "output_type": "stream",
     "text": [
      "[Parallel(n_jobs=-1)]: Using backend LokyBackend with 20 concurrent workers.\n",
      "[Parallel(n_jobs=-1)]: Done   1 tasks      | elapsed:    1.5s\n",
      "[Parallel(n_jobs=-1)]: Done  10 tasks      | elapsed:    1.7s\n",
      "[Parallel(n_jobs=-1)]: Done  17 out of  50 | elapsed:    1.8s remaining:    3.6s\n",
      "[Parallel(n_jobs=-1)]: Done  23 out of  50 | elapsed:    4.5s remaining:    5.3s\n",
      "[Parallel(n_jobs=-1)]: Done  29 out of  50 | elapsed:    7.2s remaining:    5.2s\n",
      "[Parallel(n_jobs=-1)]: Done  35 out of  50 | elapsed:    9.8s remaining:    4.1s\n",
      "[Parallel(n_jobs=-1)]: Done  41 out of  50 | elapsed:   12.1s remaining:    2.6s\n",
      "[Parallel(n_jobs=-1)]: Done  47 out of  50 | elapsed:   13.5s remaining:    0.8s\n",
      "[Parallel(n_jobs=-1)]: Done  50 out of  50 | elapsed:   14.8s finished\n"
     ]
    },
    {
     "name": "stdout",
     "output_type": "stream",
     "text": [
      "Plot saved to f:\\Third-year\\Third-year project\\quantum_repeaters_testing\\new_result1\\class_0\\TOP_41_GTSPOLAND\\result_for_[3, 24, 10]\n"
     ]
    },
    {
     "name": "stderr",
     "output_type": "stream",
     "text": [
      "  Processing combinations:  65%|██████▌   | 65/100 [21:08<09:14, 15.83s/combo][Parallel(n_jobs=-1)]: Using backend LokyBackend with 20 concurrent workers.\n",
      "[Parallel(n_jobs=-1)]: Done   1 tasks      | elapsed:    2.5s\n",
      "[Parallel(n_jobs=-1)]: Done  10 tasks      | elapsed:    2.8s\n",
      "[Parallel(n_jobs=-1)]: Done  17 out of  50 | elapsed:    3.2s remaining:    6.2s\n",
      "[Parallel(n_jobs=-1)]: Done  23 out of  50 | elapsed:    8.0s remaining:    9.4s\n",
      "[Parallel(n_jobs=-1)]: Done  29 out of  50 | elapsed:   10.6s remaining:    7.6s\n",
      "[Parallel(n_jobs=-1)]: Done  35 out of  50 | elapsed:   14.3s remaining:    6.1s\n",
      "[Parallel(n_jobs=-1)]: Done  41 out of  50 | elapsed:   18.2s remaining:    3.9s\n",
      "[Parallel(n_jobs=-1)]: Done  47 out of  50 | elapsed:   19.5s remaining:    1.2s\n",
      "[Parallel(n_jobs=-1)]: Done  50 out of  50 | elapsed:   20.2s finished\n"
     ]
    },
    {
     "name": "stdout",
     "output_type": "stream",
     "text": [
      "Plot saved to f:\\Third-year\\Third-year project\\quantum_repeaters_testing\\new_result1\\class_0\\TOP_41_GTSPOLAND\\result_for_[3, 14, 1]\n"
     ]
    },
    {
     "name": "stderr",
     "output_type": "stream",
     "text": [
      "  Processing combinations:  66%|██████▌   | 66/100 [21:31<10:14, 18.07s/combo][Parallel(n_jobs=-1)]: Using backend LokyBackend with 20 concurrent workers.\n",
      "[Parallel(n_jobs=-1)]: Done   1 tasks      | elapsed:    3.1s\n",
      "[Parallel(n_jobs=-1)]: Done  10 tasks      | elapsed:    3.5s\n",
      "[Parallel(n_jobs=-1)]: Done  17 out of  50 | elapsed:    4.1s remaining:    8.1s\n",
      "[Parallel(n_jobs=-1)]: Done  23 out of  50 | elapsed:    8.6s remaining:   10.1s\n",
      "[Parallel(n_jobs=-1)]: Done  29 out of  50 | elapsed:   11.3s remaining:    8.2s\n",
      "[Parallel(n_jobs=-1)]: Done  35 out of  50 | elapsed:   13.6s remaining:    5.8s\n",
      "[Parallel(n_jobs=-1)]: Done  41 out of  50 | elapsed:   15.5s remaining:    3.3s\n",
      "[Parallel(n_jobs=-1)]: Done  47 out of  50 | elapsed:   16.9s remaining:    1.0s\n",
      "[Parallel(n_jobs=-1)]: Done  50 out of  50 | elapsed:   17.4s finished\n"
     ]
    },
    {
     "name": "stdout",
     "output_type": "stream",
     "text": [
      "Plot saved to f:\\Third-year\\Third-year project\\quantum_repeaters_testing\\new_result1\\class_0\\TOP_41_GTSPOLAND\\result_for_[3, 14, 8]\n"
     ]
    },
    {
     "name": "stderr",
     "output_type": "stream",
     "text": [
      "  Processing combinations:  67%|██████▋   | 67/100 [21:51<10:14, 18.62s/combo][Parallel(n_jobs=-1)]: Using backend LokyBackend with 20 concurrent workers.\n",
      "[Parallel(n_jobs=-1)]: Done   1 tasks      | elapsed:    2.5s\n",
      "[Parallel(n_jobs=-1)]: Done  10 tasks      | elapsed:    2.7s\n",
      "[Parallel(n_jobs=-1)]: Done  17 out of  50 | elapsed:    3.0s remaining:    5.9s\n",
      "[Parallel(n_jobs=-1)]: Done  23 out of  50 | elapsed:    6.0s remaining:    7.0s\n",
      "[Parallel(n_jobs=-1)]: Done  29 out of  50 | elapsed:    8.2s remaining:    5.9s\n",
      "[Parallel(n_jobs=-1)]: Done  35 out of  50 | elapsed:   12.1s remaining:    5.1s\n",
      "[Parallel(n_jobs=-1)]: Done  41 out of  50 | elapsed:   15.4s remaining:    3.3s\n",
      "[Parallel(n_jobs=-1)]: Done  47 out of  50 | elapsed:   16.1s remaining:    0.9s\n",
      "[Parallel(n_jobs=-1)]: Done  50 out of  50 | elapsed:   16.7s finished\n"
     ]
    },
    {
     "name": "stdout",
     "output_type": "stream",
     "text": [
      "Plot saved to f:\\Third-year\\Third-year project\\quantum_repeaters_testing\\new_result1\\class_0\\TOP_41_GTSPOLAND\\result_for_[3, 19, 17]\n"
     ]
    },
    {
     "name": "stderr",
     "output_type": "stream",
     "text": [
      "  Processing combinations:  68%|██████▊   | 68/100 [22:10<10:04, 18.88s/combo][Parallel(n_jobs=-1)]: Using backend LokyBackend with 20 concurrent workers.\n",
      "[Parallel(n_jobs=-1)]: Done   1 tasks      | elapsed:    3.5s\n",
      "[Parallel(n_jobs=-1)]: Done  10 tasks      | elapsed:    4.2s\n",
      "[Parallel(n_jobs=-1)]: Done  17 out of  50 | elapsed:    9.6s remaining:   18.8s\n",
      "[Parallel(n_jobs=-1)]: Done  23 out of  50 | elapsed:   18.7s remaining:   22.0s\n",
      "[Parallel(n_jobs=-1)]: Done  29 out of  50 | elapsed:   24.3s remaining:   17.6s\n",
      "[Parallel(n_jobs=-1)]: Done  35 out of  50 | elapsed:   26.7s remaining:   11.4s\n",
      "[Parallel(n_jobs=-1)]: Done  41 out of  50 | elapsed:   31.5s remaining:    6.8s\n",
      "[Parallel(n_jobs=-1)]: Done  47 out of  50 | elapsed:   34.4s remaining:    2.1s\n",
      "[Parallel(n_jobs=-1)]: Done  50 out of  50 | elapsed:   34.9s finished\n"
     ]
    },
    {
     "name": "stdout",
     "output_type": "stream",
     "text": [
      "Plot saved to f:\\Third-year\\Third-year project\\quantum_repeaters_testing\\new_result1\\class_0\\TOP_41_GTSPOLAND\\result_for_[3, 21, 16]\n"
     ]
    },
    {
     "name": "stderr",
     "output_type": "stream",
     "text": [
      "  Processing combinations:  69%|██████▉   | 69/100 [22:47<12:34, 24.35s/combo][Parallel(n_jobs=-1)]: Using backend LokyBackend with 20 concurrent workers.\n",
      "[Parallel(n_jobs=-1)]: Done   1 tasks      | elapsed:    2.9s\n",
      "[Parallel(n_jobs=-1)]: Done  10 tasks      | elapsed:    3.1s\n",
      "[Parallel(n_jobs=-1)]: Done  17 out of  50 | elapsed:    3.3s remaining:    6.5s\n",
      "[Parallel(n_jobs=-1)]: Done  23 out of  50 | elapsed:    7.8s remaining:    9.1s\n",
      "[Parallel(n_jobs=-1)]: Done  29 out of  50 | elapsed:   11.8s remaining:    8.5s\n",
      "[Parallel(n_jobs=-1)]: Done  35 out of  50 | elapsed:   15.1s remaining:    6.4s\n",
      "[Parallel(n_jobs=-1)]: Done  41 out of  50 | elapsed:   17.7s remaining:    3.8s\n",
      "[Parallel(n_jobs=-1)]: Done  47 out of  50 | elapsed:   18.9s remaining:    1.1s\n",
      "[Parallel(n_jobs=-1)]: Done  50 out of  50 | elapsed:   20.0s finished\n"
     ]
    },
    {
     "name": "stdout",
     "output_type": "stream",
     "text": [
      "Plot saved to f:\\Third-year\\Third-year project\\quantum_repeaters_testing\\new_result1\\class_0\\TOP_41_GTSPOLAND\\result_for_[3, 14, 9]\n"
     ]
    },
    {
     "name": "stderr",
     "output_type": "stream",
     "text": [
      "  Processing combinations:  70%|███████   | 70/100 [23:10<11:58, 23.96s/combo][Parallel(n_jobs=-1)]: Using backend LokyBackend with 20 concurrent workers.\n",
      "[Parallel(n_jobs=-1)]: Done   1 tasks      | elapsed:    2.9s\n",
      "[Parallel(n_jobs=-1)]: Done  10 tasks      | elapsed:    3.1s\n",
      "[Parallel(n_jobs=-1)]: Done  17 out of  50 | elapsed:    3.2s remaining:    6.4s\n",
      "[Parallel(n_jobs=-1)]: Done  23 out of  50 | elapsed:    7.3s remaining:    8.6s\n",
      "[Parallel(n_jobs=-1)]: Done  29 out of  50 | elapsed:   10.6s remaining:    7.7s\n",
      "[Parallel(n_jobs=-1)]: Done  35 out of  50 | elapsed:   14.4s remaining:    6.1s\n",
      "[Parallel(n_jobs=-1)]: Done  41 out of  50 | elapsed:   17.1s remaining:    3.7s\n",
      "[Parallel(n_jobs=-1)]: Done  47 out of  50 | elapsed:   18.2s remaining:    1.1s\n",
      "[Parallel(n_jobs=-1)]: Done  50 out of  50 | elapsed:   19.1s finished\n"
     ]
    },
    {
     "name": "stdout",
     "output_type": "stream",
     "text": [
      "Plot saved to f:\\Third-year\\Third-year project\\quantum_repeaters_testing\\new_result1\\class_0\\TOP_41_GTSPOLAND\\result_for_[3, 26, 17]\n"
     ]
    },
    {
     "name": "stderr",
     "output_type": "stream",
     "text": [
      "  Processing combinations:  71%|███████   | 71/100 [23:32<11:17, 23.35s/combo][Parallel(n_jobs=-1)]: Using backend LokyBackend with 20 concurrent workers.\n",
      "[Parallel(n_jobs=-1)]: Done   1 tasks      | elapsed:    2.8s\n",
      "[Parallel(n_jobs=-1)]: Done  10 tasks      | elapsed:    2.9s\n",
      "[Parallel(n_jobs=-1)]: Done  17 out of  50 | elapsed:    3.2s remaining:    6.3s\n",
      "[Parallel(n_jobs=-1)]: Done  23 out of  50 | elapsed:    6.1s remaining:    7.2s\n",
      "[Parallel(n_jobs=-1)]: Done  29 out of  50 | elapsed:    8.6s remaining:    6.2s\n",
      "[Parallel(n_jobs=-1)]: Done  35 out of  50 | elapsed:   12.9s remaining:    5.5s\n",
      "[Parallel(n_jobs=-1)]: Done  41 out of  50 | elapsed:   16.4s remaining:    3.5s\n",
      "[Parallel(n_jobs=-1)]: Done  47 out of  50 | elapsed:   17.0s remaining:    1.0s\n",
      "[Parallel(n_jobs=-1)]: Done  50 out of  50 | elapsed:   18.0s finished\n"
     ]
    },
    {
     "name": "stdout",
     "output_type": "stream",
     "text": [
      "Plot saved to f:\\Third-year\\Third-year project\\quantum_repeaters_testing\\new_result1\\class_0\\TOP_41_GTSPOLAND\\result_for_[3, 12, 4]\n"
     ]
    },
    {
     "name": "stderr",
     "output_type": "stream",
     "text": [
      "  Processing combinations:  72%|███████▏  | 72/100 [23:53<10:31, 22.55s/combo][Parallel(n_jobs=-1)]: Using backend LokyBackend with 20 concurrent workers.\n",
      "[Parallel(n_jobs=-1)]: Done   1 tasks      | elapsed:    3.2s\n",
      "[Parallel(n_jobs=-1)]: Done  10 tasks      | elapsed:    3.4s\n",
      "[Parallel(n_jobs=-1)]: Done  17 out of  50 | elapsed:    4.7s remaining:    9.2s\n",
      "[Parallel(n_jobs=-1)]: Done  23 out of  50 | elapsed:   15.9s remaining:   18.7s\n",
      "[Parallel(n_jobs=-1)]: Done  29 out of  50 | elapsed:   22.4s remaining:   16.2s\n",
      "[Parallel(n_jobs=-1)]: Done  35 out of  50 | elapsed:   24.3s remaining:   10.4s\n",
      "[Parallel(n_jobs=-1)]: Done  41 out of  50 | elapsed:   29.1s remaining:    6.3s\n",
      "[Parallel(n_jobs=-1)]: Done  47 out of  50 | elapsed:   31.3s remaining:    1.9s\n",
      "[Parallel(n_jobs=-1)]: Done  50 out of  50 | elapsed:   31.8s finished\n",
      "  Processing combinations:  73%|███████▎  | 73/100 [24:27<11:39, 25.91s/combo]"
     ]
    },
    {
     "name": "stdout",
     "output_type": "stream",
     "text": [
      "Plot saved to f:\\Third-year\\Third-year project\\quantum_repeaters_testing\\new_result1\\class_0\\TOP_41_GTSPOLAND\\result_for_[3, 21, 2]\n"
     ]
    },
    {
     "name": "stderr",
     "output_type": "stream",
     "text": [
      "[Parallel(n_jobs=-1)]: Using backend LokyBackend with 20 concurrent workers.\n",
      "[Parallel(n_jobs=-1)]: Done   1 tasks      | elapsed:    3.2s\n",
      "[Parallel(n_jobs=-1)]: Done  10 tasks      | elapsed:    3.4s\n",
      "[Parallel(n_jobs=-1)]: Done  17 out of  50 | elapsed:    6.1s remaining:   12.0s\n",
      "[Parallel(n_jobs=-1)]: Done  23 out of  50 | elapsed:   17.6s remaining:   20.6s\n",
      "[Parallel(n_jobs=-1)]: Done  29 out of  50 | elapsed:   21.0s remaining:   15.2s\n",
      "[Parallel(n_jobs=-1)]: Done  35 out of  50 | elapsed:   22.7s remaining:    9.7s\n",
      "[Parallel(n_jobs=-1)]: Done  41 out of  50 | elapsed:   26.3s remaining:    5.7s\n",
      "[Parallel(n_jobs=-1)]: Done  47 out of  50 | elapsed:   27.7s remaining:    1.7s\n",
      "[Parallel(n_jobs=-1)]: Done  50 out of  50 | elapsed:   28.2s finished\n",
      "  Processing combinations:  74%|███████▍  | 74/100 [24:58<11:52, 27.39s/combo]"
     ]
    },
    {
     "name": "stdout",
     "output_type": "stream",
     "text": [
      "Plot saved to f:\\Third-year\\Third-year project\\quantum_repeaters_testing\\new_result1\\class_0\\TOP_41_GTSPOLAND\\result_for_[3, 26, 16]\n"
     ]
    },
    {
     "name": "stderr",
     "output_type": "stream",
     "text": [
      "[Parallel(n_jobs=-1)]: Using backend LokyBackend with 20 concurrent workers.\n",
      "[Parallel(n_jobs=-1)]: Done   1 tasks      | elapsed:    3.3s\n",
      "[Parallel(n_jobs=-1)]: Done  10 tasks      | elapsed:    4.2s\n",
      "[Parallel(n_jobs=-1)]: Done  17 out of  50 | elapsed:    7.7s remaining:   15.0s\n",
      "[Parallel(n_jobs=-1)]: Done  23 out of  50 | elapsed:   20.9s remaining:   24.6s\n",
      "[Parallel(n_jobs=-1)]: Done  29 out of  50 | elapsed:   23.5s remaining:   17.0s\n",
      "[Parallel(n_jobs=-1)]: Done  35 out of  50 | elapsed:   24.8s remaining:   10.6s\n",
      "[Parallel(n_jobs=-1)]: Done  41 out of  50 | elapsed:   26.6s remaining:    5.8s\n",
      "[Parallel(n_jobs=-1)]: Done  47 out of  50 | elapsed:   29.8s remaining:    1.8s\n",
      "[Parallel(n_jobs=-1)]: Done  50 out of  50 | elapsed:   30.3s finished\n"
     ]
    },
    {
     "name": "stdout",
     "output_type": "stream",
     "text": [
      "Plot saved to f:\\Third-year\\Third-year project\\quantum_repeaters_testing\\new_result1\\class_0\\TOP_41_GTSPOLAND\\result_for_[3, 21, 8]\n"
     ]
    },
    {
     "name": "stderr",
     "output_type": "stream",
     "text": [
      "  Processing combinations:  75%|███████▌  | 75/100 [25:31<12:07, 29.10s/combo][Parallel(n_jobs=-1)]: Using backend LokyBackend with 20 concurrent workers.\n",
      "[Parallel(n_jobs=-1)]: Done   1 tasks      | elapsed:    3.8s\n",
      "[Parallel(n_jobs=-1)]: Done  10 tasks      | elapsed:    4.5s\n",
      "[Parallel(n_jobs=-1)]: Done  17 out of  50 | elapsed:    4.9s remaining:    9.5s\n",
      "[Parallel(n_jobs=-1)]: Done  23 out of  50 | elapsed:   13.4s remaining:   15.8s\n",
      "[Parallel(n_jobs=-1)]: Done  29 out of  50 | elapsed:   18.2s remaining:   13.2s\n",
      "[Parallel(n_jobs=-1)]: Done  35 out of  50 | elapsed:   22.6s remaining:    9.6s\n",
      "[Parallel(n_jobs=-1)]: Done  41 out of  50 | elapsed:   26.9s remaining:    5.8s\n",
      "[Parallel(n_jobs=-1)]: Done  47 out of  50 | elapsed:   30.1s remaining:    1.8s\n",
      "[Parallel(n_jobs=-1)]: Done  50 out of  50 | elapsed:   30.3s finished\n"
     ]
    },
    {
     "name": "stdout",
     "output_type": "stream",
     "text": [
      "Plot saved to f:\\Third-year\\Third-year project\\quantum_repeaters_testing\\new_result1\\class_0\\TOP_41_GTSPOLAND\\result_for_[3, 24, 9]\n"
     ]
    },
    {
     "name": "stderr",
     "output_type": "stream",
     "text": [
      "  Processing combinations:  76%|███████▌  | 76/100 [26:03<12:04, 30.20s/combo][Parallel(n_jobs=-1)]: Using backend LokyBackend with 20 concurrent workers.\n",
      "[Parallel(n_jobs=-1)]: Done   1 tasks      | elapsed:    3.0s\n",
      "[Parallel(n_jobs=-1)]: Done  10 tasks      | elapsed:    3.2s\n",
      "[Parallel(n_jobs=-1)]: Done  17 out of  50 | elapsed:    4.0s remaining:    7.8s\n",
      "[Parallel(n_jobs=-1)]: Done  23 out of  50 | elapsed:   15.4s remaining:   18.1s\n",
      "[Parallel(n_jobs=-1)]: Done  29 out of  50 | elapsed:   20.6s remaining:   14.9s\n",
      "[Parallel(n_jobs=-1)]: Done  35 out of  50 | elapsed:   23.6s remaining:   10.0s\n",
      "[Parallel(n_jobs=-1)]: Done  41 out of  50 | elapsed:   26.1s remaining:    5.7s\n",
      "[Parallel(n_jobs=-1)]: Done  47 out of  50 | elapsed:   31.0s remaining:    1.9s\n",
      "[Parallel(n_jobs=-1)]: Done  50 out of  50 | elapsed:   31.4s finished\n",
      "  Processing combinations:  77%|███████▋  | 77/100 [26:37<11:59, 31.27s/combo]"
     ]
    },
    {
     "name": "stdout",
     "output_type": "stream",
     "text": [
      "Plot saved to f:\\Third-year\\Third-year project\\quantum_repeaters_testing\\new_result1\\class_0\\TOP_41_GTSPOLAND\\result_for_[3, 14, 15]\n"
     ]
    },
    {
     "name": "stderr",
     "output_type": "stream",
     "text": [
      "[Parallel(n_jobs=-1)]: Using backend LokyBackend with 20 concurrent workers.\n",
      "[Parallel(n_jobs=-1)]: Done   1 tasks      | elapsed:    2.5s\n",
      "[Parallel(n_jobs=-1)]: Done  10 tasks      | elapsed:    2.7s\n",
      "[Parallel(n_jobs=-1)]: Done  17 out of  50 | elapsed:    3.1s remaining:    6.1s\n",
      "[Parallel(n_jobs=-1)]: Done  23 out of  50 | elapsed:    6.6s remaining:    7.8s\n",
      "[Parallel(n_jobs=-1)]: Done  29 out of  50 | elapsed:    8.5s remaining:    6.2s\n",
      "[Parallel(n_jobs=-1)]: Done  35 out of  50 | elapsed:   13.6s remaining:    5.8s\n",
      "[Parallel(n_jobs=-1)]: Done  41 out of  50 | elapsed:   16.4s remaining:    3.5s\n",
      "[Parallel(n_jobs=-1)]: Done  47 out of  50 | elapsed:   19.2s remaining:    1.1s\n",
      "[Parallel(n_jobs=-1)]: Done  50 out of  50 | elapsed:   19.4s finished\n",
      "  Processing combinations:  78%|███████▊  | 78/100 [26:58<10:20, 28.22s/combo]"
     ]
    },
    {
     "name": "stdout",
     "output_type": "stream",
     "text": [
      "Plot saved to f:\\Third-year\\Third-year project\\quantum_repeaters_testing\\new_result1\\class_0\\TOP_41_GTSPOLAND\\result_for_[3, 24, 4]\n"
     ]
    },
    {
     "name": "stderr",
     "output_type": "stream",
     "text": [
      "[Parallel(n_jobs=-1)]: Using backend LokyBackend with 20 concurrent workers.\n",
      "[Parallel(n_jobs=-1)]: Done   1 tasks      | elapsed:    2.7s\n",
      "[Parallel(n_jobs=-1)]: Done  10 tasks      | elapsed:    2.8s\n",
      "[Parallel(n_jobs=-1)]: Done  17 out of  50 | elapsed:    3.1s remaining:    6.0s\n",
      "[Parallel(n_jobs=-1)]: Done  23 out of  50 | elapsed:    7.9s remaining:    9.3s\n",
      "[Parallel(n_jobs=-1)]: Done  29 out of  50 | elapsed:   11.3s remaining:    8.1s\n",
      "[Parallel(n_jobs=-1)]: Done  35 out of  50 | elapsed:   17.8s remaining:    7.6s\n",
      "[Parallel(n_jobs=-1)]: Done  41 out of  50 | elapsed:   21.7s remaining:    4.7s\n",
      "[Parallel(n_jobs=-1)]: Done  47 out of  50 | elapsed:   23.5s remaining:    1.4s\n",
      "[Parallel(n_jobs=-1)]: Done  50 out of  50 | elapsed:   24.3s finished\n"
     ]
    },
    {
     "name": "stdout",
     "output_type": "stream",
     "text": [
      "Plot saved to f:\\Third-year\\Third-year project\\quantum_repeaters_testing\\new_result1\\class_0\\TOP_41_GTSPOLAND\\result_for_[3, 24, 1]\n"
     ]
    },
    {
     "name": "stderr",
     "output_type": "stream",
     "text": [
      "  Processing combinations:  79%|███████▉  | 79/100 [27:26<09:47, 27.95s/combo][Parallel(n_jobs=-1)]: Using backend LokyBackend with 20 concurrent workers.\n",
      "[Parallel(n_jobs=-1)]: Done   1 tasks      | elapsed:    2.6s\n",
      "[Parallel(n_jobs=-1)]: Done  10 tasks      | elapsed:    2.9s\n",
      "[Parallel(n_jobs=-1)]: Done  17 out of  50 | elapsed:    3.3s remaining:    6.4s\n",
      "[Parallel(n_jobs=-1)]: Done  23 out of  50 | elapsed:    6.5s remaining:    7.7s\n",
      "[Parallel(n_jobs=-1)]: Done  29 out of  50 | elapsed:    8.9s remaining:    6.4s\n",
      "[Parallel(n_jobs=-1)]: Done  35 out of  50 | elapsed:   13.6s remaining:    5.8s\n",
      "[Parallel(n_jobs=-1)]: Done  41 out of  50 | elapsed:   19.5s remaining:    4.2s\n",
      "[Parallel(n_jobs=-1)]: Done  47 out of  50 | elapsed:   20.6s remaining:    1.2s\n",
      "[Parallel(n_jobs=-1)]: Done  50 out of  50 | elapsed:   20.9s finished\n",
      "  Processing combinations:  80%|████████  | 80/100 [27:48<08:46, 26.31s/combo]"
     ]
    },
    {
     "name": "stdout",
     "output_type": "stream",
     "text": [
      "Plot saved to f:\\Third-year\\Third-year project\\quantum_repeaters_testing\\new_result1\\class_0\\TOP_41_GTSPOLAND\\result_for_[3, 25, 4]\n"
     ]
    },
    {
     "name": "stderr",
     "output_type": "stream",
     "text": [
      "[Parallel(n_jobs=-1)]: Using backend LokyBackend with 20 concurrent workers.\n",
      "[Parallel(n_jobs=-1)]: Done   1 tasks      | elapsed:    3.1s\n",
      "[Parallel(n_jobs=-1)]: Done  10 tasks      | elapsed:    3.4s\n",
      "[Parallel(n_jobs=-1)]: Done  17 out of  50 | elapsed:    4.0s remaining:    7.9s\n",
      "[Parallel(n_jobs=-1)]: Done  23 out of  50 | elapsed:   11.9s remaining:   14.0s\n",
      "[Parallel(n_jobs=-1)]: Done  29 out of  50 | elapsed:   17.4s remaining:   12.6s\n",
      "[Parallel(n_jobs=-1)]: Done  35 out of  50 | elapsed:   19.8s remaining:    8.4s\n",
      "[Parallel(n_jobs=-1)]: Done  41 out of  50 | elapsed:   22.3s remaining:    4.8s\n",
      "[Parallel(n_jobs=-1)]: Done  47 out of  50 | elapsed:   23.7s remaining:    1.4s\n",
      "[Parallel(n_jobs=-1)]: Done  50 out of  50 | elapsed:   25.2s finished\n"
     ]
    },
    {
     "name": "stdout",
     "output_type": "stream",
     "text": [
      "Plot saved to f:\\Third-year\\Third-year project\\quantum_repeaters_testing\\new_result1\\class_0\\TOP_41_GTSPOLAND\\result_for_[3, 14, 6]\n"
     ]
    },
    {
     "name": "stderr",
     "output_type": "stream",
     "text": [
      "  Processing combinations:  81%|████████  | 81/100 [28:16<08:30, 26.85s/combo][Parallel(n_jobs=-1)]: Using backend LokyBackend with 20 concurrent workers.\n",
      "[Parallel(n_jobs=-1)]: Done   1 tasks      | elapsed:    3.0s\n",
      "[Parallel(n_jobs=-1)]: Done  10 tasks      | elapsed:    3.2s\n",
      "[Parallel(n_jobs=-1)]: Done  17 out of  50 | elapsed:    3.5s remaining:    7.0s\n",
      "[Parallel(n_jobs=-1)]: Done  23 out of  50 | elapsed:   10.4s remaining:   12.2s\n",
      "[Parallel(n_jobs=-1)]: Done  29 out of  50 | elapsed:   14.5s remaining:   10.5s\n",
      "[Parallel(n_jobs=-1)]: Done  35 out of  50 | elapsed:   16.5s remaining:    7.0s\n",
      "[Parallel(n_jobs=-1)]: Done  41 out of  50 | elapsed:   19.5s remaining:    4.2s\n",
      "[Parallel(n_jobs=-1)]: Done  47 out of  50 | elapsed:   21.0s remaining:    1.2s\n",
      "[Parallel(n_jobs=-1)]: Done  50 out of  50 | elapsed:   22.0s finished\n"
     ]
    },
    {
     "name": "stdout",
     "output_type": "stream",
     "text": [
      "Plot saved to f:\\Third-year\\Third-year project\\quantum_repeaters_testing\\new_result1\\class_0\\TOP_41_GTSPOLAND\\result_for_[3, 14, 11]\n"
     ]
    },
    {
     "name": "stderr",
     "output_type": "stream",
     "text": [
      "  Processing combinations:  82%|████████▏ | 82/100 [28:41<07:53, 26.31s/combo][Parallel(n_jobs=-1)]: Using backend LokyBackend with 20 concurrent workers.\n",
      "[Parallel(n_jobs=-1)]: Done   1 tasks      | elapsed:    2.5s\n",
      "[Parallel(n_jobs=-1)]: Done  10 tasks      | elapsed:    2.8s\n",
      "[Parallel(n_jobs=-1)]: Done  17 out of  50 | elapsed:    3.0s remaining:    6.0s\n",
      "[Parallel(n_jobs=-1)]: Done  23 out of  50 | elapsed:    6.5s remaining:    7.7s\n",
      "[Parallel(n_jobs=-1)]: Done  29 out of  50 | elapsed:    9.7s remaining:    7.0s\n",
      "[Parallel(n_jobs=-1)]: Done  35 out of  50 | elapsed:   13.6s remaining:    5.8s\n",
      "[Parallel(n_jobs=-1)]: Done  41 out of  50 | elapsed:   16.5s remaining:    3.5s\n",
      "[Parallel(n_jobs=-1)]: Done  47 out of  50 | elapsed:   17.6s remaining:    1.0s\n",
      "[Parallel(n_jobs=-1)]: Done  50 out of  50 | elapsed:   18.8s finished\n"
     ]
    },
    {
     "name": "stdout",
     "output_type": "stream",
     "text": [
      "Plot saved to f:\\Third-year\\Third-year project\\quantum_repeaters_testing\\new_result1\\class_0\\TOP_41_GTSPOLAND\\result_for_[3, 14, 18]\n"
     ]
    },
    {
     "name": "stderr",
     "output_type": "stream",
     "text": [
      "  Processing combinations:  83%|████████▎ | 83/100 [29:03<07:03, 24.93s/combo][Parallel(n_jobs=-1)]: Using backend LokyBackend with 20 concurrent workers.\n",
      "[Parallel(n_jobs=-1)]: Done   1 tasks      | elapsed:    2.9s\n",
      "[Parallel(n_jobs=-1)]: Done  10 tasks      | elapsed:    3.2s\n",
      "[Parallel(n_jobs=-1)]: Done  17 out of  50 | elapsed:    3.4s remaining:    6.7s\n",
      "[Parallel(n_jobs=-1)]: Done  23 out of  50 | elapsed:    8.7s remaining:   10.2s\n",
      "[Parallel(n_jobs=-1)]: Done  29 out of  50 | elapsed:   12.4s remaining:    9.0s\n",
      "[Parallel(n_jobs=-1)]: Done  35 out of  50 | elapsed:   15.5s remaining:    6.6s\n",
      "[Parallel(n_jobs=-1)]: Done  41 out of  50 | elapsed:   18.3s remaining:    3.9s\n",
      "[Parallel(n_jobs=-1)]: Done  47 out of  50 | elapsed:   19.9s remaining:    1.2s\n",
      "[Parallel(n_jobs=-1)]: Done  50 out of  50 | elapsed:   20.6s finished\n",
      "  Processing combinations:  84%|████████▍ | 84/100 [29:26<06:28, 24.30s/combo]"
     ]
    },
    {
     "name": "stdout",
     "output_type": "stream",
     "text": [
      "Plot saved to f:\\Third-year\\Third-year project\\quantum_repeaters_testing\\new_result1\\class_0\\TOP_41_GTSPOLAND\\result_for_[3, 12, 10]\n"
     ]
    },
    {
     "name": "stderr",
     "output_type": "stream",
     "text": [
      "[Parallel(n_jobs=-1)]: Using backend LokyBackend with 20 concurrent workers.\n",
      "[Parallel(n_jobs=-1)]: Done   1 tasks      | elapsed:    2.3s\n",
      "[Parallel(n_jobs=-1)]: Done  10 tasks      | elapsed:    2.8s\n",
      "[Parallel(n_jobs=-1)]: Done  17 out of  50 | elapsed:    3.2s remaining:    6.4s\n",
      "[Parallel(n_jobs=-1)]: Done  23 out of  50 | elapsed:    4.7s remaining:    5.5s\n",
      "[Parallel(n_jobs=-1)]: Done  29 out of  50 | elapsed:    5.3s remaining:    3.8s\n",
      "[Parallel(n_jobs=-1)]: Done  35 out of  50 | elapsed:    7.2s remaining:    3.0s\n",
      "[Parallel(n_jobs=-1)]: Done  41 out of  50 | elapsed:   10.0s remaining:    2.1s\n",
      "[Parallel(n_jobs=-1)]: Done  47 out of  50 | elapsed:   11.5s remaining:    0.6s\n",
      "[Parallel(n_jobs=-1)]: Done  50 out of  50 | elapsed:   12.0s finished\n",
      "  Processing combinations:  85%|████████▌ | 85/100 [29:40<05:20, 21.35s/combo]"
     ]
    },
    {
     "name": "stdout",
     "output_type": "stream",
     "text": [
      "Plot saved to f:\\Third-year\\Third-year project\\quantum_repeaters_testing\\new_result1\\class_0\\TOP_41_GTSPOLAND\\result_for_[3, 26, 4]\n"
     ]
    },
    {
     "name": "stderr",
     "output_type": "stream",
     "text": [
      "[Parallel(n_jobs=-1)]: Using backend LokyBackend with 20 concurrent workers.\n",
      "[Parallel(n_jobs=-1)]: Done   1 tasks      | elapsed:    4.1s\n",
      "[Parallel(n_jobs=-1)]: Done  10 tasks      | elapsed:    5.3s\n",
      "[Parallel(n_jobs=-1)]: Done  17 out of  50 | elapsed:    5.7s remaining:   11.2s\n",
      "[Parallel(n_jobs=-1)]: Done  23 out of  50 | elapsed:   12.8s remaining:   15.1s\n",
      "[Parallel(n_jobs=-1)]: Done  29 out of  50 | elapsed:   21.7s remaining:   15.7s\n",
      "[Parallel(n_jobs=-1)]: Done  35 out of  50 | elapsed:   24.6s remaining:   10.5s\n",
      "[Parallel(n_jobs=-1)]: Done  41 out of  50 | elapsed:   28.6s remaining:    6.2s\n",
      "[Parallel(n_jobs=-1)]: Done  47 out of  50 | elapsed:   31.5s remaining:    1.9s\n",
      "[Parallel(n_jobs=-1)]: Done  50 out of  50 | elapsed:   32.9s finished\n",
      "  Processing combinations:  86%|████████▌ | 86/100 [30:16<05:59, 25.71s/combo]"
     ]
    },
    {
     "name": "stdout",
     "output_type": "stream",
     "text": [
      "Plot saved to f:\\Third-year\\Third-year project\\quantum_repeaters_testing\\new_result1\\class_0\\TOP_41_GTSPOLAND\\result_for_[3, 21, 1]\n"
     ]
    },
    {
     "name": "stderr",
     "output_type": "stream",
     "text": [
      "[Parallel(n_jobs=-1)]: Using backend LokyBackend with 20 concurrent workers.\n",
      "[Parallel(n_jobs=-1)]: Done   1 tasks      | elapsed:    2.4s\n",
      "[Parallel(n_jobs=-1)]: Done  10 tasks      | elapsed:    2.7s\n",
      "[Parallel(n_jobs=-1)]: Done  17 out of  50 | elapsed:    3.1s remaining:    6.1s\n",
      "[Parallel(n_jobs=-1)]: Done  23 out of  50 | elapsed:    5.1s remaining:    6.0s\n",
      "[Parallel(n_jobs=-1)]: Done  29 out of  50 | elapsed:    6.3s remaining:    4.6s\n",
      "[Parallel(n_jobs=-1)]: Done  35 out of  50 | elapsed:    9.2s remaining:    3.9s\n",
      "[Parallel(n_jobs=-1)]: Done  41 out of  50 | elapsed:   13.2s remaining:    2.8s\n",
      "[Parallel(n_jobs=-1)]: Done  47 out of  50 | elapsed:   14.2s remaining:    0.8s\n",
      "[Parallel(n_jobs=-1)]: Done  50 out of  50 | elapsed:   14.8s finished\n",
      "  Processing combinations:  87%|████████▋ | 87/100 [30:33<04:58, 22.96s/combo]"
     ]
    },
    {
     "name": "stdout",
     "output_type": "stream",
     "text": [
      "Plot saved to f:\\Third-year\\Third-year project\\quantum_repeaters_testing\\new_result1\\class_0\\TOP_41_GTSPOLAND\\result_for_[3, 19, 7]\n"
     ]
    },
    {
     "name": "stderr",
     "output_type": "stream",
     "text": [
      "[Parallel(n_jobs=-1)]: Using backend LokyBackend with 20 concurrent workers.\n",
      "[Parallel(n_jobs=-1)]: Done   1 tasks      | elapsed:    3.1s\n",
      "[Parallel(n_jobs=-1)]: Done  10 tasks      | elapsed:    3.3s\n",
      "[Parallel(n_jobs=-1)]: Done  17 out of  50 | elapsed:    3.8s remaining:    7.4s\n",
      "[Parallel(n_jobs=-1)]: Done  23 out of  50 | elapsed:    9.8s remaining:   11.5s\n",
      "[Parallel(n_jobs=-1)]: Done  29 out of  50 | elapsed:   17.2s remaining:   12.4s\n",
      "[Parallel(n_jobs=-1)]: Done  35 out of  50 | elapsed:   20.1s remaining:    8.5s\n",
      "[Parallel(n_jobs=-1)]: Done  41 out of  50 | elapsed:   21.8s remaining:    4.7s\n",
      "[Parallel(n_jobs=-1)]: Done  47 out of  50 | elapsed:   24.3s remaining:    1.5s\n",
      "[Parallel(n_jobs=-1)]: Done  50 out of  50 | elapsed:   24.7s finished\n"
     ]
    },
    {
     "name": "stdout",
     "output_type": "stream",
     "text": [
      "Plot saved to f:\\Third-year\\Third-year project\\quantum_repeaters_testing\\new_result1\\class_0\\TOP_41_GTSPOLAND\\result_for_[3, 26, 15]\n"
     ]
    },
    {
     "name": "stderr",
     "output_type": "stream",
     "text": [
      "  Processing combinations:  88%|████████▊ | 88/100 [31:00<04:51, 24.33s/combo][Parallel(n_jobs=-1)]: Using backend LokyBackend with 20 concurrent workers.\n",
      "[Parallel(n_jobs=-1)]: Done   1 tasks      | elapsed:    2.8s\n",
      "[Parallel(n_jobs=-1)]: Done  10 tasks      | elapsed:    2.9s\n",
      "[Parallel(n_jobs=-1)]: Done  17 out of  50 | elapsed:    3.1s remaining:    6.2s\n",
      "[Parallel(n_jobs=-1)]: Done  23 out of  50 | elapsed:    7.2s remaining:    8.5s\n",
      "[Parallel(n_jobs=-1)]: Done  29 out of  50 | elapsed:   11.6s remaining:    8.4s\n",
      "[Parallel(n_jobs=-1)]: Done  35 out of  50 | elapsed:   15.6s remaining:    6.6s\n",
      "[Parallel(n_jobs=-1)]: Done  41 out of  50 | elapsed:   16.3s remaining:    3.5s\n",
      "[Parallel(n_jobs=-1)]: Done  47 out of  50 | elapsed:   18.0s remaining:    1.1s\n",
      "[Parallel(n_jobs=-1)]: Done  50 out of  50 | elapsed:   18.5s finished\n",
      "  Processing combinations:  89%|████████▉ | 89/100 [31:20<04:12, 22.92s/combo]"
     ]
    },
    {
     "name": "stdout",
     "output_type": "stream",
     "text": [
      "Plot saved to f:\\Third-year\\Third-year project\\quantum_repeaters_testing\\new_result1\\class_0\\TOP_41_GTSPOLAND\\result_for_[3, 24, 2]\n"
     ]
    },
    {
     "name": "stderr",
     "output_type": "stream",
     "text": [
      "[Parallel(n_jobs=-1)]: Using backend LokyBackend with 20 concurrent workers.\n",
      "[Parallel(n_jobs=-1)]: Done   1 tasks      | elapsed:    1.0s\n",
      "[Parallel(n_jobs=-1)]: Done  10 tasks      | elapsed:    1.4s\n",
      "[Parallel(n_jobs=-1)]: Done  17 out of  50 | elapsed:    1.6s remaining:    3.3s\n",
      "[Parallel(n_jobs=-1)]: Done  23 out of  50 | elapsed:    2.7s remaining:    3.1s\n",
      "[Parallel(n_jobs=-1)]: Done  29 out of  50 | elapsed:    3.4s remaining:    2.5s\n",
      "[Parallel(n_jobs=-1)]: Done  35 out of  50 | elapsed:    5.3s remaining:    2.2s\n",
      "[Parallel(n_jobs=-1)]: Done  41 out of  50 | elapsed:    7.4s remaining:    1.5s\n",
      "[Parallel(n_jobs=-1)]: Done  47 out of  50 | elapsed:    8.4s remaining:    0.4s\n",
      "[Parallel(n_jobs=-1)]: Done  50 out of  50 | elapsed:    8.6s finished\n",
      "  Processing combinations:  90%|█████████ | 90/100 [31:30<03:09, 18.93s/combo]"
     ]
    },
    {
     "name": "stdout",
     "output_type": "stream",
     "text": [
      "Plot saved to f:\\Third-year\\Third-year project\\quantum_repeaters_testing\\new_result1\\class_0\\TOP_41_GTSPOLAND\\result_for_[3, 20, 8]\n"
     ]
    },
    {
     "name": "stderr",
     "output_type": "stream",
     "text": [
      "[Parallel(n_jobs=-1)]: Using backend LokyBackend with 20 concurrent workers.\n",
      "[Parallel(n_jobs=-1)]: Done   1 tasks      | elapsed:    1.3s\n",
      "[Parallel(n_jobs=-1)]: Done  10 tasks      | elapsed:    1.4s\n",
      "[Parallel(n_jobs=-1)]: Done  17 out of  50 | elapsed:    1.6s remaining:    3.2s\n",
      "[Parallel(n_jobs=-1)]: Done  23 out of  50 | elapsed:    3.1s remaining:    3.7s\n",
      "[Parallel(n_jobs=-1)]: Done  29 out of  50 | elapsed:    5.1s remaining:    3.7s\n",
      "[Parallel(n_jobs=-1)]: Done  35 out of  50 | elapsed:    6.7s remaining:    2.8s\n",
      "[Parallel(n_jobs=-1)]: Done  41 out of  50 | elapsed:    8.1s remaining:    1.7s\n",
      "[Parallel(n_jobs=-1)]: Done  47 out of  50 | elapsed:    9.1s remaining:    0.5s\n",
      "[Parallel(n_jobs=-1)]: Done  50 out of  50 | elapsed:   10.1s finished\n",
      "  Processing combinations:  91%|█████████ | 91/100 [31:41<02:29, 16.60s/combo]"
     ]
    },
    {
     "name": "stdout",
     "output_type": "stream",
     "text": [
      "Plot saved to f:\\Third-year\\Third-year project\\quantum_repeaters_testing\\new_result1\\class_0\\TOP_41_GTSPOLAND\\result_for_[3, 26, 2]\n"
     ]
    },
    {
     "name": "stderr",
     "output_type": "stream",
     "text": [
      "[Parallel(n_jobs=-1)]: Using backend LokyBackend with 20 concurrent workers.\n",
      "[Parallel(n_jobs=-1)]: Done   1 tasks      | elapsed:    1.6s\n",
      "[Parallel(n_jobs=-1)]: Done  10 tasks      | elapsed:    1.8s\n",
      "[Parallel(n_jobs=-1)]: Done  17 out of  50 | elapsed:    2.7s remaining:    5.3s\n",
      "[Parallel(n_jobs=-1)]: Done  23 out of  50 | elapsed:   11.5s remaining:   13.5s\n",
      "[Parallel(n_jobs=-1)]: Done  29 out of  50 | elapsed:   16.3s remaining:   11.7s\n",
      "[Parallel(n_jobs=-1)]: Done  35 out of  50 | elapsed:   18.1s remaining:    7.7s\n",
      "[Parallel(n_jobs=-1)]: Done  41 out of  50 | elapsed:   19.5s remaining:    4.2s\n",
      "[Parallel(n_jobs=-1)]: Done  47 out of  50 | elapsed:   22.8s remaining:    1.4s\n",
      "[Parallel(n_jobs=-1)]: Done  50 out of  50 | elapsed:   23.2s finished\n",
      "  Processing combinations:  92%|█████████▏| 92/100 [32:07<02:35, 19.49s/combo]"
     ]
    },
    {
     "name": "stdout",
     "output_type": "stream",
     "text": [
      "Plot saved to f:\\Third-year\\Third-year project\\quantum_repeaters_testing\\new_result1\\class_0\\TOP_41_GTSPOLAND\\result_for_[3, 24, 5]\n"
     ]
    },
    {
     "name": "stderr",
     "output_type": "stream",
     "text": [
      "[Parallel(n_jobs=-1)]: Using backend LokyBackend with 20 concurrent workers.\n",
      "[Parallel(n_jobs=-1)]: Done   1 tasks      | elapsed:    3.2s\n",
      "[Parallel(n_jobs=-1)]: Done  10 tasks      | elapsed:    3.4s\n",
      "[Parallel(n_jobs=-1)]: Done  17 out of  50 | elapsed:    4.2s remaining:    8.3s\n",
      "[Parallel(n_jobs=-1)]: Done  23 out of  50 | elapsed:   12.9s remaining:   15.2s\n",
      "[Parallel(n_jobs=-1)]: Done  29 out of  50 | elapsed:   21.0s remaining:   15.2s\n",
      "[Parallel(n_jobs=-1)]: Done  35 out of  50 | elapsed:   24.5s remaining:   10.4s\n",
      "[Parallel(n_jobs=-1)]: Done  41 out of  50 | elapsed:   26.8s remaining:    5.8s\n",
      "[Parallel(n_jobs=-1)]: Done  47 out of  50 | elapsed:   30.4s remaining:    1.8s\n",
      "[Parallel(n_jobs=-1)]: Done  50 out of  50 | elapsed:   32.0s finished\n"
     ]
    },
    {
     "name": "stdout",
     "output_type": "stream",
     "text": [
      "Plot saved to f:\\Third-year\\Third-year project\\quantum_repeaters_testing\\new_result1\\class_0\\TOP_41_GTSPOLAND\\result_for_[3, 22, 2]\n"
     ]
    },
    {
     "name": "stderr",
     "output_type": "stream",
     "text": [
      "  Processing combinations:  93%|█████████▎| 93/100 [32:42<02:49, 24.17s/combo][Parallel(n_jobs=-1)]: Using backend LokyBackend with 20 concurrent workers.\n",
      "[Parallel(n_jobs=-1)]: Done   1 tasks      | elapsed:    3.5s\n",
      "[Parallel(n_jobs=-1)]: Done  10 tasks      | elapsed:    4.0s\n",
      "[Parallel(n_jobs=-1)]: Done  17 out of  50 | elapsed:    7.3s remaining:   14.2s\n",
      "[Parallel(n_jobs=-1)]: Done  23 out of  50 | elapsed:   16.7s remaining:   19.6s\n",
      "[Parallel(n_jobs=-1)]: Done  29 out of  50 | elapsed:   18.6s remaining:   13.5s\n",
      "[Parallel(n_jobs=-1)]: Done  35 out of  50 | elapsed:   20.3s remaining:    8.6s\n",
      "[Parallel(n_jobs=-1)]: Done  41 out of  50 | elapsed:   24.6s remaining:    5.3s\n",
      "[Parallel(n_jobs=-1)]: Done  47 out of  50 | elapsed:   25.9s remaining:    1.6s\n",
      "[Parallel(n_jobs=-1)]: Done  50 out of  50 | elapsed:   26.1s finished\n"
     ]
    },
    {
     "name": "stdout",
     "output_type": "stream",
     "text": [
      "Plot saved to f:\\Third-year\\Third-year project\\quantum_repeaters_testing\\new_result1\\class_0\\TOP_41_GTSPOLAND\\result_for_[3, 22, 5]\n"
     ]
    },
    {
     "name": "stderr",
     "output_type": "stream",
     "text": [
      "  Processing combinations:  94%|█████████▍| 94/100 [33:11<02:34, 25.70s/combo][Parallel(n_jobs=-1)]: Using backend LokyBackend with 20 concurrent workers.\n",
      "[Parallel(n_jobs=-1)]: Done   1 tasks      | elapsed:    3.4s\n",
      "[Parallel(n_jobs=-1)]: Done  10 tasks      | elapsed:    3.7s\n",
      "[Parallel(n_jobs=-1)]: Done  17 out of  50 | elapsed:    7.6s remaining:   14.9s\n",
      "[Parallel(n_jobs=-1)]: Done  23 out of  50 | elapsed:   20.0s remaining:   23.4s\n",
      "[Parallel(n_jobs=-1)]: Done  29 out of  50 | elapsed:   24.9s remaining:   18.0s\n",
      "[Parallel(n_jobs=-1)]: Done  35 out of  50 | elapsed:   25.7s remaining:   11.0s\n",
      "[Parallel(n_jobs=-1)]: Done  41 out of  50 | elapsed:   28.7s remaining:    6.2s\n",
      "[Parallel(n_jobs=-1)]: Done  47 out of  50 | elapsed:   31.4s remaining:    1.9s\n",
      "[Parallel(n_jobs=-1)]: Done  50 out of  50 | elapsed:   31.6s finished\n"
     ]
    },
    {
     "name": "stdout",
     "output_type": "stream",
     "text": [
      "Plot saved to f:\\Third-year\\Third-year project\\quantum_repeaters_testing\\new_result1\\class_0\\TOP_41_GTSPOLAND\\result_for_[3, 21, 17]\n"
     ]
    },
    {
     "name": "stderr",
     "output_type": "stream",
     "text": [
      "  Processing combinations:  95%|█████████▌| 95/100 [33:46<02:21, 28.32s/combo][Parallel(n_jobs=-1)]: Using backend LokyBackend with 20 concurrent workers.\n",
      "[Parallel(n_jobs=-1)]: Done   1 tasks      | elapsed:    2.9s\n",
      "[Parallel(n_jobs=-1)]: Done  10 tasks      | elapsed:    3.2s\n",
      "[Parallel(n_jobs=-1)]: Done  17 out of  50 | elapsed:    3.3s remaining:    6.6s\n",
      "[Parallel(n_jobs=-1)]: Done  23 out of  50 | elapsed:    8.2s remaining:    9.6s\n",
      "[Parallel(n_jobs=-1)]: Done  29 out of  50 | elapsed:   14.6s remaining:   10.5s\n",
      "[Parallel(n_jobs=-1)]: Done  35 out of  50 | elapsed:   20.0s remaining:    8.5s\n",
      "[Parallel(n_jobs=-1)]: Done  41 out of  50 | elapsed:   22.1s remaining:    4.8s\n",
      "[Parallel(n_jobs=-1)]: Done  47 out of  50 | elapsed:   23.9s remaining:    1.4s\n",
      "[Parallel(n_jobs=-1)]: Done  50 out of  50 | elapsed:   24.9s finished\n",
      "  Processing combinations:  96%|█████████▌| 96/100 [34:13<01:52, 28.14s/combo]"
     ]
    },
    {
     "name": "stdout",
     "output_type": "stream",
     "text": [
      "Plot saved to f:\\Third-year\\Third-year project\\quantum_repeaters_testing\\new_result1\\class_0\\TOP_41_GTSPOLAND\\result_for_[3, 19, 15]\n"
     ]
    },
    {
     "name": "stderr",
     "output_type": "stream",
     "text": [
      "[Parallel(n_jobs=-1)]: Using backend LokyBackend with 20 concurrent workers.\n",
      "[Parallel(n_jobs=-1)]: Done   1 tasks      | elapsed:    2.5s\n",
      "[Parallel(n_jobs=-1)]: Done  10 tasks      | elapsed:    2.7s\n",
      "[Parallel(n_jobs=-1)]: Done  17 out of  50 | elapsed:    3.0s remaining:    6.0s\n",
      "[Parallel(n_jobs=-1)]: Done  23 out of  50 | elapsed:    6.3s remaining:    7.4s\n",
      "[Parallel(n_jobs=-1)]: Done  29 out of  50 | elapsed:   11.0s remaining:    7.9s\n",
      "[Parallel(n_jobs=-1)]: Done  35 out of  50 | elapsed:   16.4s remaining:    7.0s\n",
      "[Parallel(n_jobs=-1)]: Done  41 out of  50 | elapsed:   17.7s remaining:    3.8s\n",
      "[Parallel(n_jobs=-1)]: Done  47 out of  50 | elapsed:   18.9s remaining:    1.1s\n",
      "[Parallel(n_jobs=-1)]: Done  50 out of  50 | elapsed:   19.3s finished\n",
      "  Processing combinations:  97%|█████████▋| 97/100 [34:34<01:17, 25.83s/combo]"
     ]
    },
    {
     "name": "stdout",
     "output_type": "stream",
     "text": [
      "Plot saved to f:\\Third-year\\Third-year project\\quantum_repeaters_testing\\new_result1\\class_0\\TOP_41_GTSPOLAND\\result_for_[3, 13, 10]\n",
      "\n",
      "已处理 1200 个组合，准备退出。\n"
     ]
    },
    {
     "name": "stderr",
     "output_type": "stream",
     "text": [
      "[Parallel(n_jobs=-1)]: Using backend LokyBackend with 20 concurrent workers.\n",
      "[Parallel(n_jobs=-1)]: Done   1 tasks      | elapsed:    1.6s\n",
      "[Parallel(n_jobs=-1)]: Done  10 tasks      | elapsed:    2.0s\n",
      "[Parallel(n_jobs=-1)]: Done  17 out of  50 | elapsed:    3.3s remaining:    6.5s\n",
      "[Parallel(n_jobs=-1)]: Done  23 out of  50 | elapsed:    7.7s remaining:    9.1s\n",
      "[Parallel(n_jobs=-1)]: Done  29 out of  50 | elapsed:    9.5s remaining:    6.8s\n",
      "[Parallel(n_jobs=-1)]: Done  35 out of  50 | elapsed:   10.7s remaining:    4.5s\n",
      "[Parallel(n_jobs=-1)]: Done  41 out of  50 | elapsed:   13.5s remaining:    2.9s\n",
      "[Parallel(n_jobs=-1)]: Done  47 out of  50 | elapsed:   14.4s remaining:    0.8s\n",
      "[Parallel(n_jobs=-1)]: Done  50 out of  50 | elapsed:   14.5s finished\n",
      "  Processing combinations:  98%|█████████▊| 98/100 [34:50<00:45, 22.77s/combo]"
     ]
    },
    {
     "name": "stdout",
     "output_type": "stream",
     "text": [
      "Plot saved to f:\\Third-year\\Third-year project\\quantum_repeaters_testing\\new_result1\\class_0\\TOP_41_GTSPOLAND\\result_for_[3, 21, 9]\n"
     ]
    },
    {
     "name": "stderr",
     "output_type": "stream",
     "text": [
      "[Parallel(n_jobs=-1)]: Using backend LokyBackend with 20 concurrent workers.\n",
      "[Parallel(n_jobs=-1)]: Done   1 tasks      | elapsed:    1.4s\n",
      "[Parallel(n_jobs=-1)]: Done  10 tasks      | elapsed:    1.6s\n",
      "[Parallel(n_jobs=-1)]: Done  17 out of  50 | elapsed:    1.7s remaining:    3.4s\n",
      "[Parallel(n_jobs=-1)]: Done  23 out of  50 | elapsed:    3.7s remaining:    4.3s\n",
      "[Parallel(n_jobs=-1)]: Done  29 out of  50 | elapsed:    5.3s remaining:    3.8s\n",
      "[Parallel(n_jobs=-1)]: Done  35 out of  50 | elapsed:    7.7s remaining:    3.3s\n",
      "[Parallel(n_jobs=-1)]: Done  41 out of  50 | elapsed:    9.5s remaining:    2.0s\n",
      "[Parallel(n_jobs=-1)]: Done  47 out of  50 | elapsed:   10.2s remaining:    0.6s\n",
      "[Parallel(n_jobs=-1)]: Done  50 out of  50 | elapsed:   10.7s finished\n",
      "  Processing combinations:  99%|█████████▉| 99/100 [35:01<00:19, 19.47s/combo]"
     ]
    },
    {
     "name": "stdout",
     "output_type": "stream",
     "text": [
      "Plot saved to f:\\Third-year\\Third-year project\\quantum_repeaters_testing\\new_result1\\class_0\\TOP_41_GTSPOLAND\\result_for_[3, 23, 4]\n"
     ]
    },
    {
     "name": "stderr",
     "output_type": "stream",
     "text": [
      "[Parallel(n_jobs=-1)]: Using backend LokyBackend with 20 concurrent workers.\n",
      "[Parallel(n_jobs=-1)]: Done   1 tasks      | elapsed:    1.3s\n",
      "[Parallel(n_jobs=-1)]: Done  10 tasks      | elapsed:    1.5s\n",
      "[Parallel(n_jobs=-1)]: Done  17 out of  50 | elapsed:    1.7s remaining:    3.4s\n",
      "[Parallel(n_jobs=-1)]: Done  23 out of  50 | elapsed:    3.6s remaining:    4.3s\n",
      "[Parallel(n_jobs=-1)]: Done  29 out of  50 | elapsed:    5.0s remaining:    3.6s\n",
      "[Parallel(n_jobs=-1)]: Done  35 out of  50 | elapsed:    7.6s remaining:    3.2s\n",
      "[Parallel(n_jobs=-1)]: Done  41 out of  50 | elapsed:   10.0s remaining:    2.1s\n",
      "[Parallel(n_jobs=-1)]: Done  47 out of  50 | elapsed:   10.8s remaining:    0.6s\n",
      "[Parallel(n_jobs=-1)]: Done  50 out of  50 | elapsed:   11.0s finished\n",
      "  Processing combinations: 100%|██████████| 100/100 [35:13<00:00, 21.14s/combo]\n"
     ]
    },
    {
     "name": "stdout",
     "output_type": "stream",
     "text": [
      "Plot saved to f:\\Third-year\\Third-year project\\quantum_repeaters_testing\\new_result1\\class_0\\TOP_41_GTSPOLAND\\result_for_[3, 19, 11]\n",
      "  Processing file: F:\\Third-year\\Third-year project\\quantum_repeaters_testing\\graphs_json\\class_0\\TOP_43_HIBERNIAGLOBAL.json (14/36) ...\n",
      "First node ID: 40, Degree: 4\n"
     ]
    },
    {
     "name": "stderr",
     "output_type": "stream",
     "text": [
      "  Processing combinations:   0%|          | 0/100 [00:00<?, ?combo/s][Parallel(n_jobs=-1)]: Using backend LokyBackend with 20 concurrent workers.\n",
      "[Parallel(n_jobs=-1)]: Done   1 tasks      | elapsed:   31.8s\n",
      "[Parallel(n_jobs=-1)]: Done  10 tasks      | elapsed:   34.7s\n",
      "[Parallel(n_jobs=-1)]: Done  17 out of  50 | elapsed:   37.3s remaining:  1.2min\n",
      "[Parallel(n_jobs=-1)]: Done  23 out of  50 | elapsed:   56.1s remaining:  1.1min\n",
      "[Parallel(n_jobs=-1)]: Done  29 out of  50 | elapsed:   57.3s remaining:   41.5s\n",
      "[Parallel(n_jobs=-1)]: Done  35 out of  50 | elapsed:   58.5s remaining:   25.0s\n",
      "[Parallel(n_jobs=-1)]: Done  41 out of  50 | elapsed:  1.1min remaining:   14.7s\n",
      "[Parallel(n_jobs=-1)]: Done  47 out of  50 | elapsed:  1.1min remaining:    4.2s\n",
      "[Parallel(n_jobs=-1)]: Done  50 out of  50 | elapsed:  1.1min finished\n",
      "  Processing combinations:   1%|          | 1/100 [01:09<1:54:13, 69.23s/combo]"
     ]
    },
    {
     "name": "stdout",
     "output_type": "stream",
     "text": [
      "Plot saved to f:\\Third-year\\Third-year project\\quantum_repeaters_testing\\new_result1\\class_0\\TOP_43_HIBERNIAGLOBAL\\result_for_[40, 26, 18, 8, 42]\n"
     ]
    },
    {
     "name": "stderr",
     "output_type": "stream",
     "text": [
      "[Parallel(n_jobs=-1)]: Using backend LokyBackend with 20 concurrent workers.\n",
      "[Parallel(n_jobs=-1)]: Done   1 tasks      | elapsed:   17.4s\n",
      "[Parallel(n_jobs=-1)]: Done  10 tasks      | elapsed:   20.7s\n",
      "[Parallel(n_jobs=-1)]: Done  17 out of  50 | elapsed:   22.2s remaining:   43.2s\n",
      "[Parallel(n_jobs=-1)]: Done  23 out of  50 | elapsed:   43.0s remaining:   50.5s\n",
      "[Parallel(n_jobs=-1)]: Done  29 out of  50 | elapsed:   45.0s remaining:   32.5s\n",
      "[Parallel(n_jobs=-1)]: Done  35 out of  50 | elapsed:   47.5s remaining:   20.3s\n",
      "[Parallel(n_jobs=-1)]: Done  41 out of  50 | elapsed:   56.7s remaining:   12.4s\n",
      "[Parallel(n_jobs=-1)]: Done  47 out of  50 | elapsed:   57.8s remaining:    3.6s\n",
      "[Parallel(n_jobs=-1)]: Done  50 out of  50 | elapsed:   58.1s finished\n"
     ]
    },
    {
     "name": "stdout",
     "output_type": "stream",
     "text": [
      "Plot saved to f:\\Third-year\\Third-year project\\quantum_repeaters_testing\\new_result1\\class_0\\TOP_43_HIBERNIAGLOBAL\\result_for_[40, 19, 17, 38, 42]\n"
     ]
    },
    {
     "name": "stderr",
     "output_type": "stream",
     "text": [
      "  Processing combinations:   2%|▏         | 2/100 [02:09<1:44:23, 63.91s/combo][Parallel(n_jobs=-1)]: Using backend LokyBackend with 20 concurrent workers.\n",
      "[Parallel(n_jobs=-1)]: Done   1 tasks      | elapsed:   17.1s\n",
      "[Parallel(n_jobs=-1)]: Done  10 tasks      | elapsed:   22.3s\n",
      "[Parallel(n_jobs=-1)]: Done  17 out of  50 | elapsed:   28.9s remaining:   56.1s\n",
      "[Parallel(n_jobs=-1)]: Done  23 out of  50 | elapsed:   40.1s remaining:   47.1s\n",
      "[Parallel(n_jobs=-1)]: Done  29 out of  50 | elapsed:   41.6s remaining:   30.1s\n",
      "[Parallel(n_jobs=-1)]: Done  35 out of  50 | elapsed:   45.4s remaining:   19.4s\n",
      "[Parallel(n_jobs=-1)]: Done  41 out of  50 | elapsed:   51.3s remaining:   11.2s\n",
      "[Parallel(n_jobs=-1)]: Done  47 out of  50 | elapsed:   52.3s remaining:    3.2s\n",
      "[Parallel(n_jobs=-1)]: Done  50 out of  50 | elapsed:   52.4s finished\n",
      "  Processing combinations:   3%|▎         | 3/100 [03:02<1:35:32, 59.10s/combo]"
     ]
    },
    {
     "name": "stdout",
     "output_type": "stream",
     "text": [
      "Plot saved to f:\\Third-year\\Third-year project\\quantum_repeaters_testing\\new_result1\\class_0\\TOP_43_HIBERNIAGLOBAL\\result_for_[40, 26, 34, 2, 41]\n"
     ]
    },
    {
     "name": "stderr",
     "output_type": "stream",
     "text": [
      "[Parallel(n_jobs=-1)]: Using backend LokyBackend with 20 concurrent workers.\n",
      "[Parallel(n_jobs=-1)]: Done   1 tasks      | elapsed:   21.6s\n",
      "[Parallel(n_jobs=-1)]: Done  10 tasks      | elapsed:   25.1s\n",
      "[Parallel(n_jobs=-1)]: Done  17 out of  50 | elapsed:   30.0s remaining:   58.4s\n",
      "[Parallel(n_jobs=-1)]: Done  23 out of  50 | elapsed:   58.2s remaining:  1.1min\n",
      "[Parallel(n_jobs=-1)]: Done  29 out of  50 | elapsed:   59.5s remaining:   43.1s\n",
      "[Parallel(n_jobs=-1)]: Done  35 out of  50 | elapsed:  1.0min remaining:   25.7s\n",
      "[Parallel(n_jobs=-1)]: Done  41 out of  50 | elapsed:  1.2min remaining:   15.2s\n",
      "[Parallel(n_jobs=-1)]: Done  47 out of  50 | elapsed:  1.2min remaining:    4.4s\n",
      "[Parallel(n_jobs=-1)]: Done  50 out of  50 | elapsed:  1.2min finished\n",
      "  Processing combinations:   4%|▍         | 4/100 [04:13<1:42:03, 63.79s/combo]"
     ]
    },
    {
     "name": "stdout",
     "output_type": "stream",
     "text": [
      "Plot saved to f:\\Third-year\\Third-year project\\quantum_repeaters_testing\\new_result1\\class_0\\TOP_43_HIBERNIAGLOBAL\\result_for_[40, 14, 29, 52, 42]\n"
     ]
    },
    {
     "name": "stderr",
     "output_type": "stream",
     "text": [
      "[Parallel(n_jobs=-1)]: Using backend LokyBackend with 20 concurrent workers.\n",
      "[Parallel(n_jobs=-1)]: Done   1 tasks      | elapsed:   21.5s\n",
      "[Parallel(n_jobs=-1)]: Done  10 tasks      | elapsed:   23.5s\n",
      "[Parallel(n_jobs=-1)]: Done  17 out of  50 | elapsed:   24.8s remaining:   48.3s\n",
      "[Parallel(n_jobs=-1)]: Done  23 out of  50 | elapsed:   45.3s remaining:   53.2s\n",
      "[Parallel(n_jobs=-1)]: Done  29 out of  50 | elapsed:   46.3s remaining:   33.5s\n",
      "[Parallel(n_jobs=-1)]: Done  35 out of  50 | elapsed:   46.7s remaining:   19.9s\n",
      "[Parallel(n_jobs=-1)]: Done  41 out of  50 | elapsed:   55.2s remaining:   12.0s\n",
      "[Parallel(n_jobs=-1)]: Done  47 out of  50 | elapsed:   56.1s remaining:    3.5s\n",
      "[Parallel(n_jobs=-1)]: Done  50 out of  50 | elapsed:   56.2s finished\n",
      "  Processing combinations:   5%|▌         | 5/100 [05:11<1:37:16, 61.44s/combo]"
     ]
    },
    {
     "name": "stdout",
     "output_type": "stream",
     "text": [
      "Plot saved to f:\\Third-year\\Third-year project\\quantum_repeaters_testing\\new_result1\\class_0\\TOP_43_HIBERNIAGLOBAL\\result_for_[40, 14, 13, 11, 43]\n"
     ]
    },
    {
     "name": "stderr",
     "output_type": "stream",
     "text": [
      "[Parallel(n_jobs=-1)]: Using backend LokyBackend with 20 concurrent workers.\n",
      "[Parallel(n_jobs=-1)]: Done   1 tasks      | elapsed:   25.2s\n",
      "[Parallel(n_jobs=-1)]: Done  10 tasks      | elapsed:   26.4s\n",
      "[Parallel(n_jobs=-1)]: Done  17 out of  50 | elapsed:   27.9s remaining:   54.2s\n",
      "[Parallel(n_jobs=-1)]: Done  23 out of  50 | elapsed:   47.0s remaining:   55.2s\n",
      "[Parallel(n_jobs=-1)]: Done  29 out of  50 | elapsed:   48.9s remaining:   35.4s\n",
      "[Parallel(n_jobs=-1)]: Done  35 out of  50 | elapsed:   50.8s remaining:   21.7s\n",
      "[Parallel(n_jobs=-1)]: Done  41 out of  50 | elapsed:   58.4s remaining:   12.7s\n",
      "[Parallel(n_jobs=-1)]: Done  47 out of  50 | elapsed:   59.1s remaining:    3.7s\n",
      "[Parallel(n_jobs=-1)]: Done  50 out of  50 | elapsed:   59.4s finished\n",
      "  Processing combinations:   6%|▌         | 6/100 [06:11<1:35:41, 61.08s/combo]"
     ]
    },
    {
     "name": "stdout",
     "output_type": "stream",
     "text": [
      "Plot saved to f:\\Third-year\\Third-year project\\quantum_repeaters_testing\\new_result1\\class_0\\TOP_43_HIBERNIAGLOBAL\\result_for_[40, 14, 18, 32, 41]\n"
     ]
    },
    {
     "name": "stderr",
     "output_type": "stream",
     "text": [
      "[Parallel(n_jobs=-1)]: Using backend LokyBackend with 20 concurrent workers.\n",
      "[Parallel(n_jobs=-1)]: Done   1 tasks      | elapsed:   18.3s\n",
      "[Parallel(n_jobs=-1)]: Done  10 tasks      | elapsed:   22.3s\n",
      "[Parallel(n_jobs=-1)]: Done  17 out of  50 | elapsed:   24.1s remaining:   46.9s\n",
      "[Parallel(n_jobs=-1)]: Done  23 out of  50 | elapsed:   37.9s remaining:   44.5s\n",
      "[Parallel(n_jobs=-1)]: Done  29 out of  50 | elapsed:   40.6s remaining:   29.4s\n",
      "[Parallel(n_jobs=-1)]: Done  35 out of  50 | elapsed:   43.2s remaining:   18.4s\n",
      "[Parallel(n_jobs=-1)]: Done  41 out of  50 | elapsed:   50.1s remaining:   10.9s\n",
      "[Parallel(n_jobs=-1)]: Done  47 out of  50 | elapsed:   50.9s remaining:    3.2s\n",
      "[Parallel(n_jobs=-1)]: Done  50 out of  50 | elapsed:   51.3s finished\n",
      "  Processing combinations:   7%|▋         | 7/100 [07:03<1:30:13, 58.21s/combo]"
     ]
    },
    {
     "name": "stdout",
     "output_type": "stream",
     "text": [
      "Plot saved to f:\\Third-year\\Third-year project\\quantum_repeaters_testing\\new_result1\\class_0\\TOP_43_HIBERNIAGLOBAL\\result_for_[40, 26, 20, 25, 41]\n"
     ]
    },
    {
     "name": "stderr",
     "output_type": "stream",
     "text": [
      "[Parallel(n_jobs=-1)]: Using backend LokyBackend with 20 concurrent workers.\n",
      "[Parallel(n_jobs=-1)]: Done   1 tasks      | elapsed:   21.0s\n",
      "[Parallel(n_jobs=-1)]: Done  10 tasks      | elapsed:   23.5s\n",
      "[Parallel(n_jobs=-1)]: Done  17 out of  50 | elapsed:   25.7s remaining:   49.9s\n",
      "[Parallel(n_jobs=-1)]: Done  23 out of  50 | elapsed:   40.2s remaining:   47.2s\n",
      "[Parallel(n_jobs=-1)]: Done  29 out of  50 | elapsed:   41.8s remaining:   30.3s\n",
      "[Parallel(n_jobs=-1)]: Done  35 out of  50 | elapsed:   42.9s remaining:   18.3s\n",
      "[Parallel(n_jobs=-1)]: Done  41 out of  50 | elapsed:   50.1s remaining:   10.9s\n",
      "[Parallel(n_jobs=-1)]: Done  47 out of  50 | elapsed:   50.8s remaining:    3.1s\n",
      "[Parallel(n_jobs=-1)]: Done  50 out of  50 | elapsed:   51.1s finished\n",
      "  Processing combinations:   8%|▊         | 8/100 [07:55<1:26:16, 56.27s/combo]"
     ]
    },
    {
     "name": "stdout",
     "output_type": "stream",
     "text": [
      "Plot saved to f:\\Third-year\\Third-year project\\quantum_repeaters_testing\\new_result1\\class_0\\TOP_43_HIBERNIAGLOBAL\\result_for_[40, 16, 13, 38, 42]\n"
     ]
    },
    {
     "name": "stderr",
     "output_type": "stream",
     "text": [
      "[Parallel(n_jobs=-1)]: Using backend LokyBackend with 20 concurrent workers.\n",
      "[Parallel(n_jobs=-1)]: Done   1 tasks      | elapsed:   18.9s\n",
      "[Parallel(n_jobs=-1)]: Done  10 tasks      | elapsed:   23.0s\n",
      "[Parallel(n_jobs=-1)]: Done  17 out of  50 | elapsed:   24.5s remaining:   47.6s\n",
      "[Parallel(n_jobs=-1)]: Done  23 out of  50 | elapsed:   41.1s remaining:   48.2s\n",
      "[Parallel(n_jobs=-1)]: Done  29 out of  50 | elapsed:   42.5s remaining:   30.7s\n",
      "[Parallel(n_jobs=-1)]: Done  35 out of  50 | elapsed:   44.7s remaining:   19.1s\n",
      "[Parallel(n_jobs=-1)]: Done  41 out of  50 | elapsed:   53.3s remaining:   11.6s\n",
      "[Parallel(n_jobs=-1)]: Done  47 out of  50 | elapsed:   53.6s remaining:    3.3s\n",
      "[Parallel(n_jobs=-1)]: Done  50 out of  50 | elapsed:   53.9s finished\n",
      "  Processing combinations:   9%|▉         | 9/100 [08:50<1:24:41, 55.84s/combo]"
     ]
    },
    {
     "name": "stdout",
     "output_type": "stream",
     "text": [
      "Plot saved to f:\\Third-year\\Third-year project\\quantum_repeaters_testing\\new_result1\\class_0\\TOP_43_HIBERNIAGLOBAL\\result_for_[40, 26, 29, 4, 43]\n"
     ]
    },
    {
     "name": "stderr",
     "output_type": "stream",
     "text": [
      "[Parallel(n_jobs=-1)]: Using backend LokyBackend with 20 concurrent workers.\n",
      "[Parallel(n_jobs=-1)]: Done   1 tasks      | elapsed:   21.3s\n",
      "[Parallel(n_jobs=-1)]: Done  10 tasks      | elapsed:   24.6s\n",
      "[Parallel(n_jobs=-1)]: Done  17 out of  50 | elapsed:   28.0s remaining:   54.5s\n",
      "[Parallel(n_jobs=-1)]: Done  23 out of  50 | elapsed:   39.9s remaining:   46.8s\n",
      "[Parallel(n_jobs=-1)]: Done  29 out of  50 | elapsed:   43.6s remaining:   31.6s\n",
      "[Parallel(n_jobs=-1)]: Done  35 out of  50 | elapsed:   46.1s remaining:   19.7s\n",
      "[Parallel(n_jobs=-1)]: Done  41 out of  50 | elapsed:   52.0s remaining:   11.3s\n",
      "[Parallel(n_jobs=-1)]: Done  47 out of  50 | elapsed:   53.5s remaining:    3.3s\n",
      "[Parallel(n_jobs=-1)]: Done  50 out of  50 | elapsed:   54.2s finished\n",
      "  Processing combinations:  10%|█         | 10/100 [09:45<1:23:27, 55.64s/combo]"
     ]
    },
    {
     "name": "stdout",
     "output_type": "stream",
     "text": [
      "Plot saved to f:\\Third-year\\Third-year project\\quantum_repeaters_testing\\new_result1\\class_0\\TOP_43_HIBERNIAGLOBAL\\result_for_[40, 21, 27, 11, 49]\n"
     ]
    },
    {
     "name": "stderr",
     "output_type": "stream",
     "text": [
      "[Parallel(n_jobs=-1)]: Using backend LokyBackend with 20 concurrent workers.\n",
      "[Parallel(n_jobs=-1)]: Done   1 tasks      | elapsed:    6.9s\n",
      "[Parallel(n_jobs=-1)]: Done  10 tasks      | elapsed:    7.4s\n",
      "[Parallel(n_jobs=-1)]: Done  17 out of  50 | elapsed:    9.9s remaining:   19.3s\n",
      "[Parallel(n_jobs=-1)]: Done  23 out of  50 | elapsed:   34.7s remaining:   40.8s\n",
      "[Parallel(n_jobs=-1)]: Done  29 out of  50 | elapsed:   38.7s remaining:   28.0s\n",
      "[Parallel(n_jobs=-1)]: Done  35 out of  50 | elapsed:   39.7s remaining:   17.0s\n",
      "[Parallel(n_jobs=-1)]: Done  41 out of  50 | elapsed:   47.1s remaining:   10.3s\n",
      "[Parallel(n_jobs=-1)]: Done  47 out of  50 | elapsed:   49.6s remaining:    3.1s\n",
      "[Parallel(n_jobs=-1)]: Done  50 out of  50 | elapsed:   49.7s finished\n",
      "  Processing combinations:  11%|█         | 11/100 [10:36<1:20:18, 54.14s/combo]"
     ]
    },
    {
     "name": "stdout",
     "output_type": "stream",
     "text": [
      "Plot saved to f:\\Third-year\\Third-year project\\quantum_repeaters_testing\\new_result1\\class_0\\TOP_43_HIBERNIAGLOBAL\\result_for_[40, 19, 15, 50, 42]\n"
     ]
    },
    {
     "name": "stderr",
     "output_type": "stream",
     "text": [
      "[Parallel(n_jobs=-1)]: Using backend LokyBackend with 20 concurrent workers.\n",
      "[Parallel(n_jobs=-1)]: Done   1 tasks      | elapsed:   15.0s\n",
      "[Parallel(n_jobs=-1)]: Done  10 tasks      | elapsed:   17.2s\n",
      "[Parallel(n_jobs=-1)]: Done  17 out of  50 | elapsed:   18.5s remaining:   36.0s\n",
      "[Parallel(n_jobs=-1)]: Done  23 out of  50 | elapsed:   33.0s remaining:   38.8s\n",
      "[Parallel(n_jobs=-1)]: Done  29 out of  50 | elapsed:   34.5s remaining:   24.9s\n",
      "[Parallel(n_jobs=-1)]: Done  35 out of  50 | elapsed:   35.2s remaining:   15.0s\n",
      "[Parallel(n_jobs=-1)]: Done  41 out of  50 | elapsed:   45.8s remaining:   10.0s\n",
      "[Parallel(n_jobs=-1)]: Done  47 out of  50 | elapsed:   46.5s remaining:    2.9s\n",
      "[Parallel(n_jobs=-1)]: Done  50 out of  50 | elapsed:   46.7s finished\n"
     ]
    },
    {
     "name": "stdout",
     "output_type": "stream",
     "text": [
      "Plot saved to f:\\Third-year\\Third-year project\\quantum_repeaters_testing\\new_result1\\class_0\\TOP_43_HIBERNIAGLOBAL\\result_for_[40, 19, 34, 8, 49]\n"
     ]
    },
    {
     "name": "stderr",
     "output_type": "stream",
     "text": [
      "  Processing combinations:  12%|█▏        | 12/100 [11:25<1:16:58, 52.48s/combo][Parallel(n_jobs=-1)]: Using backend LokyBackend with 20 concurrent workers.\n",
      "[Parallel(n_jobs=-1)]: Done   1 tasks      | elapsed:   30.6s\n",
      "[Parallel(n_jobs=-1)]: Done  10 tasks      | elapsed:   32.5s\n",
      "[Parallel(n_jobs=-1)]: Done  17 out of  50 | elapsed:   34.1s remaining:  1.1min\n",
      "[Parallel(n_jobs=-1)]: Done  23 out of  50 | elapsed:   50.9s remaining:   59.8s\n",
      "[Parallel(n_jobs=-1)]: Done  29 out of  50 | elapsed:   51.9s remaining:   37.6s\n",
      "[Parallel(n_jobs=-1)]: Done  35 out of  50 | elapsed:   52.5s remaining:   22.4s\n",
      "[Parallel(n_jobs=-1)]: Done  41 out of  50 | elapsed:  1.0min remaining:   13.2s\n",
      "[Parallel(n_jobs=-1)]: Done  47 out of  50 | elapsed:  1.0min remaining:    3.8s\n",
      "[Parallel(n_jobs=-1)]: Done  50 out of  50 | elapsed:  1.0min finished\n",
      "  Processing combinations:  13%|█▎        | 13/100 [12:27<1:20:27, 55.49s/combo]"
     ]
    },
    {
     "name": "stdout",
     "output_type": "stream",
     "text": [
      "Plot saved to f:\\Third-year\\Third-year project\\quantum_repeaters_testing\\new_result1\\class_0\\TOP_43_HIBERNIAGLOBAL\\result_for_[40, 21, 18, 5, 41]\n"
     ]
    },
    {
     "name": "stderr",
     "output_type": "stream",
     "text": [
      "[Parallel(n_jobs=-1)]: Using backend LokyBackend with 20 concurrent workers.\n",
      "[Parallel(n_jobs=-1)]: Done   1 tasks      | elapsed:    6.6s\n",
      "[Parallel(n_jobs=-1)]: Done  10 tasks      | elapsed:    7.3s\n",
      "[Parallel(n_jobs=-1)]: Done  17 out of  50 | elapsed:   13.3s remaining:   26.0s\n",
      "[Parallel(n_jobs=-1)]: Done  23 out of  50 | elapsed:   23.5s remaining:   27.7s\n",
      "[Parallel(n_jobs=-1)]: Done  29 out of  50 | elapsed:   27.0s remaining:   19.5s\n",
      "[Parallel(n_jobs=-1)]: Done  35 out of  50 | elapsed:   29.0s remaining:   12.4s\n",
      "[Parallel(n_jobs=-1)]: Done  41 out of  50 | elapsed:   35.6s remaining:    7.7s\n",
      "[Parallel(n_jobs=-1)]: Done  47 out of  50 | elapsed:   38.0s remaining:    2.3s\n",
      "[Parallel(n_jobs=-1)]: Done  50 out of  50 | elapsed:   38.0s finished\n",
      "  Processing combinations:  14%|█▍        | 14/100 [13:06<1:12:23, 50.51s/combo]"
     ]
    },
    {
     "name": "stdout",
     "output_type": "stream",
     "text": [
      "Plot saved to f:\\Third-year\\Third-year project\\quantum_repeaters_testing\\new_result1\\class_0\\TOP_43_HIBERNIAGLOBAL\\result_for_[40, 26, 15, 53, 41]\n"
     ]
    },
    {
     "name": "stderr",
     "output_type": "stream",
     "text": [
      "[Parallel(n_jobs=-1)]: Using backend LokyBackend with 20 concurrent workers.\n",
      "[Parallel(n_jobs=-1)]: Done   1 tasks      | elapsed:    8.3s\n",
      "[Parallel(n_jobs=-1)]: Done  10 tasks      | elapsed:   11.3s\n",
      "[Parallel(n_jobs=-1)]: Done  17 out of  50 | elapsed:   20.4s remaining:   39.7s\n",
      "[Parallel(n_jobs=-1)]: Done  23 out of  50 | elapsed:   29.7s remaining:   34.9s\n",
      "[Parallel(n_jobs=-1)]: Done  29 out of  50 | elapsed:   33.0s remaining:   23.9s\n",
      "[Parallel(n_jobs=-1)]: Done  35 out of  50 | elapsed:   37.2s remaining:   15.9s\n",
      "[Parallel(n_jobs=-1)]: Done  41 out of  50 | elapsed:   43.0s remaining:    9.4s\n",
      "[Parallel(n_jobs=-1)]: Done  47 out of  50 | elapsed:   44.3s remaining:    2.7s\n",
      "[Parallel(n_jobs=-1)]: Done  50 out of  50 | elapsed:   44.6s finished\n",
      "  Processing combinations:  15%|█▌        | 15/100 [13:52<1:09:29, 49.05s/combo]"
     ]
    },
    {
     "name": "stdout",
     "output_type": "stream",
     "text": [
      "Plot saved to f:\\Third-year\\Third-year project\\quantum_repeaters_testing\\new_result1\\class_0\\TOP_43_HIBERNIAGLOBAL\\result_for_[40, 35, 20, 50, 49]\n"
     ]
    },
    {
     "name": "stderr",
     "output_type": "stream",
     "text": [
      "[Parallel(n_jobs=-1)]: Using backend LokyBackend with 20 concurrent workers.\n",
      "[Parallel(n_jobs=-1)]: Done   1 tasks      | elapsed:    6.9s\n",
      "[Parallel(n_jobs=-1)]: Done  10 tasks      | elapsed:    8.1s\n",
      "[Parallel(n_jobs=-1)]: Done  17 out of  50 | elapsed:   13.0s remaining:   25.4s\n",
      "[Parallel(n_jobs=-1)]: Done  23 out of  50 | elapsed:   22.6s remaining:   26.6s\n",
      "[Parallel(n_jobs=-1)]: Done  29 out of  50 | elapsed:   25.4s remaining:   18.4s\n",
      "[Parallel(n_jobs=-1)]: Done  35 out of  50 | elapsed:   27.7s remaining:   11.8s\n",
      "[Parallel(n_jobs=-1)]: Done  41 out of  50 | elapsed:   33.6s remaining:    7.3s\n",
      "[Parallel(n_jobs=-1)]: Done  47 out of  50 | elapsed:   35.0s remaining:    2.1s\n",
      "[Parallel(n_jobs=-1)]: Done  50 out of  50 | elapsed:   35.6s finished\n",
      "  Processing combinations:  16%|█▌        | 16/100 [14:29<1:03:27, 45.33s/combo]"
     ]
    },
    {
     "name": "stdout",
     "output_type": "stream",
     "text": [
      "Plot saved to f:\\Third-year\\Third-year project\\quantum_repeaters_testing\\new_result1\\class_0\\TOP_43_HIBERNIAGLOBAL\\result_for_[40, 35, 17, 5, 49]\n"
     ]
    },
    {
     "name": "stderr",
     "output_type": "stream",
     "text": [
      "[Parallel(n_jobs=-1)]: Using backend LokyBackend with 20 concurrent workers.\n",
      "[Parallel(n_jobs=-1)]: Done   1 tasks      | elapsed:   20.9s\n",
      "[Parallel(n_jobs=-1)]: Done  10 tasks      | elapsed:   22.7s\n",
      "[Parallel(n_jobs=-1)]: Done  17 out of  50 | elapsed:   24.5s remaining:   47.7s\n",
      "[Parallel(n_jobs=-1)]: Done  23 out of  50 | elapsed:   43.5s remaining:   51.1s\n",
      "[Parallel(n_jobs=-1)]: Done  29 out of  50 | elapsed:   44.3s remaining:   32.1s\n",
      "[Parallel(n_jobs=-1)]: Done  35 out of  50 | elapsed:   45.1s remaining:   19.3s\n",
      "[Parallel(n_jobs=-1)]: Done  41 out of  50 | elapsed:   54.7s remaining:   11.9s\n",
      "[Parallel(n_jobs=-1)]: Done  47 out of  50 | elapsed:   55.4s remaining:    3.4s\n",
      "[Parallel(n_jobs=-1)]: Done  50 out of  50 | elapsed:   55.8s finished\n",
      "  Processing combinations:  17%|█▋        | 17/100 [15:25<1:07:28, 48.77s/combo]"
     ]
    },
    {
     "name": "stdout",
     "output_type": "stream",
     "text": [
      "Plot saved to f:\\Third-year\\Third-year project\\quantum_repeaters_testing\\new_result1\\class_0\\TOP_43_HIBERNIAGLOBAL\\result_for_[40, 21, 17, 9, 42]\n"
     ]
    },
    {
     "name": "stderr",
     "output_type": "stream",
     "text": [
      "[Parallel(n_jobs=-1)]: Using backend LokyBackend with 20 concurrent workers.\n",
      "[Parallel(n_jobs=-1)]: Done   1 tasks      | elapsed:   19.9s\n",
      "[Parallel(n_jobs=-1)]: Done  10 tasks      | elapsed:   22.4s\n",
      "[Parallel(n_jobs=-1)]: Done  17 out of  50 | elapsed:   24.5s remaining:   47.6s\n",
      "[Parallel(n_jobs=-1)]: Done  23 out of  50 | elapsed:   39.5s remaining:   46.4s\n",
      "[Parallel(n_jobs=-1)]: Done  29 out of  50 | elapsed:   40.8s remaining:   29.5s\n",
      "[Parallel(n_jobs=-1)]: Done  35 out of  50 | elapsed:   41.9s remaining:   17.9s\n",
      "[Parallel(n_jobs=-1)]: Done  41 out of  50 | elapsed:   50.3s remaining:   11.0s\n",
      "[Parallel(n_jobs=-1)]: Done  47 out of  50 | elapsed:   50.9s remaining:    3.2s\n",
      "[Parallel(n_jobs=-1)]: Done  50 out of  50 | elapsed:   51.3s finished\n",
      "  Processing combinations:  18%|█▊        | 18/100 [16:18<1:08:04, 49.81s/combo]"
     ]
    },
    {
     "name": "stdout",
     "output_type": "stream",
     "text": [
      "Plot saved to f:\\Third-year\\Third-year project\\quantum_repeaters_testing\\new_result1\\class_0\\TOP_43_HIBERNIAGLOBAL\\result_for_[40, 19, 27, 46, 43]\n"
     ]
    },
    {
     "name": "stderr",
     "output_type": "stream",
     "text": [
      "[Parallel(n_jobs=-1)]: Using backend LokyBackend with 20 concurrent workers.\n",
      "[Parallel(n_jobs=-1)]: Done   1 tasks      | elapsed:    8.3s\n",
      "[Parallel(n_jobs=-1)]: Done  10 tasks      | elapsed:    8.7s\n",
      "[Parallel(n_jobs=-1)]: Done  17 out of  50 | elapsed:   10.2s remaining:   20.0s\n",
      "[Parallel(n_jobs=-1)]: Done  23 out of  50 | elapsed:   25.3s remaining:   29.7s\n",
      "[Parallel(n_jobs=-1)]: Done  29 out of  50 | elapsed:   28.5s remaining:   20.6s\n",
      "[Parallel(n_jobs=-1)]: Done  35 out of  50 | elapsed:   30.0s remaining:   12.8s\n",
      "[Parallel(n_jobs=-1)]: Done  41 out of  50 | elapsed:   36.0s remaining:    7.8s\n",
      "[Parallel(n_jobs=-1)]: Done  47 out of  50 | elapsed:   39.0s remaining:    2.4s\n",
      "[Parallel(n_jobs=-1)]: Done  50 out of  50 | elapsed:   39.8s finished\n",
      "  Processing combinations:  19%|█▉        | 19/100 [16:58<1:03:36, 47.11s/combo]"
     ]
    },
    {
     "name": "stdout",
     "output_type": "stream",
     "text": [
      "Plot saved to f:\\Third-year\\Third-year project\\quantum_repeaters_testing\\new_result1\\class_0\\TOP_43_HIBERNIAGLOBAL\\result_for_[40, 23, 29, 37, 41]\n"
     ]
    },
    {
     "name": "stderr",
     "output_type": "stream",
     "text": [
      "[Parallel(n_jobs=-1)]: Using backend LokyBackend with 20 concurrent workers.\n",
      "[Parallel(n_jobs=-1)]: Done   1 tasks      | elapsed:   23.0s\n",
      "[Parallel(n_jobs=-1)]: Done  10 tasks      | elapsed:   25.5s\n",
      "[Parallel(n_jobs=-1)]: Done  17 out of  50 | elapsed:   27.6s remaining:   53.6s\n",
      "[Parallel(n_jobs=-1)]: Done  23 out of  50 | elapsed:   43.0s remaining:   50.5s\n",
      "[Parallel(n_jobs=-1)]: Done  29 out of  50 | elapsed:   44.0s remaining:   31.9s\n",
      "[Parallel(n_jobs=-1)]: Done  35 out of  50 | elapsed:   45.2s remaining:   19.3s\n",
      "[Parallel(n_jobs=-1)]: Done  41 out of  50 | elapsed:   54.3s remaining:   11.8s\n",
      "[Parallel(n_jobs=-1)]: Done  47 out of  50 | elapsed:   55.0s remaining:    3.4s\n",
      "[Parallel(n_jobs=-1)]: Done  50 out of  50 | elapsed:   55.2s finished\n",
      "  Processing combinations:  20%|██        | 20/100 [17:55<1:06:28, 49.86s/combo]"
     ]
    },
    {
     "name": "stdout",
     "output_type": "stream",
     "text": [
      "Plot saved to f:\\Third-year\\Third-year project\\quantum_repeaters_testing\\new_result1\\class_0\\TOP_43_HIBERNIAGLOBAL\\result_for_[40, 26, 29, 28, 43]\n"
     ]
    },
    {
     "name": "stderr",
     "output_type": "stream",
     "text": [
      "[Parallel(n_jobs=-1)]: Using backend LokyBackend with 20 concurrent workers.\n",
      "[Parallel(n_jobs=-1)]: Done   1 tasks      | elapsed:    7.2s\n",
      "[Parallel(n_jobs=-1)]: Done  10 tasks      | elapsed:   10.2s\n",
      "[Parallel(n_jobs=-1)]: Done  17 out of  50 | elapsed:   12.9s remaining:   25.2s\n",
      "[Parallel(n_jobs=-1)]: Done  23 out of  50 | elapsed:   27.0s remaining:   31.7s\n",
      "[Parallel(n_jobs=-1)]: Done  29 out of  50 | elapsed:   30.5s remaining:   22.1s\n",
      "[Parallel(n_jobs=-1)]: Done  35 out of  50 | elapsed:   31.8s remaining:   13.6s\n",
      "[Parallel(n_jobs=-1)]: Done  41 out of  50 | elapsed:   38.5s remaining:    8.4s\n",
      "[Parallel(n_jobs=-1)]: Done  47 out of  50 | elapsed:   40.2s remaining:    2.5s\n",
      "[Parallel(n_jobs=-1)]: Done  50 out of  50 | elapsed:   40.6s finished\n",
      "  Processing combinations:  21%|██        | 21/100 [18:36<1:02:22, 47.38s/combo]"
     ]
    },
    {
     "name": "stdout",
     "output_type": "stream",
     "text": [
      "Plot saved to f:\\Third-year\\Third-year project\\quantum_repeaters_testing\\new_result1\\class_0\\TOP_43_HIBERNIAGLOBAL\\result_for_[40, 19, 15, 12, 36]\n"
     ]
    },
    {
     "name": "stderr",
     "output_type": "stream",
     "text": [
      "[Parallel(n_jobs=-1)]: Using backend LokyBackend with 20 concurrent workers.\n",
      "[Parallel(n_jobs=-1)]: Done   1 tasks      | elapsed:   19.6s\n",
      "[Parallel(n_jobs=-1)]: Done  10 tasks      | elapsed:   21.5s\n",
      "[Parallel(n_jobs=-1)]: Done  17 out of  50 | elapsed:   23.0s remaining:   44.7s\n",
      "[Parallel(n_jobs=-1)]: Done  23 out of  50 | elapsed:   48.2s remaining:   56.6s\n",
      "[Parallel(n_jobs=-1)]: Done  29 out of  50 | elapsed:   49.6s remaining:   35.9s\n",
      "[Parallel(n_jobs=-1)]: Done  35 out of  50 | elapsed:   50.3s remaining:   21.5s\n",
      "[Parallel(n_jobs=-1)]: Done  41 out of  50 | elapsed:  1.0min remaining:   13.4s\n",
      "[Parallel(n_jobs=-1)]: Done  47 out of  50 | elapsed:  1.0min remaining:    3.9s\n",
      "[Parallel(n_jobs=-1)]: Done  50 out of  50 | elapsed:  1.0min finished\n",
      "  Processing combinations:  22%|██▏       | 22/100 [19:42<1:08:46, 52.91s/combo]"
     ]
    },
    {
     "name": "stdout",
     "output_type": "stream",
     "text": [
      "Plot saved to f:\\Third-year\\Third-year project\\quantum_repeaters_testing\\new_result1\\class_0\\TOP_43_HIBERNIAGLOBAL\\result_for_[40, 26, 27, 5, 42]\n"
     ]
    },
    {
     "name": "stderr",
     "output_type": "stream",
     "text": [
      "[Parallel(n_jobs=-1)]: Using backend LokyBackend with 20 concurrent workers.\n",
      "[Parallel(n_jobs=-1)]: Done   1 tasks      | elapsed:   42.0s\n",
      "[Parallel(n_jobs=-1)]: Done  10 tasks      | elapsed:   43.1s\n",
      "[Parallel(n_jobs=-1)]: Done  17 out of  50 | elapsed:   44.6s remaining:  1.4min\n",
      "[Parallel(n_jobs=-1)]: Done  23 out of  50 | elapsed:  1.0min remaining:  1.2min\n",
      "[Parallel(n_jobs=-1)]: Done  29 out of  50 | elapsed:  1.1min remaining:   46.3s\n",
      "[Parallel(n_jobs=-1)]: Done  35 out of  50 | elapsed:  1.1min remaining:   27.7s\n",
      "[Parallel(n_jobs=-1)]: Done  41 out of  50 | elapsed:  1.3min remaining:   16.9s\n",
      "[Parallel(n_jobs=-1)]: Done  47 out of  50 | elapsed:  1.3min remaining:    4.9s\n",
      "[Parallel(n_jobs=-1)]: Done  50 out of  50 | elapsed:  1.3min finished\n",
      "  Processing combinations:  23%|██▎       | 23/100 [21:01<1:17:53, 60.69s/combo]"
     ]
    },
    {
     "name": "stdout",
     "output_type": "stream",
     "text": [
      "Plot saved to f:\\Third-year\\Third-year project\\quantum_repeaters_testing\\new_result1\\class_0\\TOP_43_HIBERNIAGLOBAL\\result_for_[40, 22, 27, 6, 41]\n"
     ]
    },
    {
     "name": "stderr",
     "output_type": "stream",
     "text": [
      "[Parallel(n_jobs=-1)]: Using backend LokyBackend with 20 concurrent workers.\n",
      "[Parallel(n_jobs=-1)]: Done   1 tasks      | elapsed:   14.6s\n",
      "[Parallel(n_jobs=-1)]: Done  10 tasks      | elapsed:   15.6s\n",
      "[Parallel(n_jobs=-1)]: Done  17 out of  50 | elapsed:   16.3s remaining:   31.7s\n",
      "[Parallel(n_jobs=-1)]: Done  23 out of  50 | elapsed:   29.3s remaining:   34.4s\n",
      "[Parallel(n_jobs=-1)]: Done  29 out of  50 | elapsed:   35.7s remaining:   25.9s\n",
      "[Parallel(n_jobs=-1)]: Done  35 out of  50 | elapsed:   37.1s remaining:   15.9s\n",
      "[Parallel(n_jobs=-1)]: Done  41 out of  50 | elapsed:   42.7s remaining:    9.3s\n",
      "[Parallel(n_jobs=-1)]: Done  47 out of  50 | elapsed:   45.6s remaining:    2.8s\n",
      "[Parallel(n_jobs=-1)]: Done  50 out of  50 | elapsed:   46.2s finished\n",
      "  Processing combinations:  24%|██▍       | 24/100 [21:48<1:11:46, 56.66s/combo]"
     ]
    },
    {
     "name": "stdout",
     "output_type": "stream",
     "text": [
      "Plot saved to f:\\Third-year\\Third-year project\\quantum_repeaters_testing\\new_result1\\class_0\\TOP_43_HIBERNIAGLOBAL\\result_for_[40, 23, 18, 52, 41]\n"
     ]
    },
    {
     "name": "stderr",
     "output_type": "stream",
     "text": [
      "[Parallel(n_jobs=-1)]: Using backend LokyBackend with 20 concurrent workers.\n",
      "[Parallel(n_jobs=-1)]: Done   1 tasks      | elapsed:   33.3s\n",
      "[Parallel(n_jobs=-1)]: Done  10 tasks      | elapsed:   37.3s\n",
      "[Parallel(n_jobs=-1)]: Done  17 out of  50 | elapsed:   39.0s remaining:  1.3min\n",
      "[Parallel(n_jobs=-1)]: Done  23 out of  50 | elapsed:   53.8s remaining:  1.1min\n",
      "[Parallel(n_jobs=-1)]: Done  29 out of  50 | elapsed:   54.7s remaining:   39.6s\n",
      "[Parallel(n_jobs=-1)]: Done  35 out of  50 | elapsed:   55.5s remaining:   23.7s\n",
      "[Parallel(n_jobs=-1)]: Done  41 out of  50 | elapsed:  1.1min remaining:   14.8s\n",
      "[Parallel(n_jobs=-1)]: Done  47 out of  50 | elapsed:  1.1min remaining:    4.2s\n",
      "[Parallel(n_jobs=-1)]: Done  50 out of  50 | elapsed:  1.1min finished\n",
      "  Processing combinations:  25%|██▌       | 25/100 [22:57<1:15:33, 60.45s/combo]"
     ]
    },
    {
     "name": "stdout",
     "output_type": "stream",
     "text": [
      "Plot saved to f:\\Third-year\\Third-year project\\quantum_repeaters_testing\\new_result1\\class_0\\TOP_43_HIBERNIAGLOBAL\\result_for_[40, 14, 27, 12, 41]\n"
     ]
    },
    {
     "name": "stderr",
     "output_type": "stream",
     "text": [
      "[Parallel(n_jobs=-1)]: Using backend LokyBackend with 20 concurrent workers.\n",
      "[Parallel(n_jobs=-1)]: Done   1 tasks      | elapsed:    5.3s\n",
      "[Parallel(n_jobs=-1)]: Done  10 tasks      | elapsed:    7.6s\n",
      "[Parallel(n_jobs=-1)]: Done  17 out of  50 | elapsed:    8.7s remaining:   16.9s\n",
      "[Parallel(n_jobs=-1)]: Done  23 out of  50 | elapsed:   25.7s remaining:   30.2s\n",
      "[Parallel(n_jobs=-1)]: Done  29 out of  50 | elapsed:   36.0s remaining:   26.0s\n",
      "[Parallel(n_jobs=-1)]: Done  35 out of  50 | elapsed:   38.6s remaining:   16.5s\n",
      "[Parallel(n_jobs=-1)]: Done  41 out of  50 | elapsed:   45.8s remaining:   10.0s\n",
      "[Parallel(n_jobs=-1)]: Done  47 out of  50 | elapsed:   50.4s remaining:    3.1s\n",
      "[Parallel(n_jobs=-1)]: Done  50 out of  50 | elapsed:   50.7s finished\n",
      "  Processing combinations:  26%|██▌       | 26/100 [23:51<1:12:04, 58.44s/combo]"
     ]
    },
    {
     "name": "stdout",
     "output_type": "stream",
     "text": [
      "Plot saved to f:\\Third-year\\Third-year project\\quantum_repeaters_testing\\new_result1\\class_0\\TOP_43_HIBERNIAGLOBAL\\result_for_[40, 23, 17, 28, 43]\n"
     ]
    },
    {
     "name": "stderr",
     "output_type": "stream",
     "text": [
      "[Parallel(n_jobs=-1)]: Using backend LokyBackend with 20 concurrent workers.\n",
      "[Parallel(n_jobs=-1)]: Done   1 tasks      | elapsed:   17.4s\n",
      "[Parallel(n_jobs=-1)]: Done  10 tasks      | elapsed:   21.4s\n",
      "[Parallel(n_jobs=-1)]: Done  17 out of  50 | elapsed:   35.7s remaining:  1.2min\n",
      "[Parallel(n_jobs=-1)]: Done  23 out of  50 | elapsed:   58.2s remaining:  1.1min\n",
      "[Parallel(n_jobs=-1)]: Done  29 out of  50 | elapsed:  1.0min remaining:   44.9s\n",
      "[Parallel(n_jobs=-1)]: Done  35 out of  50 | elapsed:  1.2min remaining:   30.5s\n",
      "[Parallel(n_jobs=-1)]: Done  41 out of  50 | elapsed:  1.3min remaining:   16.4s\n",
      "[Parallel(n_jobs=-1)]: Done  47 out of  50 | elapsed:  1.3min remaining:    5.1s\n",
      "[Parallel(n_jobs=-1)]: Done  50 out of  50 | elapsed:  1.4min finished\n"
     ]
    },
    {
     "name": "stdout",
     "output_type": "stream",
     "text": [
      "Plot saved to f:\\Third-year\\Third-year project\\quantum_repeaters_testing\\new_result1\\class_0\\TOP_43_HIBERNIAGLOBAL\\result_for_[40, 21, 15, 46, 49]\n"
     ]
    },
    {
     "name": "stderr",
     "output_type": "stream",
     "text": [
      "  Processing combinations:  27%|██▋       | 27/100 [25:16<1:20:47, 66.41s/combo][Parallel(n_jobs=-1)]: Using backend LokyBackend with 20 concurrent workers.\n",
      "[Parallel(n_jobs=-1)]: Done   1 tasks      | elapsed:   35.7s\n",
      "[Parallel(n_jobs=-1)]: Done  10 tasks      | elapsed:   37.5s\n",
      "[Parallel(n_jobs=-1)]: Done  17 out of  50 | elapsed:   40.7s remaining:  1.3min\n",
      "[Parallel(n_jobs=-1)]: Done  23 out of  50 | elapsed:  1.1min remaining:  1.3min\n",
      "[Parallel(n_jobs=-1)]: Done  29 out of  50 | elapsed:  1.1min remaining:   49.1s\n",
      "[Parallel(n_jobs=-1)]: Done  35 out of  50 | elapsed:  1.1min remaining:   29.3s\n",
      "[Parallel(n_jobs=-1)]: Done  41 out of  50 | elapsed:  1.3min remaining:   17.7s\n",
      "[Parallel(n_jobs=-1)]: Done  47 out of  50 | elapsed:  1.4min remaining:    5.1s\n",
      "[Parallel(n_jobs=-1)]: Done  50 out of  50 | elapsed:  1.4min finished\n"
     ]
    },
    {
     "name": "stdout",
     "output_type": "stream",
     "text": [
      "Plot saved to f:\\Third-year\\Third-year project\\quantum_repeaters_testing\\new_result1\\class_0\\TOP_43_HIBERNIAGLOBAL\\result_for_[40, 26, 17, 45, 36]\n"
     ]
    },
    {
     "name": "stderr",
     "output_type": "stream",
     "text": [
      "  Processing combinations:  28%|██▊       | 28/100 [26:41<1:26:08, 71.78s/combo][Parallel(n_jobs=-1)]: Using backend LokyBackend with 20 concurrent workers.\n",
      "[Parallel(n_jobs=-1)]: Done   1 tasks      | elapsed:    9.0s\n",
      "[Parallel(n_jobs=-1)]: Done  10 tasks      | elapsed:   16.2s\n",
      "[Parallel(n_jobs=-1)]: Done  17 out of  50 | elapsed:   22.9s remaining:   44.6s\n",
      "[Parallel(n_jobs=-1)]: Done  23 out of  50 | elapsed:   47.2s remaining:   55.5s\n",
      "[Parallel(n_jobs=-1)]: Done  29 out of  50 | elapsed:   57.3s remaining:   41.4s\n",
      "[Parallel(n_jobs=-1)]: Done  35 out of  50 | elapsed:  1.0min remaining:   26.5s\n",
      "[Parallel(n_jobs=-1)]: Done  41 out of  50 | elapsed:  1.2min remaining:   15.5s\n",
      "[Parallel(n_jobs=-1)]: Done  47 out of  50 | elapsed:  1.3min remaining:    4.8s\n",
      "[Parallel(n_jobs=-1)]: Done  50 out of  50 | elapsed:  1.3min finished\n",
      "  Processing combinations:  29%|██▉       | 29/100 [28:01<1:27:52, 74.26s/combo]"
     ]
    },
    {
     "name": "stdout",
     "output_type": "stream",
     "text": [
      "Plot saved to f:\\Third-year\\Third-year project\\quantum_repeaters_testing\\new_result1\\class_0\\TOP_43_HIBERNIAGLOBAL\\result_for_[40, 35, 20, 4, 42]\n"
     ]
    },
    {
     "name": "stderr",
     "output_type": "stream",
     "text": [
      "[Parallel(n_jobs=-1)]: Using backend LokyBackend with 20 concurrent workers.\n",
      "[Parallel(n_jobs=-1)]: Done   1 tasks      | elapsed:   16.8s\n",
      "[Parallel(n_jobs=-1)]: Done  10 tasks      | elapsed:   18.9s\n",
      "[Parallel(n_jobs=-1)]: Done  17 out of  50 | elapsed:   27.8s remaining:   54.1s\n",
      "[Parallel(n_jobs=-1)]: Done  23 out of  50 | elapsed:   57.7s remaining:  1.1min\n",
      "[Parallel(n_jobs=-1)]: Done  29 out of  50 | elapsed:  1.1min remaining:   45.8s\n",
      "[Parallel(n_jobs=-1)]: Done  35 out of  50 | elapsed:  1.1min remaining:   28.8s\n",
      "[Parallel(n_jobs=-1)]: Done  41 out of  50 | elapsed:  1.3min remaining:   16.6s\n",
      "[Parallel(n_jobs=-1)]: Done  47 out of  50 | elapsed:  1.4min remaining:    5.1s\n",
      "[Parallel(n_jobs=-1)]: Done  50 out of  50 | elapsed:  1.4min finished\n"
     ]
    },
    {
     "name": "stdout",
     "output_type": "stream",
     "text": [
      "Plot saved to f:\\Third-year\\Third-year project\\quantum_repeaters_testing\\new_result1\\class_0\\TOP_43_HIBERNIAGLOBAL\\result_for_[40, 19, 34, 53, 36]\n"
     ]
    },
    {
     "name": "stderr",
     "output_type": "stream",
     "text": [
      "  Processing combinations:  30%|███       | 30/100 [29:27<1:30:53, 77.91s/combo][Parallel(n_jobs=-1)]: Using backend LokyBackend with 20 concurrent workers.\n",
      "[Parallel(n_jobs=-1)]: Done   1 tasks      | elapsed:   46.5s\n",
      "[Parallel(n_jobs=-1)]: Done  10 tasks      | elapsed:   51.2s\n",
      "[Parallel(n_jobs=-1)]: Done  17 out of  50 | elapsed:   56.4s remaining:  1.8min\n",
      "[Parallel(n_jobs=-1)]: Done  23 out of  50 | elapsed:  1.5min remaining:  1.8min\n",
      "[Parallel(n_jobs=-1)]: Done  29 out of  50 | elapsed:  1.6min remaining:  1.2min\n",
      "[Parallel(n_jobs=-1)]: Done  35 out of  50 | elapsed:  1.7min remaining:   42.8s\n",
      "[Parallel(n_jobs=-1)]: Done  41 out of  50 | elapsed:  1.8min remaining:   23.9s\n",
      "[Parallel(n_jobs=-1)]: Done  47 out of  50 | elapsed:  1.9min remaining:    7.2s\n",
      "[Parallel(n_jobs=-1)]: Done  50 out of  50 | elapsed:  1.9min finished\n"
     ]
    },
    {
     "name": "stdout",
     "output_type": "stream",
     "text": [
      "Plot saved to f:\\Third-year\\Third-year project\\quantum_repeaters_testing\\new_result1\\class_0\\TOP_43_HIBERNIAGLOBAL\\result_for_[40, 16, 20, 4, 43]\n"
     ]
    },
    {
     "name": "stderr",
     "output_type": "stream",
     "text": [
      "  Processing combinations:  31%|███       | 31/100 [31:25<1:43:22, 89.89s/combo][Parallel(n_jobs=-1)]: Using backend LokyBackend with 20 concurrent workers.\n",
      "[Parallel(n_jobs=-1)]: Done   1 tasks      | elapsed:   11.1s\n",
      "[Parallel(n_jobs=-1)]: Done  10 tasks      | elapsed:   17.4s\n",
      "[Parallel(n_jobs=-1)]: Done  17 out of  50 | elapsed:   18.1s remaining:   35.3s\n",
      "[Parallel(n_jobs=-1)]: Done  23 out of  50 | elapsed:   32.7s remaining:   38.4s\n",
      "[Parallel(n_jobs=-1)]: Done  29 out of  50 | elapsed:   46.2s remaining:   33.4s\n",
      "[Parallel(n_jobs=-1)]: Done  35 out of  50 | elapsed:   54.5s remaining:   23.3s\n",
      "[Parallel(n_jobs=-1)]: Done  41 out of  50 | elapsed:   57.0s remaining:   12.4s\n",
      "[Parallel(n_jobs=-1)]: Done  47 out of  50 | elapsed:  1.1min remaining:    4.0s\n",
      "[Parallel(n_jobs=-1)]: Done  50 out of  50 | elapsed:  1.1min finished\n",
      "  Processing combinations:  32%|███▏      | 32/100 [32:34<1:34:44, 83.60s/combo]"
     ]
    },
    {
     "name": "stdout",
     "output_type": "stream",
     "text": [
      "Plot saved to f:\\Third-year\\Third-year project\\quantum_repeaters_testing\\new_result1\\class_0\\TOP_43_HIBERNIAGLOBAL\\result_for_[40, 23, 34, 47, 43]\n"
     ]
    },
    {
     "name": "stderr",
     "output_type": "stream",
     "text": [
      "[Parallel(n_jobs=-1)]: Using backend LokyBackend with 20 concurrent workers.\n",
      "[Parallel(n_jobs=-1)]: Done   1 tasks      | elapsed:   11.6s\n",
      "[Parallel(n_jobs=-1)]: Done  10 tasks      | elapsed:   18.5s\n",
      "[Parallel(n_jobs=-1)]: Done  17 out of  50 | elapsed:   21.6s remaining:   42.0s\n",
      "[Parallel(n_jobs=-1)]: Done  23 out of  50 | elapsed:   45.1s remaining:   53.0s\n",
      "[Parallel(n_jobs=-1)]: Done  29 out of  50 | elapsed:   54.3s remaining:   39.3s\n",
      "[Parallel(n_jobs=-1)]: Done  35 out of  50 | elapsed:   57.9s remaining:   24.8s\n",
      "[Parallel(n_jobs=-1)]: Done  41 out of  50 | elapsed:  1.0min remaining:   13.6s\n",
      "[Parallel(n_jobs=-1)]: Done  47 out of  50 | elapsed:  1.2min remaining:    4.4s\n",
      "[Parallel(n_jobs=-1)]: Done  50 out of  50 | elapsed:  1.2min finished\n"
     ]
    },
    {
     "name": "stdout",
     "output_type": "stream",
     "text": [
      "Plot saved to f:\\Third-year\\Third-year project\\quantum_repeaters_testing\\new_result1\\class_0\\TOP_43_HIBERNIAGLOBAL\\result_for_[40, 35, 15, 10, 49]\n"
     ]
    },
    {
     "name": "stderr",
     "output_type": "stream",
     "text": [
      "  Processing combinations:  33%|███▎      | 33/100 [33:49<1:30:41, 81.22s/combo][Parallel(n_jobs=-1)]: Using backend LokyBackend with 20 concurrent workers.\n",
      "[Parallel(n_jobs=-1)]: Done   1 tasks      | elapsed:   12.3s\n",
      "[Parallel(n_jobs=-1)]: Done  10 tasks      | elapsed:   19.0s\n",
      "[Parallel(n_jobs=-1)]: Done  17 out of  50 | elapsed:   24.6s remaining:   47.8s\n",
      "[Parallel(n_jobs=-1)]: Done  23 out of  50 | elapsed:   55.7s remaining:  1.1min\n",
      "[Parallel(n_jobs=-1)]: Done  29 out of  50 | elapsed:  1.0min remaining:   44.3s\n",
      "[Parallel(n_jobs=-1)]: Done  35 out of  50 | elapsed:  1.0min remaining:   26.8s\n",
      "[Parallel(n_jobs=-1)]: Done  41 out of  50 | elapsed:  1.2min remaining:   15.2s\n",
      "[Parallel(n_jobs=-1)]: Done  47 out of  50 | elapsed:  1.3min remaining:    4.9s\n",
      "[Parallel(n_jobs=-1)]: Done  50 out of  50 | elapsed:  1.3min finished\n"
     ]
    },
    {
     "name": "stdout",
     "output_type": "stream",
     "text": [
      "Plot saved to f:\\Third-year\\Third-year project\\quantum_repeaters_testing\\new_result1\\class_0\\TOP_43_HIBERNIAGLOBAL\\result_for_[40, 23, 20, 48, 43]\n"
     ]
    },
    {
     "name": "stderr",
     "output_type": "stream",
     "text": [
      "  Processing combinations:  34%|███▍      | 34/100 [35:11<1:29:21, 81.24s/combo][Parallel(n_jobs=-1)]: Using backend LokyBackend with 20 concurrent workers.\n",
      "[Parallel(n_jobs=-1)]: Done   1 tasks      | elapsed:    8.0s\n",
      "[Parallel(n_jobs=-1)]: Done  10 tasks      | elapsed:   24.3s\n",
      "[Parallel(n_jobs=-1)]: Done  17 out of  50 | elapsed:   36.3s remaining:  1.2min\n",
      "[Parallel(n_jobs=-1)]: Done  23 out of  50 | elapsed:   58.0s remaining:  1.1min\n",
      "[Parallel(n_jobs=-1)]: Done  29 out of  50 | elapsed:  1.1min remaining:   49.1s\n",
      "[Parallel(n_jobs=-1)]: Done  35 out of  50 | elapsed:  1.2min remaining:   30.8s\n",
      "[Parallel(n_jobs=-1)]: Done  41 out of  50 | elapsed:  1.3min remaining:   17.2s\n",
      "[Parallel(n_jobs=-1)]: Done  47 out of  50 | elapsed:  1.4min remaining:    5.4s\n",
      "[Parallel(n_jobs=-1)]: Done  50 out of  50 | elapsed:  1.4min finished\n",
      "  Processing combinations:  35%|███▌      | 35/100 [36:41<1:30:49, 83.84s/combo]"
     ]
    },
    {
     "name": "stdout",
     "output_type": "stream",
     "text": [
      "Plot saved to f:\\Third-year\\Third-year project\\quantum_repeaters_testing\\new_result1\\class_0\\TOP_43_HIBERNIAGLOBAL\\result_for_[40, 22, 15, 24, 43]\n"
     ]
    },
    {
     "name": "stderr",
     "output_type": "stream",
     "text": [
      "[Parallel(n_jobs=-1)]: Using backend LokyBackend with 20 concurrent workers.\n",
      "[Parallel(n_jobs=-1)]: Done   1 tasks      | elapsed:   34.5s\n",
      "[Parallel(n_jobs=-1)]: Done  10 tasks      | elapsed:   52.2s\n",
      "[Parallel(n_jobs=-1)]: Done  17 out of  50 | elapsed:   58.4s remaining:  1.9min\n",
      "[Parallel(n_jobs=-1)]: Done  23 out of  50 | elapsed:  1.5min remaining:  1.7min\n",
      "[Parallel(n_jobs=-1)]: Done  29 out of  50 | elapsed:  1.6min remaining:  1.2min\n",
      "[Parallel(n_jobs=-1)]: Done  35 out of  50 | elapsed:  1.7min remaining:   42.5s\n",
      "[Parallel(n_jobs=-1)]: Done  41 out of  50 | elapsed:  1.8min remaining:   23.8s\n",
      "[Parallel(n_jobs=-1)]: Done  47 out of  50 | elapsed:  1.9min remaining:    7.2s\n",
      "[Parallel(n_jobs=-1)]: Done  50 out of  50 | elapsed:  1.9min finished\n",
      "  Processing combinations:  36%|███▌      | 36/100 [38:37<1:39:50, 93.61s/combo]"
     ]
    },
    {
     "name": "stdout",
     "output_type": "stream",
     "text": [
      "Plot saved to f:\\Third-year\\Third-year project\\quantum_repeaters_testing\\new_result1\\class_0\\TOP_43_HIBERNIAGLOBAL\\result_for_[40, 14, 18, 4, 41]\n"
     ]
    },
    {
     "name": "stderr",
     "output_type": "stream",
     "text": [
      "[Parallel(n_jobs=-1)]: Using backend LokyBackend with 20 concurrent workers.\n",
      "[Parallel(n_jobs=-1)]: Done   1 tasks      | elapsed:   13.1s\n",
      "[Parallel(n_jobs=-1)]: Done  10 tasks      | elapsed:   21.0s\n",
      "[Parallel(n_jobs=-1)]: Done  17 out of  50 | elapsed:   31.3s remaining:  1.0min\n",
      "[Parallel(n_jobs=-1)]: Done  23 out of  50 | elapsed:  1.0min remaining:  1.2min\n",
      "[Parallel(n_jobs=-1)]: Done  29 out of  50 | elapsed:  1.1min remaining:   47.7s\n",
      "[Parallel(n_jobs=-1)]: Done  35 out of  50 | elapsed:  1.2min remaining:   29.8s\n",
      "[Parallel(n_jobs=-1)]: Done  41 out of  50 | elapsed:  1.3min remaining:   17.1s\n",
      "[Parallel(n_jobs=-1)]: Done  47 out of  50 | elapsed:  1.4min remaining:    5.2s\n",
      "[Parallel(n_jobs=-1)]: Done  50 out of  50 | elapsed:  1.4min finished\n"
     ]
    },
    {
     "name": "stdout",
     "output_type": "stream",
     "text": [
      "Plot saved to f:\\Third-year\\Third-year project\\quantum_repeaters_testing\\new_result1\\class_0\\TOP_43_HIBERNIAGLOBAL\\result_for_[40, 16, 15, 11, 49]\n"
     ]
    },
    {
     "name": "stderr",
     "output_type": "stream",
     "text": [
      "  Processing combinations:  37%|███▋      | 37/100 [40:04<1:36:06, 91.52s/combo][Parallel(n_jobs=-1)]: Using backend LokyBackend with 20 concurrent workers.\n",
      "[Parallel(n_jobs=-1)]: Done   1 tasks      | elapsed:   22.8s\n",
      "[Parallel(n_jobs=-1)]: Done  10 tasks      | elapsed:   52.5s\n",
      "[Parallel(n_jobs=-1)]: Done  17 out of  50 | elapsed:   56.9s remaining:  1.8min\n",
      "[Parallel(n_jobs=-1)]: Done  23 out of  50 | elapsed:  1.4min remaining:  1.6min\n",
      "[Parallel(n_jobs=-1)]: Done  29 out of  50 | elapsed:  1.6min remaining:  1.1min\n",
      "[Parallel(n_jobs=-1)]: Done  35 out of  50 | elapsed:  1.6min remaining:   41.1s\n",
      "[Parallel(n_jobs=-1)]: Done  41 out of  50 | elapsed:  1.8min remaining:   23.3s\n",
      "[Parallel(n_jobs=-1)]: Done  47 out of  50 | elapsed:  1.8min remaining:    6.9s\n",
      "[Parallel(n_jobs=-1)]: Done  50 out of  50 | elapsed:  1.9min finished\n",
      "  Processing combinations:  38%|███▊      | 38/100 [41:58<1:41:36, 98.32s/combo]"
     ]
    },
    {
     "name": "stdout",
     "output_type": "stream",
     "text": [
      "Plot saved to f:\\Third-year\\Third-year project\\quantum_repeaters_testing\\new_result1\\class_0\\TOP_43_HIBERNIAGLOBAL\\result_for_[40, 16, 29, 50, 42]\n"
     ]
    },
    {
     "name": "stderr",
     "output_type": "stream",
     "text": [
      "[Parallel(n_jobs=-1)]: Using backend LokyBackend with 20 concurrent workers.\n",
      "[Parallel(n_jobs=-1)]: Done   1 tasks      | elapsed:   16.3s\n",
      "[Parallel(n_jobs=-1)]: Done  10 tasks      | elapsed:   23.9s\n",
      "[Parallel(n_jobs=-1)]: Done  17 out of  50 | elapsed:   41.4s remaining:  1.3min\n",
      "[Parallel(n_jobs=-1)]: Done  23 out of  50 | elapsed:  1.1min remaining:  1.3min\n",
      "[Parallel(n_jobs=-1)]: Done  29 out of  50 | elapsed:  1.2min remaining:   51.0s\n",
      "[Parallel(n_jobs=-1)]: Done  35 out of  50 | elapsed:  1.3min remaining:   33.7s\n",
      "[Parallel(n_jobs=-1)]: Done  41 out of  50 | elapsed:  1.4min remaining:   18.9s\n",
      "[Parallel(n_jobs=-1)]: Done  47 out of  50 | elapsed:  1.5min remaining:    5.8s\n",
      "[Parallel(n_jobs=-1)]: Done  50 out of  50 | elapsed:  1.6min finished\n"
     ]
    },
    {
     "name": "stdout",
     "output_type": "stream",
     "text": [
      "Plot saved to f:\\Third-year\\Third-year project\\quantum_repeaters_testing\\new_result1\\class_0\\TOP_43_HIBERNIAGLOBAL\\result_for_[40, 35, 13, 2, 36]\n"
     ]
    },
    {
     "name": "stderr",
     "output_type": "stream",
     "text": [
      "  Processing combinations:  39%|███▉      | 39/100 [43:35<1:39:34, 97.95s/combo][Parallel(n_jobs=-1)]: Using backend LokyBackend with 20 concurrent workers.\n",
      "[Parallel(n_jobs=-1)]: Done   1 tasks      | elapsed:   11.0s\n",
      "[Parallel(n_jobs=-1)]: Done  10 tasks      | elapsed:   19.3s\n",
      "[Parallel(n_jobs=-1)]: Done  17 out of  50 | elapsed:   30.1s remaining:   58.5s\n",
      "[Parallel(n_jobs=-1)]: Done  23 out of  50 | elapsed:   56.6s remaining:  1.1min\n",
      "[Parallel(n_jobs=-1)]: Done  29 out of  50 | elapsed:  1.1min remaining:   45.6s\n",
      "[Parallel(n_jobs=-1)]: Done  35 out of  50 | elapsed:  1.1min remaining:   29.1s\n",
      "[Parallel(n_jobs=-1)]: Done  41 out of  50 | elapsed:  1.3min remaining:   17.6s\n",
      "[Parallel(n_jobs=-1)]: Done  47 out of  50 | elapsed:  1.4min remaining:    5.2s\n",
      "[Parallel(n_jobs=-1)]: Done  50 out of  50 | elapsed:  1.4min finished\n",
      "  Processing combinations:  40%|████      | 40/100 [45:01<1:34:17, 94.29s/combo]"
     ]
    },
    {
     "name": "stdout",
     "output_type": "stream",
     "text": [
      "Plot saved to f:\\Third-year\\Third-year project\\quantum_repeaters_testing\\new_result1\\class_0\\TOP_43_HIBERNIAGLOBAL\\result_for_[40, 21, 34, 50, 42]\n"
     ]
    },
    {
     "name": "stderr",
     "output_type": "stream",
     "text": [
      "[Parallel(n_jobs=-1)]: Using backend LokyBackend with 20 concurrent workers.\n",
      "[Parallel(n_jobs=-1)]: Done   1 tasks      | elapsed:   12.5s\n",
      "[Parallel(n_jobs=-1)]: Done  10 tasks      | elapsed:   17.2s\n",
      "[Parallel(n_jobs=-1)]: Done  17 out of  50 | elapsed:   18.6s remaining:   36.2s\n",
      "[Parallel(n_jobs=-1)]: Done  23 out of  50 | elapsed:   43.7s remaining:   51.3s\n",
      "[Parallel(n_jobs=-1)]: Done  29 out of  50 | elapsed:   52.6s remaining:   38.1s\n",
      "[Parallel(n_jobs=-1)]: Done  35 out of  50 | elapsed:   58.7s remaining:   25.1s\n",
      "[Parallel(n_jobs=-1)]: Done  41 out of  50 | elapsed:  1.1min remaining:   14.1s\n",
      "[Parallel(n_jobs=-1)]: Done  47 out of  50 | elapsed:  1.2min remaining:    4.4s\n",
      "[Parallel(n_jobs=-1)]: Done  50 out of  50 | elapsed:  1.2min finished\n",
      "  Processing combinations:  41%|████      | 41/100 [46:14<1:26:32, 88.01s/combo]"
     ]
    },
    {
     "name": "stdout",
     "output_type": "stream",
     "text": [
      "Plot saved to f:\\Third-year\\Third-year project\\quantum_repeaters_testing\\new_result1\\class_0\\TOP_43_HIBERNIAGLOBAL\\result_for_[40, 35, 15, 45, 42]\n"
     ]
    },
    {
     "name": "stderr",
     "output_type": "stream",
     "text": [
      "[Parallel(n_jobs=-1)]: Using backend LokyBackend with 20 concurrent workers.\n",
      "[Parallel(n_jobs=-1)]: Done   1 tasks      | elapsed:   16.6s\n",
      "[Parallel(n_jobs=-1)]: Done  10 tasks      | elapsed:   19.7s\n",
      "[Parallel(n_jobs=-1)]: Done  17 out of  50 | elapsed:   24.7s remaining:   48.1s\n",
      "[Parallel(n_jobs=-1)]: Done  23 out of  50 | elapsed:   50.5s remaining:   59.4s\n",
      "[Parallel(n_jobs=-1)]: Done  29 out of  50 | elapsed:  1.0min remaining:   44.8s\n",
      "[Parallel(n_jobs=-1)]: Done  35 out of  50 | elapsed:  1.1min remaining:   27.6s\n",
      "[Parallel(n_jobs=-1)]: Done  41 out of  50 | elapsed:  1.2min remaining:   16.0s\n",
      "[Parallel(n_jobs=-1)]: Done  47 out of  50 | elapsed:  1.3min remaining:    4.9s\n",
      "[Parallel(n_jobs=-1)]: Done  50 out of  50 | elapsed:  1.3min finished\n",
      "  Processing combinations:  42%|████▏     | 42/100 [47:34<1:22:49, 85.68s/combo]"
     ]
    },
    {
     "name": "stdout",
     "output_type": "stream",
     "text": [
      "Plot saved to f:\\Third-year\\Third-year project\\quantum_repeaters_testing\\new_result1\\class_0\\TOP_43_HIBERNIAGLOBAL\\result_for_[40, 35, 20, 46, 41]\n"
     ]
    },
    {
     "name": "stderr",
     "output_type": "stream",
     "text": [
      "[Parallel(n_jobs=-1)]: Using backend LokyBackend with 20 concurrent workers.\n",
      "[Parallel(n_jobs=-1)]: Done   1 tasks      | elapsed:   40.6s\n",
      "[Parallel(n_jobs=-1)]: Done  10 tasks      | elapsed:   55.2s\n",
      "[Parallel(n_jobs=-1)]: Done  17 out of  50 | elapsed:   57.4s remaining:  1.9min\n",
      "[Parallel(n_jobs=-1)]: Done  23 out of  50 | elapsed:  1.5min remaining:  1.8min\n",
      "[Parallel(n_jobs=-1)]: Done  29 out of  50 | elapsed:  1.6min remaining:  1.2min\n",
      "[Parallel(n_jobs=-1)]: Done  35 out of  50 | elapsed:  1.6min remaining:   42.3s\n",
      "[Parallel(n_jobs=-1)]: Done  41 out of  50 | elapsed:  1.8min remaining:   23.9s\n",
      "[Parallel(n_jobs=-1)]: Done  47 out of  50 | elapsed:  1.9min remaining:    7.2s\n",
      "[Parallel(n_jobs=-1)]: Done  50 out of  50 | elapsed:  1.9min finished\n"
     ]
    },
    {
     "name": "stdout",
     "output_type": "stream",
     "text": [
      "Plot saved to f:\\Third-year\\Third-year project\\quantum_repeaters_testing\\new_result1\\class_0\\TOP_43_HIBERNIAGLOBAL\\result_for_[40, 26, 17, 7, 36]\n"
     ]
    },
    {
     "name": "stderr",
     "output_type": "stream",
     "text": [
      "  Processing combinations:  43%|████▎     | 43/100 [49:33<1:30:44, 95.52s/combo][Parallel(n_jobs=-1)]: Using backend LokyBackend with 20 concurrent workers.\n",
      "[Parallel(n_jobs=-1)]: Done   1 tasks      | elapsed:   14.0s\n",
      "[Parallel(n_jobs=-1)]: Done  10 tasks      | elapsed:   17.8s\n",
      "[Parallel(n_jobs=-1)]: Done  17 out of  50 | elapsed:   22.0s remaining:   42.8s\n",
      "[Parallel(n_jobs=-1)]: Done  23 out of  50 | elapsed:   48.7s remaining:   57.2s\n",
      "[Parallel(n_jobs=-1)]: Done  29 out of  50 | elapsed:  1.0min remaining:   43.4s\n",
      "[Parallel(n_jobs=-1)]: Done  35 out of  50 | elapsed:  1.1min remaining:   27.1s\n",
      "[Parallel(n_jobs=-1)]: Done  41 out of  50 | elapsed:  1.2min remaining:   15.9s\n",
      "[Parallel(n_jobs=-1)]: Done  47 out of  50 | elapsed:  1.3min remaining:    5.0s\n",
      "[Parallel(n_jobs=-1)]: Done  50 out of  50 | elapsed:  1.3min finished\n"
     ]
    },
    {
     "name": "stdout",
     "output_type": "stream",
     "text": [
      "Plot saved to f:\\Third-year\\Third-year project\\quantum_repeaters_testing\\new_result1\\class_0\\TOP_43_HIBERNIAGLOBAL\\result_for_[40, 23, 18, 31, 43]\n"
     ]
    },
    {
     "name": "stderr",
     "output_type": "stream",
     "text": [
      "  Processing combinations:  44%|████▍     | 44/100 [50:57<1:26:00, 92.16s/combo][Parallel(n_jobs=-1)]: Using backend LokyBackend with 20 concurrent workers.\n",
      "[Parallel(n_jobs=-1)]: Done   1 tasks      | elapsed:   36.7s\n",
      "[Parallel(n_jobs=-1)]: Done  10 tasks      | elapsed:   54.5s\n",
      "[Parallel(n_jobs=-1)]: Done  17 out of  50 | elapsed:   58.7s remaining:  1.9min\n",
      "[Parallel(n_jobs=-1)]: Done  23 out of  50 | elapsed:  1.5min remaining:  1.8min\n",
      "[Parallel(n_jobs=-1)]: Done  29 out of  50 | elapsed:  1.7min remaining:  1.2min\n",
      "[Parallel(n_jobs=-1)]: Done  35 out of  50 | elapsed:  1.7min remaining:   43.5s\n",
      "[Parallel(n_jobs=-1)]: Done  41 out of  50 | elapsed:  1.9min remaining:   25.4s\n",
      "[Parallel(n_jobs=-1)]: Done  47 out of  50 | elapsed:  2.0min remaining:    7.4s\n",
      "[Parallel(n_jobs=-1)]: Done  50 out of  50 | elapsed:  2.0min finished\n"
     ]
    },
    {
     "name": "stdout",
     "output_type": "stream",
     "text": [
      "Plot saved to f:\\Third-year\\Third-year project\\quantum_repeaters_testing\\new_result1\\class_0\\TOP_43_HIBERNIAGLOBAL\\result_for_[40, 21, 29, 1, 36]\n"
     ]
    },
    {
     "name": "stderr",
     "output_type": "stream",
     "text": [
      "  Processing combinations:  45%|████▌     | 45/100 [52:59<1:32:39, 101.08s/combo][Parallel(n_jobs=-1)]: Using backend LokyBackend with 20 concurrent workers.\n",
      "[Parallel(n_jobs=-1)]: Done   1 tasks      | elapsed:   38.5s\n",
      "[Parallel(n_jobs=-1)]: Done  10 tasks      | elapsed:   51.0s\n",
      "[Parallel(n_jobs=-1)]: Done  17 out of  50 | elapsed:   57.2s remaining:  1.9min\n",
      "[Parallel(n_jobs=-1)]: Done  23 out of  50 | elapsed:  1.4min remaining:  1.6min\n",
      "[Parallel(n_jobs=-1)]: Done  29 out of  50 | elapsed:  1.6min remaining:  1.2min\n",
      "[Parallel(n_jobs=-1)]: Done  35 out of  50 | elapsed:  1.7min remaining:   42.7s\n",
      "[Parallel(n_jobs=-1)]: Done  41 out of  50 | elapsed:  1.7min remaining:   22.2s\n",
      "[Parallel(n_jobs=-1)]: Done  47 out of  50 | elapsed:  1.9min remaining:    7.1s\n",
      "[Parallel(n_jobs=-1)]: Done  50 out of  50 | elapsed:  1.9min finished\n"
     ]
    },
    {
     "name": "stdout",
     "output_type": "stream",
     "text": [
      "Plot saved to f:\\Third-year\\Third-year project\\quantum_repeaters_testing\\new_result1\\class_0\\TOP_43_HIBERNIAGLOBAL\\result_for_[40, 14, 13, 53, 41]\n"
     ]
    },
    {
     "name": "stderr",
     "output_type": "stream",
     "text": [
      "  Processing combinations:  46%|████▌     | 46/100 [54:55<1:35:05, 105.65s/combo][Parallel(n_jobs=-1)]: Using backend LokyBackend with 20 concurrent workers.\n",
      "[Parallel(n_jobs=-1)]: Done   1 tasks      | elapsed:   16.1s\n",
      "[Parallel(n_jobs=-1)]: Done  10 tasks      | elapsed:   18.0s\n",
      "[Parallel(n_jobs=-1)]: Done  17 out of  50 | elapsed:   23.5s remaining:   45.8s\n",
      "[Parallel(n_jobs=-1)]: Done  23 out of  50 | elapsed:   40.6s remaining:   47.6s\n",
      "[Parallel(n_jobs=-1)]: Done  29 out of  50 | elapsed:   43.0s remaining:   31.1s\n",
      "[Parallel(n_jobs=-1)]: Done  35 out of  50 | elapsed:   44.8s remaining:   19.1s\n",
      "[Parallel(n_jobs=-1)]: Done  41 out of  50 | elapsed:   54.9s remaining:   12.0s\n",
      "[Parallel(n_jobs=-1)]: Done  47 out of  50 | elapsed:   56.5s remaining:    3.5s\n",
      "[Parallel(n_jobs=-1)]: Done  50 out of  50 | elapsed:   56.8s finished\n"
     ]
    },
    {
     "name": "stdout",
     "output_type": "stream",
     "text": [
      "Plot saved to f:\\Third-year\\Third-year project\\quantum_repeaters_testing\\new_result1\\class_0\\TOP_43_HIBERNIAGLOBAL\\result_for_[40, 35, 34, 38, 49]\n"
     ]
    },
    {
     "name": "stderr",
     "output_type": "stream",
     "text": [
      "  Processing combinations:  47%|████▋     | 47/100 [55:55<1:21:12, 91.93s/combo] [Parallel(n_jobs=-1)]: Using backend LokyBackend with 20 concurrent workers.\n",
      "[Parallel(n_jobs=-1)]: Done   1 tasks      | elapsed:   35.6s\n",
      "[Parallel(n_jobs=-1)]: Done  10 tasks      | elapsed:   37.2s\n",
      "[Parallel(n_jobs=-1)]: Done  17 out of  50 | elapsed:   42.0s remaining:  1.4min\n",
      "[Parallel(n_jobs=-1)]: Done  23 out of  50 | elapsed:  1.3min remaining:  1.6min\n",
      "[Parallel(n_jobs=-1)]: Done  29 out of  50 | elapsed:  1.4min remaining:   59.6s\n",
      "[Parallel(n_jobs=-1)]: Done  35 out of  50 | elapsed:  1.4min remaining:   36.3s\n",
      "[Parallel(n_jobs=-1)]: Done  41 out of  50 | elapsed:  1.5min remaining:   20.2s\n",
      "[Parallel(n_jobs=-1)]: Done  47 out of  50 | elapsed:  1.7min remaining:    6.4s\n",
      "[Parallel(n_jobs=-1)]: Done  50 out of  50 | elapsed:  1.7min finished\n"
     ]
    },
    {
     "name": "stdout",
     "output_type": "stream",
     "text": [
      "Plot saved to f:\\Third-year\\Third-year project\\quantum_repeaters_testing\\new_result1\\class_0\\TOP_43_HIBERNIAGLOBAL\\result_for_[40, 21, 27, 3, 43]\n"
     ]
    },
    {
     "name": "stderr",
     "output_type": "stream",
     "text": [
      "  Processing combinations:  48%|████▊     | 48/100 [57:40<1:23:03, 95.83s/combo][Parallel(n_jobs=-1)]: Using backend LokyBackend with 20 concurrent workers.\n",
      "[Parallel(n_jobs=-1)]: Done   1 tasks      | elapsed:   25.5s\n",
      "[Parallel(n_jobs=-1)]: Done  10 tasks      | elapsed:   52.0s\n",
      "[Parallel(n_jobs=-1)]: Done  17 out of  50 | elapsed:   55.8s remaining:  1.8min\n",
      "[Parallel(n_jobs=-1)]: Done  23 out of  50 | elapsed:  1.4min remaining:  1.7min\n",
      "[Parallel(n_jobs=-1)]: Done  29 out of  50 | elapsed:  1.6min remaining:  1.1min\n",
      "[Parallel(n_jobs=-1)]: Done  35 out of  50 | elapsed:  1.7min remaining:   44.1s\n",
      "[Parallel(n_jobs=-1)]: Done  41 out of  50 | elapsed:  1.8min remaining:   23.7s\n",
      "[Parallel(n_jobs=-1)]: Done  47 out of  50 | elapsed:  1.9min remaining:    7.2s\n",
      "[Parallel(n_jobs=-1)]: Done  50 out of  50 | elapsed:  1.9min finished\n"
     ]
    },
    {
     "name": "stdout",
     "output_type": "stream",
     "text": [
      "Plot saved to f:\\Third-year\\Third-year project\\quantum_repeaters_testing\\new_result1\\class_0\\TOP_43_HIBERNIAGLOBAL\\result_for_[40, 26, 29, 8, 42]\n"
     ]
    },
    {
     "name": "stderr",
     "output_type": "stream",
     "text": [
      "  Processing combinations:  49%|████▉     | 49/100 [59:41<1:27:43, 103.20s/combo][Parallel(n_jobs=-1)]: Using backend LokyBackend with 20 concurrent workers.\n",
      "[Parallel(n_jobs=-1)]: Done   1 tasks      | elapsed:   16.5s\n",
      "[Parallel(n_jobs=-1)]: Done  10 tasks      | elapsed:   23.1s\n",
      "[Parallel(n_jobs=-1)]: Done  17 out of  50 | elapsed:   38.4s remaining:  1.2min\n",
      "[Parallel(n_jobs=-1)]: Done  23 out of  50 | elapsed:  1.1min remaining:  1.3min\n",
      "[Parallel(n_jobs=-1)]: Done  29 out of  50 | elapsed:  1.2min remaining:   50.9s\n",
      "[Parallel(n_jobs=-1)]: Done  35 out of  50 | elapsed:  1.2min remaining:   31.4s\n",
      "[Parallel(n_jobs=-1)]: Done  41 out of  50 | elapsed:  1.4min remaining:   17.9s\n",
      "[Parallel(n_jobs=-1)]: Done  47 out of  50 | elapsed:  1.5min remaining:    5.7s\n",
      "[Parallel(n_jobs=-1)]: Done  50 out of  50 | elapsed:  1.5min finished\n"
     ]
    },
    {
     "name": "stdout",
     "output_type": "stream",
     "text": [
      "Plot saved to f:\\Third-year\\Third-year project\\quantum_repeaters_testing\\new_result1\\class_0\\TOP_43_HIBERNIAGLOBAL\\result_for_[40, 35, 27, 10, 43]\n"
     ]
    },
    {
     "name": "stderr",
     "output_type": "stream",
     "text": [
      "  Processing combinations:  50%|█████     | 50/100 [1:01:15<1:23:45, 100.52s/combo][Parallel(n_jobs=-1)]: Using backend LokyBackend with 20 concurrent workers.\n",
      "[Parallel(n_jobs=-1)]: Done   1 tasks      | elapsed:   47.2s\n",
      "[Parallel(n_jobs=-1)]: Done  10 tasks      | elapsed:   51.5s\n",
      "[Parallel(n_jobs=-1)]: Done  17 out of  50 | elapsed:   56.8s remaining:  1.8min\n",
      "[Parallel(n_jobs=-1)]: Done  23 out of  50 | elapsed:  1.5min remaining:  1.8min\n",
      "[Parallel(n_jobs=-1)]: Done  29 out of  50 | elapsed:  1.6min remaining:  1.2min\n",
      "[Parallel(n_jobs=-1)]: Done  35 out of  50 | elapsed:  1.6min remaining:   41.8s\n",
      "[Parallel(n_jobs=-1)]: Done  41 out of  50 | elapsed:  1.8min remaining:   23.4s\n",
      "[Parallel(n_jobs=-1)]: Done  47 out of  50 | elapsed:  1.8min remaining:    6.9s\n",
      "[Parallel(n_jobs=-1)]: Done  50 out of  50 | elapsed:  1.8min finished\n"
     ]
    },
    {
     "name": "stdout",
     "output_type": "stream",
     "text": [
      "Plot saved to f:\\Third-year\\Third-year project\\quantum_repeaters_testing\\new_result1\\class_0\\TOP_43_HIBERNIAGLOBAL\\result_for_[40, 14, 27, 9, 36]\n"
     ]
    },
    {
     "name": "stderr",
     "output_type": "stream",
     "text": [
      "  Processing combinations:  51%|█████     | 51/100 [1:03:08<1:25:05, 104.19s/combo][Parallel(n_jobs=-1)]: Using backend LokyBackend with 20 concurrent workers.\n",
      "[Parallel(n_jobs=-1)]: Done   1 tasks      | elapsed:   34.4s\n",
      "[Parallel(n_jobs=-1)]: Done  10 tasks      | elapsed:   55.1s\n",
      "[Parallel(n_jobs=-1)]: Done  17 out of  50 | elapsed:  1.0min remaining:  2.0min\n",
      "[Parallel(n_jobs=-1)]: Done  23 out of  50 | elapsed:  1.4min remaining:  1.6min\n",
      "[Parallel(n_jobs=-1)]: Done  29 out of  50 | elapsed:  1.7min remaining:  1.2min\n",
      "[Parallel(n_jobs=-1)]: Done  35 out of  50 | elapsed:  1.7min remaining:   44.8s\n",
      "[Parallel(n_jobs=-1)]: Done  41 out of  50 | elapsed:  1.8min remaining:   23.8s\n",
      "[Parallel(n_jobs=-1)]: Done  47 out of  50 | elapsed:  2.0min remaining:    7.4s\n",
      "[Parallel(n_jobs=-1)]: Done  50 out of  50 | elapsed:  2.0min finished\n",
      "  Processing combinations:  52%|█████▏    | 52/100 [1:05:09<1:27:34, 109.47s/combo]"
     ]
    },
    {
     "name": "stdout",
     "output_type": "stream",
     "text": [
      "Plot saved to f:\\Third-year\\Third-year project\\quantum_repeaters_testing\\new_result1\\class_0\\TOP_43_HIBERNIAGLOBAL\\result_for_[40, 22, 13, 38, 49]\n"
     ]
    },
    {
     "name": "stderr",
     "output_type": "stream",
     "text": [
      "[Parallel(n_jobs=-1)]: Using backend LokyBackend with 20 concurrent workers.\n",
      "[Parallel(n_jobs=-1)]: Done   1 tasks      | elapsed:   25.6s\n",
      "[Parallel(n_jobs=-1)]: Done  10 tasks      | elapsed:   51.3s\n",
      "[Parallel(n_jobs=-1)]: Done  17 out of  50 | elapsed:   53.8s remaining:  1.7min\n",
      "[Parallel(n_jobs=-1)]: Done  23 out of  50 | elapsed:  1.4min remaining:  1.6min\n",
      "[Parallel(n_jobs=-1)]: Done  29 out of  50 | elapsed:  1.5min remaining:  1.1min\n",
      "[Parallel(n_jobs=-1)]: Done  35 out of  50 | elapsed:  1.6min remaining:   40.3s\n",
      "[Parallel(n_jobs=-1)]: Done  41 out of  50 | elapsed:  1.7min remaining:   22.8s\n",
      "[Parallel(n_jobs=-1)]: Done  47 out of  50 | elapsed:  1.8min remaining:    6.8s\n",
      "[Parallel(n_jobs=-1)]: Done  50 out of  50 | elapsed:  1.8min finished\n",
      "  Processing combinations:  53%|█████▎    | 53/100 [1:06:59<1:25:49, 109.57s/combo]"
     ]
    },
    {
     "name": "stdout",
     "output_type": "stream",
     "text": [
      "Plot saved to f:\\Third-year\\Third-year project\\quantum_repeaters_testing\\new_result1\\class_0\\TOP_43_HIBERNIAGLOBAL\\result_for_[40, 16, 17, 31, 43]\n"
     ]
    },
    {
     "name": "stderr",
     "output_type": "stream",
     "text": [
      "[Parallel(n_jobs=-1)]: Using backend LokyBackend with 20 concurrent workers.\n",
      "[Parallel(n_jobs=-1)]: Done   1 tasks      | elapsed:   13.9s\n",
      "[Parallel(n_jobs=-1)]: Done  10 tasks      | elapsed:   20.4s\n",
      "[Parallel(n_jobs=-1)]: Done  17 out of  50 | elapsed:   31.4s remaining:  1.0min\n",
      "[Parallel(n_jobs=-1)]: Done  23 out of  50 | elapsed:  1.0min remaining:  1.2min\n",
      "[Parallel(n_jobs=-1)]: Done  29 out of  50 | elapsed:  1.1min remaining:   45.7s\n",
      "[Parallel(n_jobs=-1)]: Done  35 out of  50 | elapsed:  1.2min remaining:   30.1s\n",
      "[Parallel(n_jobs=-1)]: Done  41 out of  50 | elapsed:  1.3min remaining:   17.4s\n",
      "[Parallel(n_jobs=-1)]: Done  47 out of  50 | elapsed:  1.4min remaining:    5.4s\n",
      "[Parallel(n_jobs=-1)]: Done  50 out of  50 | elapsed:  1.4min finished\n"
     ]
    },
    {
     "name": "stdout",
     "output_type": "stream",
     "text": [
      "Plot saved to f:\\Third-year\\Third-year project\\quantum_repeaters_testing\\new_result1\\class_0\\TOP_43_HIBERNIAGLOBAL\\result_for_[40, 23, 29, 47, 42]\n"
     ]
    },
    {
     "name": "stderr",
     "output_type": "stream",
     "text": [
      "  Processing combinations:  54%|█████▍    | 54/100 [1:08:29<1:19:27, 103.64s/combo][Parallel(n_jobs=-1)]: Using backend LokyBackend with 20 concurrent workers.\n",
      "[Parallel(n_jobs=-1)]: Done   1 tasks      | elapsed:   31.6s\n",
      "[Parallel(n_jobs=-1)]: Done  10 tasks      | elapsed:   58.4s\n",
      "[Parallel(n_jobs=-1)]: Done  17 out of  50 | elapsed:   59.2s remaining:  1.9min\n",
      "[Parallel(n_jobs=-1)]: Done  23 out of  50 | elapsed:  1.4min remaining:  1.7min\n",
      "[Parallel(n_jobs=-1)]: Done  29 out of  50 | elapsed:  1.6min remaining:  1.2min\n",
      "[Parallel(n_jobs=-1)]: Done  35 out of  50 | elapsed:  1.7min remaining:   42.9s\n",
      "[Parallel(n_jobs=-1)]: Done  41 out of  50 | elapsed:  1.7min remaining:   22.8s\n",
      "[Parallel(n_jobs=-1)]: Done  47 out of  50 | elapsed:  1.9min remaining:    7.1s\n",
      "[Parallel(n_jobs=-1)]: Done  50 out of  50 | elapsed:  1.9min finished\n",
      "  Processing combinations:  55%|█████▌    | 55/100 [1:10:27<1:20:57, 107.94s/combo]"
     ]
    },
    {
     "name": "stdout",
     "output_type": "stream",
     "text": [
      "Plot saved to f:\\Third-year\\Third-year project\\quantum_repeaters_testing\\new_result1\\class_0\\TOP_43_HIBERNIAGLOBAL\\result_for_[40, 16, 29, 48, 43]\n"
     ]
    },
    {
     "name": "stderr",
     "output_type": "stream",
     "text": [
      "[Parallel(n_jobs=-1)]: Using backend LokyBackend with 20 concurrent workers.\n",
      "[Parallel(n_jobs=-1)]: Done   1 tasks      | elapsed:   29.4s\n",
      "[Parallel(n_jobs=-1)]: Done  10 tasks      | elapsed:   57.7s\n",
      "[Parallel(n_jobs=-1)]: Done  17 out of  50 | elapsed:  1.0min remaining:  2.0min\n",
      "[Parallel(n_jobs=-1)]: Done  23 out of  50 | elapsed:  1.5min remaining:  1.7min\n",
      "[Parallel(n_jobs=-1)]: Done  29 out of  50 | elapsed:  1.7min remaining:  1.2min\n",
      "[Parallel(n_jobs=-1)]: Done  35 out of  50 | elapsed:  1.8min remaining:   45.6s\n",
      "[Parallel(n_jobs=-1)]: Done  41 out of  50 | elapsed:  1.8min remaining:   23.7s\n",
      "[Parallel(n_jobs=-1)]: Done  47 out of  50 | elapsed:  2.0min remaining:    7.5s\n",
      "[Parallel(n_jobs=-1)]: Done  50 out of  50 | elapsed:  2.0min finished\n",
      "  Processing combinations:  56%|█████▌    | 56/100 [1:12:27<1:21:55, 111.72s/combo]"
     ]
    },
    {
     "name": "stdout",
     "output_type": "stream",
     "text": [
      "Plot saved to f:\\Third-year\\Third-year project\\quantum_repeaters_testing\\new_result1\\class_0\\TOP_43_HIBERNIAGLOBAL\\result_for_[40, 14, 13, 7, 41]\n"
     ]
    },
    {
     "name": "stderr",
     "output_type": "stream",
     "text": [
      "[Parallel(n_jobs=-1)]: Using backend LokyBackend with 20 concurrent workers.\n",
      "[Parallel(n_jobs=-1)]: Done   1 tasks      | elapsed:   16.5s\n",
      "[Parallel(n_jobs=-1)]: Done  10 tasks      | elapsed:   21.9s\n",
      "[Parallel(n_jobs=-1)]: Done  17 out of  50 | elapsed:   34.4s remaining:  1.1min\n",
      "[Parallel(n_jobs=-1)]: Done  23 out of  50 | elapsed:  1.1min remaining:  1.3min\n",
      "[Parallel(n_jobs=-1)]: Done  29 out of  50 | elapsed:  1.1min remaining:   47.7s\n",
      "[Parallel(n_jobs=-1)]: Done  35 out of  50 | elapsed:  1.2min remaining:   30.8s\n",
      "[Parallel(n_jobs=-1)]: Done  41 out of  50 | elapsed:  1.3min remaining:   17.4s\n",
      "[Parallel(n_jobs=-1)]: Done  47 out of  50 | elapsed:  1.5min remaining:    5.5s\n",
      "[Parallel(n_jobs=-1)]: Done  50 out of  50 | elapsed:  1.5min finished\n"
     ]
    },
    {
     "name": "stdout",
     "output_type": "stream",
     "text": [
      "Plot saved to f:\\Third-year\\Third-year project\\quantum_repeaters_testing\\new_result1\\class_0\\TOP_43_HIBERNIAGLOBAL\\result_for_[40, 26, 15, 11, 41]\n"
     ]
    },
    {
     "name": "stderr",
     "output_type": "stream",
     "text": [
      "  Processing combinations:  57%|█████▋    | 57/100 [1:13:59<1:15:37, 105.51s/combo][Parallel(n_jobs=-1)]: Using backend LokyBackend with 20 concurrent workers.\n",
      "[Parallel(n_jobs=-1)]: Done   1 tasks      | elapsed:   39.4s\n",
      "[Parallel(n_jobs=-1)]: Done  10 tasks      | elapsed:   52.9s\n",
      "[Parallel(n_jobs=-1)]: Done  17 out of  50 | elapsed:   59.0s remaining:  1.9min\n",
      "[Parallel(n_jobs=-1)]: Done  23 out of  50 | elapsed:  1.5min remaining:  1.8min\n",
      "[Parallel(n_jobs=-1)]: Done  29 out of  50 | elapsed:  1.7min remaining:  1.2min\n",
      "[Parallel(n_jobs=-1)]: Done  35 out of  50 | elapsed:  1.7min remaining:   43.8s\n",
      "[Parallel(n_jobs=-1)]: Done  41 out of  50 | elapsed:  1.9min remaining:   24.8s\n",
      "[Parallel(n_jobs=-1)]: Done  47 out of  50 | elapsed:  2.0min remaining:    7.4s\n",
      "[Parallel(n_jobs=-1)]: Done  50 out of  50 | elapsed:  2.0min finished\n"
     ]
    },
    {
     "name": "stdout",
     "output_type": "stream",
     "text": [
      "Plot saved to f:\\Third-year\\Third-year project\\quantum_repeaters_testing\\new_result1\\class_0\\TOP_43_HIBERNIAGLOBAL\\result_for_[40, 22, 17, 45, 36]\n"
     ]
    },
    {
     "name": "stderr",
     "output_type": "stream",
     "text": [
      "  Processing combinations:  58%|█████▊    | 58/100 [1:15:59<1:17:03, 110.08s/combo][Parallel(n_jobs=-1)]: Using backend LokyBackend with 20 concurrent workers.\n",
      "[Parallel(n_jobs=-1)]: Done   1 tasks      | elapsed:   38.0s\n",
      "[Parallel(n_jobs=-1)]: Done  10 tasks      | elapsed:   52.4s\n",
      "[Parallel(n_jobs=-1)]: Done  17 out of  50 | elapsed:   57.1s remaining:  1.9min\n",
      "[Parallel(n_jobs=-1)]: Done  23 out of  50 | elapsed:  1.5min remaining:  1.8min\n",
      "[Parallel(n_jobs=-1)]: Done  29 out of  50 | elapsed:  1.6min remaining:  1.2min\n",
      "[Parallel(n_jobs=-1)]: Done  35 out of  50 | elapsed:  1.6min remaining:   41.8s\n",
      "[Parallel(n_jobs=-1)]: Done  41 out of  50 | elapsed:  1.9min remaining:   24.3s\n",
      "[Parallel(n_jobs=-1)]: Done  47 out of  50 | elapsed:  1.9min remaining:    7.3s\n",
      "[Parallel(n_jobs=-1)]: Done  50 out of  50 | elapsed:  1.9min finished\n"
     ]
    },
    {
     "name": "stdout",
     "output_type": "stream",
     "text": [
      "Plot saved to f:\\Third-year\\Third-year project\\quantum_repeaters_testing\\new_result1\\class_0\\TOP_43_HIBERNIAGLOBAL\\result_for_[40, 16, 20, 46, 49]\n"
     ]
    },
    {
     "name": "stderr",
     "output_type": "stream",
     "text": [
      "  Processing combinations:  59%|█████▉    | 59/100 [1:17:57<1:16:49, 112.44s/combo][Parallel(n_jobs=-1)]: Using backend LokyBackend with 20 concurrent workers.\n",
      "[Parallel(n_jobs=-1)]: Done   1 tasks      | elapsed:   11.2s\n",
      "[Parallel(n_jobs=-1)]: Done  10 tasks      | elapsed:   16.3s\n",
      "[Parallel(n_jobs=-1)]: Done  17 out of  50 | elapsed:   18.6s remaining:   36.2s\n",
      "[Parallel(n_jobs=-1)]: Done  23 out of  50 | elapsed:   40.2s remaining:   47.2s\n",
      "[Parallel(n_jobs=-1)]: Done  29 out of  50 | elapsed:   49.4s remaining:   35.8s\n",
      "[Parallel(n_jobs=-1)]: Done  35 out of  50 | elapsed:   57.6s remaining:   24.6s\n",
      "[Parallel(n_jobs=-1)]: Done  41 out of  50 | elapsed:  1.0min remaining:   13.3s\n",
      "[Parallel(n_jobs=-1)]: Done  47 out of  50 | elapsed:  1.1min remaining:    4.3s\n",
      "[Parallel(n_jobs=-1)]: Done  50 out of  50 | elapsed:  1.2min finished\n"
     ]
    },
    {
     "name": "stdout",
     "output_type": "stream",
     "text": [
      "Plot saved to f:\\Third-year\\Third-year project\\quantum_repeaters_testing\\new_result1\\class_0\\TOP_43_HIBERNIAGLOBAL\\result_for_[40, 23, 15, 50, 43]\n"
     ]
    },
    {
     "name": "stderr",
     "output_type": "stream",
     "text": [
      "  Processing combinations:  60%|██████    | 60/100 [1:19:11<1:07:08, 100.71s/combo][Parallel(n_jobs=-1)]: Using backend LokyBackend with 20 concurrent workers.\n",
      "[Parallel(n_jobs=-1)]: Done   1 tasks      | elapsed:   17.0s\n",
      "[Parallel(n_jobs=-1)]: Done  10 tasks      | elapsed:   21.0s\n",
      "[Parallel(n_jobs=-1)]: Done  17 out of  50 | elapsed:   33.5s remaining:  1.1min\n",
      "[Parallel(n_jobs=-1)]: Done  23 out of  50 | elapsed:   59.8s remaining:  1.2min\n",
      "[Parallel(n_jobs=-1)]: Done  29 out of  50 | elapsed:  1.1min remaining:   46.6s\n",
      "[Parallel(n_jobs=-1)]: Done  35 out of  50 | elapsed:  1.2min remaining:   30.3s\n",
      "[Parallel(n_jobs=-1)]: Done  41 out of  50 | elapsed:  1.4min remaining:   17.9s\n",
      "[Parallel(n_jobs=-1)]: Done  47 out of  50 | elapsed:  1.4min remaining:    5.3s\n",
      "[Parallel(n_jobs=-1)]: Done  50 out of  50 | elapsed:  1.4min finished\n"
     ]
    },
    {
     "name": "stdout",
     "output_type": "stream",
     "text": [
      "Plot saved to f:\\Third-year\\Third-year project\\quantum_repeaters_testing\\new_result1\\class_0\\TOP_43_HIBERNIAGLOBAL\\result_for_[40, 19, 34, 38, 49]\n"
     ]
    },
    {
     "name": "stderr",
     "output_type": "stream",
     "text": [
      "  Processing combinations:  61%|██████    | 61/100 [1:20:39<1:03:01, 96.97s/combo] [Parallel(n_jobs=-1)]: Using backend LokyBackend with 20 concurrent workers.\n",
      "[Parallel(n_jobs=-1)]: Done   1 tasks      | elapsed:   44.1s\n",
      "[Parallel(n_jobs=-1)]: Done  10 tasks      | elapsed:   49.8s\n",
      "[Parallel(n_jobs=-1)]: Done  17 out of  50 | elapsed:   54.2s remaining:  1.8min\n",
      "[Parallel(n_jobs=-1)]: Done  23 out of  50 | elapsed:  1.5min remaining:  1.7min\n",
      "[Parallel(n_jobs=-1)]: Done  29 out of  50 | elapsed:  1.5min remaining:  1.1min\n",
      "[Parallel(n_jobs=-1)]: Done  35 out of  50 | elapsed:  1.5min remaining:   39.6s\n",
      "[Parallel(n_jobs=-1)]: Done  41 out of  50 | elapsed:  1.8min remaining:   23.0s\n",
      "[Parallel(n_jobs=-1)]: Done  47 out of  50 | elapsed:  1.8min remaining:    6.9s\n",
      "[Parallel(n_jobs=-1)]: Done  50 out of  50 | elapsed:  1.8min finished\n",
      "  Processing combinations:  62%|██████▏   | 62/100 [1:22:30<1:04:12, 101.38s/combo]"
     ]
    },
    {
     "name": "stdout",
     "output_type": "stream",
     "text": [
      "Plot saved to f:\\Third-year\\Third-year project\\quantum_repeaters_testing\\new_result1\\class_0\\TOP_43_HIBERNIAGLOBAL\\result_for_[40, 16, 17, 28, 49]\n"
     ]
    },
    {
     "name": "stderr",
     "output_type": "stream",
     "text": [
      "[Parallel(n_jobs=-1)]: Using backend LokyBackend with 20 concurrent workers.\n",
      "[Parallel(n_jobs=-1)]: Done   1 tasks      | elapsed:   12.6s\n",
      "[Parallel(n_jobs=-1)]: Done  10 tasks      | elapsed:   17.6s\n",
      "[Parallel(n_jobs=-1)]: Done  17 out of  50 | elapsed:   20.2s remaining:   39.4s\n",
      "[Parallel(n_jobs=-1)]: Done  23 out of  50 | elapsed:   43.9s remaining:   51.6s\n",
      "[Parallel(n_jobs=-1)]: Done  29 out of  50 | elapsed:   55.6s remaining:   40.2s\n",
      "[Parallel(n_jobs=-1)]: Done  35 out of  50 | elapsed:   57.7s remaining:   24.7s\n",
      "[Parallel(n_jobs=-1)]: Done  41 out of  50 | elapsed:  1.2min remaining:   15.3s\n",
      "[Parallel(n_jobs=-1)]: Done  47 out of  50 | elapsed:  1.2min remaining:    4.6s\n",
      "[Parallel(n_jobs=-1)]: Done  50 out of  50 | elapsed:  1.3min finished\n",
      "  Processing combinations:  63%|██████▎   | 63/100 [1:23:49<58:17, 94.54s/combo]   "
     ]
    },
    {
     "name": "stdout",
     "output_type": "stream",
     "text": [
      "Plot saved to f:\\Third-year\\Third-year project\\quantum_repeaters_testing\\new_result1\\class_0\\TOP_43_HIBERNIAGLOBAL\\result_for_[40, 16, 15, 38, 36]\n"
     ]
    },
    {
     "name": "stderr",
     "output_type": "stream",
     "text": [
      "[Parallel(n_jobs=-1)]: Using backend LokyBackend with 20 concurrent workers.\n",
      "[Parallel(n_jobs=-1)]: Done   1 tasks      | elapsed:   38.3s\n",
      "[Parallel(n_jobs=-1)]: Done  10 tasks      | elapsed:  1.0min\n",
      "[Parallel(n_jobs=-1)]: Done  17 out of  50 | elapsed:  1.0min remaining:  2.0min\n",
      "[Parallel(n_jobs=-1)]: Done  23 out of  50 | elapsed:  1.6min remaining:  1.8min\n",
      "[Parallel(n_jobs=-1)]: Done  29 out of  50 | elapsed:  1.7min remaining:  1.3min\n",
      "[Parallel(n_jobs=-1)]: Done  35 out of  50 | elapsed:  1.8min remaining:   45.9s\n",
      "[Parallel(n_jobs=-1)]: Done  41 out of  50 | elapsed:  1.9min remaining:   25.1s\n",
      "[Parallel(n_jobs=-1)]: Done  47 out of  50 | elapsed:  2.0min remaining:    7.6s\n",
      "[Parallel(n_jobs=-1)]: Done  50 out of  50 | elapsed:  2.0min finished\n",
      "  Processing combinations:  64%|██████▍   | 64/100 [1:25:55<1:02:22, 103.95s/combo]"
     ]
    },
    {
     "name": "stdout",
     "output_type": "stream",
     "text": [
      "Plot saved to f:\\Third-year\\Third-year project\\quantum_repeaters_testing\\new_result1\\class_0\\TOP_43_HIBERNIAGLOBAL\\result_for_[40, 19, 27, 44, 36]\n"
     ]
    },
    {
     "name": "stderr",
     "output_type": "stream",
     "text": [
      "[Parallel(n_jobs=-1)]: Using backend LokyBackend with 20 concurrent workers.\n",
      "[Parallel(n_jobs=-1)]: Done   1 tasks      | elapsed:   30.4s\n",
      "[Parallel(n_jobs=-1)]: Done  10 tasks      | elapsed:   58.4s\n",
      "[Parallel(n_jobs=-1)]: Done  17 out of  50 | elapsed:  1.1min remaining:  2.1min\n",
      "  Processing combinations:  64%|██████▍   | 64/100 [1:27:51<49:25, 82.37s/combo]   \n"
     ]
    },
    {
     "ename": "KeyboardInterrupt",
     "evalue": "",
     "output_type": "error",
     "traceback": [
      "\u001b[1;31m---------------------------------------------------------------------------\u001b[0m",
      "\u001b[1;31mKeyboardInterrupt\u001b[0m                         Traceback (most recent call last)",
      "Cell \u001b[1;32mIn[7], line 101\u001b[0m\n\u001b[0;32m     99\u001b[0m \u001b[38;5;66;03m# 计算 ER\u001b[39;00m\n\u001b[0;32m    100\u001b[0m ER \u001b[38;5;241m=\u001b[39m np\u001b[38;5;241m.\u001b[39mzeros((\u001b[38;5;28mlen\u001b[39m(funcs), \u001b[38;5;28mlen\u001b[39m(p_range)))\n\u001b[1;32m--> 101\u001b[0m results \u001b[38;5;241m=\u001b[39m Parallel(n_jobs\u001b[38;5;241m=\u001b[39m\u001b[38;5;241m-\u001b[39m\u001b[38;5;241m1\u001b[39m, verbose\u001b[38;5;241m=\u001b[39m\u001b[38;5;241m10\u001b[39m)(\n\u001b[0;32m    102\u001b[0m     delayed(process_single_p)(G, combo, p, funcs, timesteps, reps)\n\u001b[0;32m    103\u001b[0m     \u001b[38;5;28;01mfor\u001b[39;00m p \u001b[38;5;129;01min\u001b[39;00m p_range\n\u001b[0;32m    104\u001b[0m )\n\u001b[0;32m    106\u001b[0m \u001b[38;5;66;03m# 将结果填充到 ER 矩阵\u001b[39;00m\n\u001b[0;32m    107\u001b[0m \u001b[38;5;28;01mfor\u001b[39;00m i, p_ers \u001b[38;5;129;01min\u001b[39;00m \u001b[38;5;28menumerate\u001b[39m(results):\n",
      "File \u001b[1;32md:\\Anaconda\\Lib\\site-packages\\joblib\\parallel.py:2007\u001b[0m, in \u001b[0;36mParallel.__call__\u001b[1;34m(self, iterable)\u001b[0m\n\u001b[0;32m   2001\u001b[0m \u001b[38;5;66;03m# The first item from the output is blank, but it makes the interpreter\u001b[39;00m\n\u001b[0;32m   2002\u001b[0m \u001b[38;5;66;03m# progress until it enters the Try/Except block of the generator and\u001b[39;00m\n\u001b[0;32m   2003\u001b[0m \u001b[38;5;66;03m# reaches the first `yield` statement. This starts the asynchronous\u001b[39;00m\n\u001b[0;32m   2004\u001b[0m \u001b[38;5;66;03m# dispatch of the tasks to the workers.\u001b[39;00m\n\u001b[0;32m   2005\u001b[0m \u001b[38;5;28mnext\u001b[39m(output)\n\u001b[1;32m-> 2007\u001b[0m \u001b[38;5;28;01mreturn\u001b[39;00m output \u001b[38;5;28;01mif\u001b[39;00m \u001b[38;5;28mself\u001b[39m\u001b[38;5;241m.\u001b[39mreturn_generator \u001b[38;5;28;01melse\u001b[39;00m \u001b[38;5;28mlist\u001b[39m(output)\n",
      "File \u001b[1;32md:\\Anaconda\\Lib\\site-packages\\joblib\\parallel.py:1650\u001b[0m, in \u001b[0;36mParallel._get_outputs\u001b[1;34m(self, iterator, pre_dispatch)\u001b[0m\n\u001b[0;32m   1647\u001b[0m     \u001b[38;5;28;01myield\u001b[39;00m\n\u001b[0;32m   1649\u001b[0m     \u001b[38;5;28;01mwith\u001b[39;00m \u001b[38;5;28mself\u001b[39m\u001b[38;5;241m.\u001b[39m_backend\u001b[38;5;241m.\u001b[39mretrieval_context():\n\u001b[1;32m-> 1650\u001b[0m         \u001b[38;5;28;01myield from\u001b[39;00m \u001b[38;5;28mself\u001b[39m\u001b[38;5;241m.\u001b[39m_retrieve()\n\u001b[0;32m   1652\u001b[0m \u001b[38;5;28;01mexcept\u001b[39;00m \u001b[38;5;167;01mGeneratorExit\u001b[39;00m:\n\u001b[0;32m   1653\u001b[0m     \u001b[38;5;66;03m# The generator has been garbage collected before being fully\u001b[39;00m\n\u001b[0;32m   1654\u001b[0m     \u001b[38;5;66;03m# consumed. This aborts the remaining tasks if possible and warn\u001b[39;00m\n\u001b[0;32m   1655\u001b[0m     \u001b[38;5;66;03m# the user if necessary.\u001b[39;00m\n\u001b[0;32m   1656\u001b[0m     \u001b[38;5;28mself\u001b[39m\u001b[38;5;241m.\u001b[39m_exception \u001b[38;5;241m=\u001b[39m \u001b[38;5;28;01mTrue\u001b[39;00m\n",
      "File \u001b[1;32md:\\Anaconda\\Lib\\site-packages\\joblib\\parallel.py:1762\u001b[0m, in \u001b[0;36mParallel._retrieve\u001b[1;34m(self)\u001b[0m\n\u001b[0;32m   1757\u001b[0m \u001b[38;5;66;03m# If the next job is not ready for retrieval yet, we just wait for\u001b[39;00m\n\u001b[0;32m   1758\u001b[0m \u001b[38;5;66;03m# async callbacks to progress.\u001b[39;00m\n\u001b[0;32m   1759\u001b[0m \u001b[38;5;28;01mif\u001b[39;00m ((\u001b[38;5;28mlen\u001b[39m(\u001b[38;5;28mself\u001b[39m\u001b[38;5;241m.\u001b[39m_jobs) \u001b[38;5;241m==\u001b[39m \u001b[38;5;241m0\u001b[39m) \u001b[38;5;129;01mor\u001b[39;00m\n\u001b[0;32m   1760\u001b[0m     (\u001b[38;5;28mself\u001b[39m\u001b[38;5;241m.\u001b[39m_jobs[\u001b[38;5;241m0\u001b[39m]\u001b[38;5;241m.\u001b[39mget_status(\n\u001b[0;32m   1761\u001b[0m         timeout\u001b[38;5;241m=\u001b[39m\u001b[38;5;28mself\u001b[39m\u001b[38;5;241m.\u001b[39mtimeout) \u001b[38;5;241m==\u001b[39m TASK_PENDING)):\n\u001b[1;32m-> 1762\u001b[0m     time\u001b[38;5;241m.\u001b[39msleep(\u001b[38;5;241m0.01\u001b[39m)\n\u001b[0;32m   1763\u001b[0m     \u001b[38;5;28;01mcontinue\u001b[39;00m\n\u001b[0;32m   1765\u001b[0m \u001b[38;5;66;03m# We need to be careful: the job list can be filling up as\u001b[39;00m\n\u001b[0;32m   1766\u001b[0m \u001b[38;5;66;03m# we empty it and Python list are not thread-safe by\u001b[39;00m\n\u001b[0;32m   1767\u001b[0m \u001b[38;5;66;03m# default hence the use of the lock\u001b[39;00m\n",
      "\u001b[1;31mKeyboardInterrupt\u001b[0m: "
     ]
    },
    {
     "ename": "",
     "evalue": "",
     "output_type": "error",
     "traceback": [
      "\u001b[1;31mThe Kernel crashed while executing code in the current cell or a previous cell. \n",
      "\u001b[1;31mPlease review the code in the cell(s) to identify a possible cause of the failure. \n",
      "\u001b[1;31mClick <a href='https://aka.ms/vscodeJupyterKernelCrash'>here</a> for more info. \n",
      "\u001b[1;31mView Jupyter <a href='command:jupyter.viewOutput'>log</a> for further details."
     ]
    }
   ],
   "source": [
    "# ============== 2) 全局参数 ==============\n",
    "funcs = [MPC_protocol, MPG_protocol, SP_protocol]\n",
    "p_range = np.linspace(1, 0.2, 50)\n",
    "\n",
    "timesteps = 100\n",
    "reps = 200\n",
    "alpha = 1.4\n",
    "beta = 0.105\n",
    "max_rounds = 10\n",
    "shuffle_nodes = True\n",
    "\n",
    "sr_results = []  # 每个文件的 SR 结果都会追加到这里\n",
    "\n",
    "# 分段退出：针对“组合”数量\n",
    "chunk_size = 300 \n",
    "state_file = \"loop_state1.pkl\"\n",
    "\n",
    "# ============== 3) 读取/初始化进度 ==============\n",
    "try:\n",
    "    with open(state_file, \"rb\") as f:\n",
    "        progress = pickle.load(f)\n",
    "    print(\"恢复进度：\", progress)\n",
    "except FileNotFoundError:\n",
    "    progress = {\n",
    "        \"subfolder_idx\": 0,   # 当前处理到第几个子文件夹\n",
    "        \"file_idx\": 0,        # 当前子文件夹内处理到第几个文件\n",
    "        \"combo_idx\": 0,       # 当前文件内处理到第几个组合\n",
    "        \"global_combo_count\": 0  # 全局已处理的组合数\n",
    "    }\n",
    "    print(\"未发现进度文件，从头开始。\")\n",
    "\n",
    "# 子文件夹列表  \n",
    "subfolders = [sf for sf in root_path.iterdir() if sf.is_dir()]\n",
    "subfolders.sort()\n",
    "\n",
    "# ============== 4) 主循环 ==============\n",
    "for s_idx in range(progress[\"subfolder_idx\"], len(subfolders)):\n",
    "    subfolder = subfolders[s_idx]\n",
    "    if not subfolder.is_dir():\n",
    "        continue\n",
    "\n",
    "    print(f\"\\nProcessing subfolder: {subfolder} ({s_idx+1}/{len(subfolders)})\")\n",
    "\n",
    "    # 遍历文件\n",
    "    files = [f for f in subfolder.iterdir() if f.is_file()]\n",
    "    files.sort()\n",
    "    for f_idx in range(progress[\"file_idx\"], len(files)):\n",
    "        file = files[f_idx]\n",
    "        if not file.is_file():\n",
    "            continue\n",
    "\n",
    "        print(f\"  Processing file: {file} ({f_idx+1}/{len(files)}) ...\")\n",
    "\n",
    "        # 每个文件：初始化 counters\n",
    "        failure_counts = {func.__name__: 0 for func in funcs}\n",
    "        combination_counter = 0\n",
    "\n",
    "        # 加载图\n",
    "        G, users, pos = load_data(file)\n",
    "        # nx.draw(G, pos, with_labels=True, node_color=\"lightblue\", edge_color=\"gray\")\n",
    "        # plt.close()\n",
    "\n",
    "        G = network(G)\n",
    "\n",
    "        # 输出路径\n",
    "        class_folder = subfolder.name\n",
    "        file_path = file.with_suffix(\".png\")\n",
    "        file_name = file.stem\n",
    "\n",
    "        er_folder_path = Path.cwd().parent.joinpath(\"new_result1\", class_folder)\n",
    "        er_folder_path.mkdir(exist_ok=True)\n",
    "        er_topology_folder_path = er_folder_path.joinpath(file_name)\n",
    "        er_topology_folder_path.mkdir(exist_ok=True)\n",
    "        communities_output_path = Path.cwd().parent.joinpath(\"communitie\", class_folder, file_name)\n",
    "\n",
    "        communities, users_node_combination = multi_iterative_score_partition_with_drawing(\n",
    "            G, users[0], alpha, beta, max_rounds, shuffle_nodes, pos, communities_output_path\n",
    "        )\n",
    "\n",
    "        # 采样组合，这里从所有组合中随机采样 100 个\n",
    "        sampled_combinations = np.random.choice(\n",
    "            len(users_node_combination),\n",
    "            size=min(100, len(users_node_combination)),\n",
    "            replace=False\n",
    "        )\n",
    "\n",
    "        # 用 tqdm 显示处理组合的进度\n",
    "        for sampled_idx, original_idx in enumerate(tqdm(sampled_combinations, desc=\"  Processing combinations\", unit=\"combo\")):\n",
    "            combo = users_node_combination[original_idx]\n",
    "            combination_counter += 1\n",
    "            progress[\"global_combo_count\"] += 1\n",
    "\n",
    "            # =========== 新增：组合详细信息 ===========\n",
    "            combination_sr = {\n",
    "                \"Combination_ID\": f\"combo_{sampled_idx}\",\n",
    "                \"Nodes\": str(combo),  # 将节点列表转为字符串，如 \"[2,5,9]\"\n",
    "            }\n",
    "\n",
    "            # 计算 ER\n",
    "            ER = np.zeros((len(funcs), len(p_range)))\n",
    "            results = Parallel(n_jobs=-1, verbose=10)(\n",
    "                delayed(process_single_p)(G, combo, p, funcs, timesteps, reps)\n",
    "                for p in p_range\n",
    "            )\n",
    "\n",
    "            # 将结果填充到 ER 矩阵\n",
    "            for i, p_ers in enumerate(results):\n",
    "                ER[:, i] = p_ers\n",
    "\n",
    "            plot_er_vs_p(p_range, ER, funcs, cols, er_topology_folder_path.joinpath(f'result_for_{str(combo)}'))\n",
    "\n",
    "            # =========== 计算成功率比例 ===========\n",
    "            for func_idx, func in enumerate(funcs):\n",
    "                protocol_er = ER[func_idx, :]\n",
    "                zero_count = np.sum(protocol_er < 1e-10)\n",
    "                success_ratio = 1 - (zero_count / len(p_range))  # 计算成功率比例\n",
    "                combination_sr[func.__name__] = round(success_ratio, 3)  # 保留3位小数\n",
    "\n",
    "            del results, ER\n",
    "            gc.collect()\n",
    "\n",
    "            # =========== 写入CSV文件 ===========\n",
    "            output_subfolder_csv_path = er_topology_folder_path.joinpath(f\"{file.stem}_sr_details.csv\")\n",
    "\n",
    "            # 定义字段（首次运行时写入表头）\n",
    "            fieldnames = [\"Combination_ID\", \"Nodes\"] + [func.__name__ for func in funcs]\n",
    "\n",
    "            # 判断是否需要写表头\n",
    "            write_header = not output_subfolder_csv_path.exists()\n",
    "\n",
    "            with open(output_subfolder_csv_path, mode=\"a\", newline=\"\") as subfile:\n",
    "                csv_writer = csv.DictWriter(subfile, fieldnames=fieldnames)\n",
    "                if write_header:\n",
    "                    csv_writer.writeheader()\n",
    "                csv_writer.writerow(combination_sr)\n",
    "\n",
    "            # 分段退出：每处理 chunk_size 个组合后退出\n",
    "            if progress[\"global_combo_count\"] % chunk_size == 0:\n",
    "                print(f\"\\n已处理 {progress['global_combo_count']} 个组合，准备退出。\")\n",
    "                progress[\"subfolder_idx\"] = s_idx\n",
    "                progress[\"file_idx\"] = f_idx\n",
    "                progress[\"combo_idx\"] = sampled_idx + 1  # 下次从下一个组合继续\n",
    "                with open(state_file, \"wb\") as pf:\n",
    "                    pickle.dump(progress, pf)\n",
    "                exit()\n",
    "\n",
    "            # 每个组合处理完更新进度\n",
    "            progress[\"combo_idx\"] = sampled_idx + 1\n",
    "            progress[\"subfolder_idx\"] = s_idx\n",
    "            progress[\"file_idx\"] = f_idx\n",
    "            with open(state_file, \"wb\") as pf:\n",
    "                pickle.dump(progress, pf)\n",
    "\n",
    "\n",
    "        # 这个文件处理完 => 重置 combo_idx，并 file_idx+1\n",
    "        progress[\"combo_idx\"] = 0\n",
    "        progress[\"file_idx\"] = f_idx + 1\n",
    "        with open(state_file, \"wb\") as pf:\n",
    "            pickle.dump(progress, pf)\n"
   ]
  }
 ],
 "metadata": {
  "kernelspec": {
   "display_name": "base",
   "language": "python",
   "name": "python3"
  },
  "language_info": {
   "codemirror_mode": {
    "name": "ipython",
    "version": 3
   },
   "file_extension": ".py",
   "mimetype": "text/x-python",
   "name": "python",
   "nbconvert_exporter": "python",
   "pygments_lexer": "ipython3",
   "version": "3.12.4"
  }
 },
 "nbformat": 4,
 "nbformat_minor": 5
}
