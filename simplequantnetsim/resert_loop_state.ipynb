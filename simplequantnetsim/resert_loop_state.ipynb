{
 "cells": [
  {
   "cell_type": "code",
   "execution_count": 1,
   "metadata": {},
   "outputs": [],
   "source": [
    "import pickle\n",
    "\n",
    "state_file = \"loop_state.pkl\"\n",
    "\n",
    "progress = {\n",
    "    \"subfolder_idx\": 0,   # 当前处理到第几个子文件夹\n",
    "    \"file_idx\": 0,        # 当前子文件夹内处理到第几个文件\n",
    "    \"combo_idx\": 0,       # 当前文件内处理到第几个组合\n",
    "    \"global_combo_count\": 0  # 全局已处理的组合数\n",
    "}\n",
    "with open(state_file, \"wb\") as pf:\n",
    "    pickle.dump(progress, pf)"
   ]
  }
 ],
 "metadata": {
  "kernelspec": {
   "display_name": "base",
   "language": "python",
   "name": "python3"
  },
  "language_info": {
   "codemirror_mode": {
    "name": "ipython",
    "version": 3
   },
   "file_extension": ".py",
   "mimetype": "text/x-python",
   "name": "python",
   "nbconvert_exporter": "python",
   "pygments_lexer": "ipython3",
   "version": "3.12.4"
  }
 },
 "nbformat": 4,
 "nbformat_minor": 2
}
