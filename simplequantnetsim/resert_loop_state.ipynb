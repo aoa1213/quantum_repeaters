{
 "cells": [
  {
   "cell_type": "code",
   "execution_count": null,
   "metadata": {},
   "outputs": [],
   "source": [
    "\"\"\"\n",
    "Initialize or reset the progress tracking file used for a multi-stage processing loop.\n",
    "\n",
    "This script creates a `loop_state.pkl` file containing a dictionary with the following keys:\n",
    "    - subfolder_idx: index of the current subfolder being processed\n",
    "    - file_idx: index of the current file within the subfolder\n",
    "    - combo_idx: index of the current combination within the file\n",
    "    - global_combo_count: total number of combinations processed so far\n",
    "\n",
    "The state is stored using Python's pickle module for use in resumable batch processing.\n",
    "\"\"\"\n",
    "\n",
    "import pickle\n",
    "\n",
    "state_file = \"loop_state.pkl\"\n",
    "\n",
    "# Initialize/reset progress dictionary\n",
    "progress = {\n",
    "    \"subfolder_idx\": 0,        # Index of the current subfolder being processed\n",
    "    \"file_idx\": 0,             # Index of the current file within the subfolder\n",
    "    \"combo_idx\": 0,            # Index of the current combination within the file\n",
    "    \"global_combo_count\": 0    # Total number of combinations processed so far\n",
    "}\n",
    "\n",
    "# Save the progress state to a file\n",
    "with open(state_file, \"wb\") as pf:\n",
    "    pickle.dump(progress, pf)\n"
   ]
  }
 ],
 "metadata": {
  "kernelspec": {
   "display_name": "base",
   "language": "python",
   "name": "python3"
  },
  "language_info": {
   "codemirror_mode": {
    "name": "ipython",
    "version": 3
   },
   "file_extension": ".py",
   "mimetype": "text/x-python",
   "name": "python",
   "nbconvert_exporter": "python",
   "pygments_lexer": "ipython3",
   "version": "3.12.4"
  }
 },
 "nbformat": 4,
 "nbformat_minor": 2
}
